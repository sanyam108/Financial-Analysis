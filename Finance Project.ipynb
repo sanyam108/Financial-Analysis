{
 "cells": [
  {
   "cell_type": "code",
   "execution_count": 1,
   "metadata": {},
   "outputs": [],
   "source": [
    "import numpy as np \n",
    "import pandas as pd\n",
    "import seaborn as sns\n",
    "import datetime\n",
    "import matplotlib.pyplot as plt\n",
    "%matplotlib inline"
   ]
  },
  {
   "cell_type": "code",
   "execution_count": 2,
   "metadata": {},
   "outputs": [],
   "source": [
    "tickers = ['BAC','C','GS','JPM','MS','WFC']"
   ]
  },
  {
   "cell_type": "code",
   "execution_count": 3,
   "metadata": {},
   "outputs": [],
   "source": [
    "bank_stocks = pd.read_pickle('all_banks')"
   ]
  },
  {
   "cell_type": "code",
   "execution_count": 4,
   "metadata": {},
   "outputs": [
    {
     "data": {
      "text/html": [
       "<div>\n",
       "<style scoped>\n",
       "    .dataframe tbody tr th:only-of-type {\n",
       "        vertical-align: middle;\n",
       "    }\n",
       "\n",
       "    .dataframe tbody tr th {\n",
       "        vertical-align: top;\n",
       "    }\n",
       "\n",
       "    .dataframe thead tr th {\n",
       "        text-align: left;\n",
       "    }\n",
       "\n",
       "    .dataframe thead tr:last-of-type th {\n",
       "        text-align: right;\n",
       "    }\n",
       "</style>\n",
       "<table border=\"1\" class=\"dataframe\">\n",
       "  <thead>\n",
       "    <tr>\n",
       "      <th>Bank Ticker</th>\n",
       "      <th colspan=\"5\" halign=\"left\">BAC</th>\n",
       "      <th colspan=\"5\" halign=\"left\">C</th>\n",
       "      <th>...</th>\n",
       "      <th colspan=\"5\" halign=\"left\">MS</th>\n",
       "      <th colspan=\"5\" halign=\"left\">WFC</th>\n",
       "    </tr>\n",
       "    <tr>\n",
       "      <th>Stock Info</th>\n",
       "      <th>Open</th>\n",
       "      <th>High</th>\n",
       "      <th>Low</th>\n",
       "      <th>Close</th>\n",
       "      <th>Volume</th>\n",
       "      <th>Open</th>\n",
       "      <th>High</th>\n",
       "      <th>Low</th>\n",
       "      <th>Close</th>\n",
       "      <th>Volume</th>\n",
       "      <th>...</th>\n",
       "      <th>Open</th>\n",
       "      <th>High</th>\n",
       "      <th>Low</th>\n",
       "      <th>Close</th>\n",
       "      <th>Volume</th>\n",
       "      <th>Open</th>\n",
       "      <th>High</th>\n",
       "      <th>Low</th>\n",
       "      <th>Close</th>\n",
       "      <th>Volume</th>\n",
       "    </tr>\n",
       "    <tr>\n",
       "      <th>Date</th>\n",
       "      <th></th>\n",
       "      <th></th>\n",
       "      <th></th>\n",
       "      <th></th>\n",
       "      <th></th>\n",
       "      <th></th>\n",
       "      <th></th>\n",
       "      <th></th>\n",
       "      <th></th>\n",
       "      <th></th>\n",
       "      <th></th>\n",
       "      <th></th>\n",
       "      <th></th>\n",
       "      <th></th>\n",
       "      <th></th>\n",
       "      <th></th>\n",
       "      <th></th>\n",
       "      <th></th>\n",
       "      <th></th>\n",
       "      <th></th>\n",
       "      <th></th>\n",
       "    </tr>\n",
       "  </thead>\n",
       "  <tbody>\n",
       "    <tr>\n",
       "      <th>2006-01-03</th>\n",
       "      <td>46.92</td>\n",
       "      <td>47.18</td>\n",
       "      <td>46.15</td>\n",
       "      <td>47.08</td>\n",
       "      <td>16296700</td>\n",
       "      <td>490.0</td>\n",
       "      <td>493.8</td>\n",
       "      <td>481.1</td>\n",
       "      <td>492.9</td>\n",
       "      <td>1537660</td>\n",
       "      <td>...</td>\n",
       "      <td>57.17</td>\n",
       "      <td>58.49</td>\n",
       "      <td>56.74</td>\n",
       "      <td>58.31</td>\n",
       "      <td>5377000</td>\n",
       "      <td>31.60</td>\n",
       "      <td>31.98</td>\n",
       "      <td>31.20</td>\n",
       "      <td>31.90</td>\n",
       "      <td>11016400</td>\n",
       "    </tr>\n",
       "    <tr>\n",
       "      <th>2006-01-04</th>\n",
       "      <td>47.00</td>\n",
       "      <td>47.24</td>\n",
       "      <td>46.45</td>\n",
       "      <td>46.58</td>\n",
       "      <td>17757900</td>\n",
       "      <td>488.6</td>\n",
       "      <td>491.0</td>\n",
       "      <td>483.5</td>\n",
       "      <td>483.8</td>\n",
       "      <td>1871020</td>\n",
       "      <td>...</td>\n",
       "      <td>58.70</td>\n",
       "      <td>59.28</td>\n",
       "      <td>58.35</td>\n",
       "      <td>58.35</td>\n",
       "      <td>7977800</td>\n",
       "      <td>31.80</td>\n",
       "      <td>31.82</td>\n",
       "      <td>31.36</td>\n",
       "      <td>31.53</td>\n",
       "      <td>10871000</td>\n",
       "    </tr>\n",
       "    <tr>\n",
       "      <th>2006-01-05</th>\n",
       "      <td>46.58</td>\n",
       "      <td>46.83</td>\n",
       "      <td>46.32</td>\n",
       "      <td>46.64</td>\n",
       "      <td>14970900</td>\n",
       "      <td>484.4</td>\n",
       "      <td>487.8</td>\n",
       "      <td>484.0</td>\n",
       "      <td>486.2</td>\n",
       "      <td>1143160</td>\n",
       "      <td>...</td>\n",
       "      <td>58.55</td>\n",
       "      <td>58.59</td>\n",
       "      <td>58.02</td>\n",
       "      <td>58.51</td>\n",
       "      <td>5778000</td>\n",
       "      <td>31.50</td>\n",
       "      <td>31.56</td>\n",
       "      <td>31.31</td>\n",
       "      <td>31.50</td>\n",
       "      <td>10158000</td>\n",
       "    </tr>\n",
       "    <tr>\n",
       "      <th>2006-01-06</th>\n",
       "      <td>46.80</td>\n",
       "      <td>46.91</td>\n",
       "      <td>46.35</td>\n",
       "      <td>46.57</td>\n",
       "      <td>12599800</td>\n",
       "      <td>488.8</td>\n",
       "      <td>489.0</td>\n",
       "      <td>482.0</td>\n",
       "      <td>486.2</td>\n",
       "      <td>1370250</td>\n",
       "      <td>...</td>\n",
       "      <td>58.77</td>\n",
       "      <td>58.85</td>\n",
       "      <td>58.05</td>\n",
       "      <td>58.57</td>\n",
       "      <td>6889800</td>\n",
       "      <td>31.58</td>\n",
       "      <td>31.78</td>\n",
       "      <td>31.38</td>\n",
       "      <td>31.68</td>\n",
       "      <td>8403800</td>\n",
       "    </tr>\n",
       "    <tr>\n",
       "      <th>2006-01-09</th>\n",
       "      <td>46.72</td>\n",
       "      <td>46.97</td>\n",
       "      <td>46.36</td>\n",
       "      <td>46.60</td>\n",
       "      <td>15620000</td>\n",
       "      <td>486.0</td>\n",
       "      <td>487.4</td>\n",
       "      <td>483.0</td>\n",
       "      <td>483.9</td>\n",
       "      <td>1680740</td>\n",
       "      <td>...</td>\n",
       "      <td>58.63</td>\n",
       "      <td>59.29</td>\n",
       "      <td>58.62</td>\n",
       "      <td>59.19</td>\n",
       "      <td>4144500</td>\n",
       "      <td>31.68</td>\n",
       "      <td>31.82</td>\n",
       "      <td>31.56</td>\n",
       "      <td>31.68</td>\n",
       "      <td>5619600</td>\n",
       "    </tr>\n",
       "  </tbody>\n",
       "</table>\n",
       "<p>5 rows × 30 columns</p>\n",
       "</div>"
      ],
      "text/plain": [
       "Bank Ticker    BAC                                     C                       \\\n",
       "Stock Info    Open   High    Low  Close    Volume   Open   High    Low  Close   \n",
       "Date                                                                            \n",
       "2006-01-03   46.92  47.18  46.15  47.08  16296700  490.0  493.8  481.1  492.9   \n",
       "2006-01-04   47.00  47.24  46.45  46.58  17757900  488.6  491.0  483.5  483.8   \n",
       "2006-01-05   46.58  46.83  46.32  46.64  14970900  484.4  487.8  484.0  486.2   \n",
       "2006-01-06   46.80  46.91  46.35  46.57  12599800  488.8  489.0  482.0  486.2   \n",
       "2006-01-09   46.72  46.97  46.36  46.60  15620000  486.0  487.4  483.0  483.9   \n",
       "\n",
       "Bank Ticker           ...     MS                                  WFC         \\\n",
       "Stock Info    Volume  ...   Open   High    Low  Close   Volume   Open   High   \n",
       "Date                  ...                                                      \n",
       "2006-01-03   1537660  ...  57.17  58.49  56.74  58.31  5377000  31.60  31.98   \n",
       "2006-01-04   1871020  ...  58.70  59.28  58.35  58.35  7977800  31.80  31.82   \n",
       "2006-01-05   1143160  ...  58.55  58.59  58.02  58.51  5778000  31.50  31.56   \n",
       "2006-01-06   1370250  ...  58.77  58.85  58.05  58.57  6889800  31.58  31.78   \n",
       "2006-01-09   1680740  ...  58.63  59.29  58.62  59.19  4144500  31.68  31.82   \n",
       "\n",
       "Bank Ticker                          \n",
       "Stock Info     Low  Close    Volume  \n",
       "Date                                 \n",
       "2006-01-03   31.20  31.90  11016400  \n",
       "2006-01-04   31.36  31.53  10871000  \n",
       "2006-01-05   31.31  31.50  10158000  \n",
       "2006-01-06   31.38  31.68   8403800  \n",
       "2006-01-09   31.56  31.68   5619600  \n",
       "\n",
       "[5 rows x 30 columns]"
      ]
     },
     "execution_count": 4,
     "metadata": {},
     "output_type": "execute_result"
    }
   ],
   "source": [
    "bank_stocks.head()"
   ]
  },
  {
   "cell_type": "code",
   "execution_count": 5,
   "metadata": {},
   "outputs": [
    {
     "data": {
      "text/plain": [
       "Bank Ticker\n",
       "BAC     54.90\n",
       "C      564.10\n",
       "GS     247.92\n",
       "JPM     70.08\n",
       "MS      89.30\n",
       "WFC     58.52\n",
       "dtype: float64"
      ]
     },
     "execution_count": 5,
     "metadata": {},
     "output_type": "execute_result"
    }
   ],
   "source": [
    "bank_stocks.xs(axis=1,key='Close',level='Stock Info').max()"
   ]
  },
  {
   "cell_type": "code",
   "execution_count": 6,
   "metadata": {},
   "outputs": [],
   "source": [
    "returns = pd.DataFrame()"
   ]
  },
  {
   "cell_type": "code",
   "execution_count": 7,
   "metadata": {},
   "outputs": [],
   "source": [
    "for tick in tickers:\n",
    "    returns[tick + ' Return'] = bank_stocks[tick]['Close'].pct_change()"
   ]
  },
  {
   "cell_type": "code",
   "execution_count": 8,
   "metadata": {},
   "outputs": [
    {
     "data": {
      "text/html": [
       "<div>\n",
       "<style scoped>\n",
       "    .dataframe tbody tr th:only-of-type {\n",
       "        vertical-align: middle;\n",
       "    }\n",
       "\n",
       "    .dataframe tbody tr th {\n",
       "        vertical-align: top;\n",
       "    }\n",
       "\n",
       "    .dataframe thead th {\n",
       "        text-align: right;\n",
       "    }\n",
       "</style>\n",
       "<table border=\"1\" class=\"dataframe\">\n",
       "  <thead>\n",
       "    <tr style=\"text-align: right;\">\n",
       "      <th></th>\n",
       "      <th>BAC Return</th>\n",
       "      <th>C Return</th>\n",
       "      <th>GS Return</th>\n",
       "      <th>JPM Return</th>\n",
       "      <th>MS Return</th>\n",
       "      <th>WFC Return</th>\n",
       "    </tr>\n",
       "    <tr>\n",
       "      <th>Date</th>\n",
       "      <th></th>\n",
       "      <th></th>\n",
       "      <th></th>\n",
       "      <th></th>\n",
       "      <th></th>\n",
       "      <th></th>\n",
       "    </tr>\n",
       "  </thead>\n",
       "  <tbody>\n",
       "    <tr>\n",
       "      <th>2006-01-03</th>\n",
       "      <td>NaN</td>\n",
       "      <td>NaN</td>\n",
       "      <td>NaN</td>\n",
       "      <td>NaN</td>\n",
       "      <td>NaN</td>\n",
       "      <td>NaN</td>\n",
       "    </tr>\n",
       "    <tr>\n",
       "      <th>2006-01-04</th>\n",
       "      <td>-0.010620</td>\n",
       "      <td>-0.018462</td>\n",
       "      <td>-0.013812</td>\n",
       "      <td>-0.014183</td>\n",
       "      <td>0.000686</td>\n",
       "      <td>-0.011599</td>\n",
       "    </tr>\n",
       "    <tr>\n",
       "      <th>2006-01-05</th>\n",
       "      <td>0.001288</td>\n",
       "      <td>0.004961</td>\n",
       "      <td>-0.000393</td>\n",
       "      <td>0.003029</td>\n",
       "      <td>0.002742</td>\n",
       "      <td>-0.000951</td>\n",
       "    </tr>\n",
       "    <tr>\n",
       "      <th>2006-01-06</th>\n",
       "      <td>-0.001501</td>\n",
       "      <td>0.000000</td>\n",
       "      <td>0.014169</td>\n",
       "      <td>0.007046</td>\n",
       "      <td>0.001025</td>\n",
       "      <td>0.005714</td>\n",
       "    </tr>\n",
       "    <tr>\n",
       "      <th>2006-01-09</th>\n",
       "      <td>0.000644</td>\n",
       "      <td>-0.004731</td>\n",
       "      <td>0.012030</td>\n",
       "      <td>0.016242</td>\n",
       "      <td>0.010586</td>\n",
       "      <td>0.000000</td>\n",
       "    </tr>\n",
       "  </tbody>\n",
       "</table>\n",
       "</div>"
      ],
      "text/plain": [
       "            BAC Return  C Return  GS Return  JPM Return  MS Return  WFC Return\n",
       "Date                                                                          \n",
       "2006-01-03         NaN       NaN        NaN         NaN        NaN         NaN\n",
       "2006-01-04   -0.010620 -0.018462  -0.013812   -0.014183   0.000686   -0.011599\n",
       "2006-01-05    0.001288  0.004961  -0.000393    0.003029   0.002742   -0.000951\n",
       "2006-01-06   -0.001501  0.000000   0.014169    0.007046   0.001025    0.005714\n",
       "2006-01-09    0.000644 -0.004731   0.012030    0.016242   0.010586    0.000000"
      ]
     },
     "execution_count": 8,
     "metadata": {},
     "output_type": "execute_result"
    }
   ],
   "source": [
    "returns.head()"
   ]
  },
  {
   "cell_type": "code",
   "execution_count": 9,
   "metadata": {},
   "outputs": [
    {
     "data": {
      "text/plain": [
       "<seaborn.axisgrid.PairGrid at 0x1c18356d4c0>"
      ]
     },
     "execution_count": 9,
     "metadata": {},
     "output_type": "execute_result"
    },
    {
     "data": {
      "image/png": "[encoded data removed]",
      "text/plain": [
       "<Figure size 1080x1080 with 42 Axes>"
      ]
     },
     "metadata": {
      "needs_background": "light"
     },
     "output_type": "display_data"
    }
   ],
   "source": [
    "sns.pairplot(data=returns[1:])"
   ]
  },
  {
   "cell_type": "code",
   "execution_count": 10,
   "metadata": {},
   "outputs": [
    {
     "data": {
      "text/plain": [
       "BAC Return   2009-01-20\n",
       "C Return     2011-05-06\n",
       "GS Return    2009-01-20\n",
       "JPM Return   2009-01-20\n",
       "MS Return    2008-10-09\n",
       "WFC Return   2009-01-20\n",
       "dtype: datetime64[ns]"
      ]
     },
     "execution_count": 10,
     "metadata": {},
     "output_type": "execute_result"
    }
   ],
   "source": [
    "returns.idxmin() #bank stocks worst single day return"
   ]
  },
  {
   "cell_type": "code",
   "execution_count": 11,
   "metadata": {},
   "outputs": [
    {
     "data": {
      "text/plain": [
       "BAC Return   2009-04-09\n",
       "C Return     2011-05-09\n",
       "GS Return    2008-11-24\n",
       "JPM Return   2009-01-21\n",
       "MS Return    2008-10-13\n",
       "WFC Return   2008-07-16\n",
       "dtype: datetime64[ns]"
      ]
     },
     "execution_count": 11,
     "metadata": {},
     "output_type": "execute_result"
    }
   ],
   "source": [
    "returns.idxmax()"
   ]
  },
  {
   "cell_type": "code",
   "execution_count": 12,
   "metadata": {},
   "outputs": [
    {
     "data": {
      "text/plain": [
       "BAC Return    0.036650\n",
       "C Return      0.179969\n",
       "GS Return     0.025346\n",
       "JPM Return    0.027656\n",
       "MS Return     0.037820\n",
       "WFC Return    0.030233\n",
       "dtype: float64"
      ]
     },
     "execution_count": 12,
     "metadata": {},
     "output_type": "execute_result"
    }
   ],
   "source": [
    "returns.std() #more the std more risky the stock is"
   ]
  },
  {
   "cell_type": "code",
   "execution_count": 13,
   "metadata": {},
   "outputs": [
    {
     "data": {
      "text/plain": [
       "BAC Return    0.016163\n",
       "C Return      0.015289\n",
       "GS Return     0.014046\n",
       "JPM Return    0.014017\n",
       "MS Return     0.016249\n",
       "WFC Return    0.012591\n",
       "dtype: float64"
      ]
     },
     "execution_count": 13,
     "metadata": {},
     "output_type": "execute_result"
    }
   ],
   "source": [
    "returns.loc['2015-01-01':'2015-12-31'].std()"
   ]
  },
  {
   "cell_type": "code",
   "execution_count": 14,
   "metadata": {},
   "outputs": [
    {
     "data": {
      "text/plain": [
       "<matplotlib.axes._subplots.AxesSubplot at 0x1c18473fb20>"
      ]
     },
     "execution_count": 14,
     "metadata": {},
     "output_type": "execute_result"
    },
    {
     "data": {
      "image/png": "[encoded data removed]",
      "text/plain": [
       "<Figure size 432x288 with 1 Axes>"
      ]
     },
     "metadata": {},
     "output_type": "display_data"
    }
   ],
   "source": [
    "sns.set_style('whitegrid')\n",
    "sns.distplot(returns.loc['2015-01-01':'2015-12-31']['MS Return'],color='green',bins=50)"
   ]
  },
  {
   "cell_type": "code",
   "execution_count": 15,
   "metadata": {},
   "outputs": [
    {
     "data": {
      "text/plain": [
       "<matplotlib.axes._subplots.AxesSubplot at 0x1c184653c40>"
      ]
     },
     "execution_count": 15,
     "metadata": {},
     "output_type": "execute_result"
    },
    {
     "data": {
      "image/png": "[encoded data removed]",
      "text/plain": [
       "<Figure size 432x288 with 1 Axes>"
      ]
     },
     "metadata": {},
     "output_type": "display_data"
    }
   ],
   "source": [
    "sns.distplot(returns.loc['2008-01-01':'2008-12-31']['C Return'],color='red',bins=50)"
   ]
  },
  {
   "cell_type": "code",
   "execution_count": 16,
   "metadata": {},
   "outputs": [
    {
     "data": {
      "text/html": [
       "        <script type=\"text/javascript\">\n",
       "        window.PlotlyConfig = {MathJaxConfig: 'local'};\n",
       "        if (window.MathJax) {MathJax.Hub.Config({SVG: {font: \"STIX-Web\"}});}\n",
       "        if (typeof require !== 'undefined') {\n",
       "        require.undef(\"plotly\");\n",
       "        requirejs.config({\n",
       "            paths: {\n",
       "                'plotly': ['https://cdn.plot.ly/plotly-latest.min']\n",
       "            }\n",
       "        });\n",
       "        require(['plotly'], function(Plotly) {\n",
       "            window._Plotly = Plotly;\n",
       "        });\n",
       "        }\n",
       "        </script>\n",
       "        "
      ]
     },
     "metadata": {},
     "output_type": "display_data"
    }
   ],
   "source": [
    "import plotly\n",
    "import cufflinks as cf\n",
    "cf.go_offline()"
   ]
  },
  {
   "cell_type": "code",
   "execution_count": 17,
   "metadata": {},
   "outputs": [
    {
     "data": {
      "text/plain": [
       "<matplotlib.legend.Legend at 0x1c186706b80>"
      ]
     },
     "execution_count": 17,
     "metadata": {},
     "output_type": "execute_result"
    },
    {
     "data": {
      "image/png": "[encoded data removed]",
      "text/plain": [
       "<Figure size 864x288 with 1 Axes>"
      ]
     },
     "metadata": {},
     "output_type": "display_data"
    }
   ],
   "source": [
    "bank_stocks.xs(key='Close',axis=1,level='Stock Info').plot(figsize=(12,4),label=tick)\n",
    "plt.legend()"
   ]
  },
  {
   "cell_type": "code",
   "execution_count": 18,
   "metadata": {},
   "outputs": [
    {
     "data": {
      "text/plain": [
       "<matplotlib.legend.Legend at 0x1c1841f1dc0>"
      ]
     },
     "execution_count": 18,
     "metadata": {},
     "output_type": "execute_result"
    },
    {
     "data": {
      "image/png": "[encoded data removed]",
      "text/plain": [
       "<Figure size 432x288 with 1 Axes>"
      ]
     },
     "metadata": {},
     "output_type": "display_data"
    }
   ],
   "source": [
    "for tick in tickers:\n",
    "    bank_stocks[tick]['Close'].plot(label=tick)\n",
    "plt.legend()"
   ]
  },
  {
   "cell_type": "code",
   "execution_count": 19,
   "metadata": {},
   "outputs": [
    {
     "data": {
      "text/plain": [
       "<matplotlib.legend.Legend at 0x1c1868a71c0>"
      ]
     },
     "execution_count": 19,
     "metadata": {},
     "output_type": "execute_result"
    },
    {
     "data": {
      "image/png": "[encoded data removed]",
      "text/plain": [
       "<Figure size 864x432 with 1 Axes>"
      ]
     },
     "metadata": {},
     "output_type": "display_data"
    }
   ],
   "source": [
    "plt.figure(figsize=(12,6))\n",
    "bank_stocks['BAC']['Close'].loc['2008-01-01':'2008-12-31'].rolling(window=30).mean().plot(label='30 DAY AVG')\n",
    "bank_stocks['BAC']['Close'].loc['2008-01-01':'2008-12-31'].plot(label='BAC CLOSE')\n",
    "plt.legend()"
   ]
  },
  {
   "cell_type": "code",
   "execution_count": 20,
   "metadata": {},
   "outputs": [
    {
     "data": {
      "text/plain": [
       "<matplotlib.axes._subplots.AxesSubplot at 0x1c186b72e80>"
      ]
     },
     "execution_count": 20,
     "metadata": {},
     "output_type": "execute_result"
    },
    {
     "data": {
      "image/png": "[encoded data removed]",
      "text/plain": [
       "<Figure size 432x288 with 2 Axes>"
      ]
     },
     "metadata": {},
     "output_type": "display_data"
    }
   ],
   "source": [
    "sns.heatmap(bank_stocks.xs(key='Close',axis=1,level='Stock Info').corr(),annot=True,cmap='coolwarm')"
   ]
  },
  {
   "cell_type": "code",
   "execution_count": 21,
   "metadata": {},
   "outputs": [
    {
     "data": {
      "text/plain": [
       "<seaborn.matrix.ClusterGrid at 0x1c186842730>"
      ]
     },
     "execution_count": 21,
     "metadata": {},
     "output_type": "execute_result"
    },
    {
     "data": {
      "image/png": "[encoded data removed]",
      "text/plain": [
       "<Figure size 720x720 with 4 Axes>"
      ]
     },
     "metadata": {},
     "output_type": "display_data"
    }
   ],
   "source": [
    "sns.clustermap(bank_stocks.xs(key='Close',axis=1,level='Stock Info').corr(),annot=True)"
   ]
  },
  {
   "cell_type": "code",
   "execution_count": 22,
   "metadata": {},
   "outputs": [
    {
     "data": {
      "application/vnd.plotly.v1+json": {
       "config": {
        "linkText": "Export to plot.ly",
        "plotlyServerURL": "https://plot.ly",
        "showLink": true
       },
       "data": [
        {
         "close": [
          17.9,
          17.38,
          16.86,
          16.94,
          17.29,
          16.98,
          16.68,
          16.45,
          16.04,
          15.2,
          15.38,
          15.26,
          15.41,
          16.09,
          15.73,
          15.85,
          15.63,
          15.2,
          15.43,
          15.15,
          15.46,
          15.89,
          15.79,
          15.97,
          16.49,
          16.35,
          16.42,
          16.36,
          16.67,
          16.61,
          16.63,
          16.3,
          16.21,
          16.38,
          16.2,
          16.38,
          16.49,
          16.04,
          15.81,
          16.01,
          16.04,
          15.84,
          16,
          16.22,
          16.17,
          15.79,
          16.11,
          16.09,
          16.09,
          16.13,
          16.09,
          15.98,
          15.61,
          15.84,
          15.72,
          15.61,
          15.41,
          15.42,
          15.31,
          15.52,
          15.39,
          15.41,
          15.54,
          15.51,
          15.46,
          15.61,
          15.71,
          15.72,
          15.8,
          15.82,
          15.64,
          15.79,
          15.56,
          15.57,
          15.5,
          15.74,
          15.69,
          15.64,
          15.56,
          15.65,
          15.98,
          15.93,
          16.11,
          16.44,
          16.35,
          16.29,
          16.24,
          16.45,
          16.49,
          16.43,
          16.47,
          16.52,
          16.35,
          16.51,
          16.77,
          16.74,
          16.73,
          16.75,
          16.5,
          16.74,
          16.67,
          16.5,
          16.55,
          16.72,
          16.93,
          16.78,
          17.19,
          17.08,
          17.31,
          17.59,
          17.49,
          17.49,
          17.47,
          17.55,
          17.37,
          17.38,
          17.17,
          17.47,
          17.67,
          17.49,
          17.37,
          17.41,
          16.89,
          17.02,
          17.22,
          17.03,
          16.94,
          16.69,
          16.25,
          16.48,
          16.7,
          17.02,
          17.13,
          17.68,
          17.95,
          18.1,
          18.12,
          18.08,
          18.45,
          18.18,
          17.9,
          17.67,
          17.88,
          18.16,
          18.13,
          17.88,
          17.77,
          17.8,
          17.87,
          17.81,
          17.75,
          18.04,
          17.79,
          17.52,
          17.62,
          17.7,
          17.77,
          17.69,
          17.46,
          16.72,
          16.1,
          15.29,
          15.26,
          16.06,
          16.44,
          16.36,
          16.34,
          15.58,
          15.85,
          15.94,
          15.65,
          16.16,
          15.9,
          16.04,
          16.04,
          15.96,
          16.31,
          16.33,
          15.86,
          15.56,
          15.7,
          15.57,
          15.72,
          15.55,
          15.89,
          15.47,
          15.35,
          15.58,
          15.55,
          15.38,
          15.69,
          15.69,
          15.75,
          15.75,
          15.58,
          15.52,
          15.52,
          15.64,
          16.19,
          16.12,
          16.14,
          16.2,
          15.9,
          16.16,
          16.52,
          16.51,
          16.4,
          17.28,
          17.09,
          16.78,
          17.06,
          17.18,
          17.01,
          17.31,
          17.95,
          17.68,
          17.85,
          17.75,
          17.37,
          17.2,
          17.43,
          17.42,
          17.84,
          17.69,
          17.65,
          17.47,
          17.47,
          17.44,
          17.48,
          17.43,
          17.81,
          17.62,
          17.3,
          17.8,
          17.54,
          17.19,
          17.1,
          17.2,
          16.73,
          16.8,
          17.42,
          17.75,
          17.3,
          16.76,
          16.97,
          17.08,
          17.34,
          17.27,
          17.13,
          17.28,
          17.05,
          16.83
         ],
         "high": [
          18.03,
          17.81,
          17.44,
          17.18,
          17.34,
          17.38,
          17.03,
          16.89,
          16.22,
          15.76,
          15.4,
          15.63,
          15.57,
          16.19,
          16.19,
          15.93,
          15.79,
          15.73,
          15.49,
          15.47,
          15.49,
          15.93,
          16,
          16.09,
          16.75,
          16.5,
          16.62,
          16.45,
          16.73,
          16.79,
          16.68,
          16.56,
          16.38,
          16.43,
          16.32,
          16.55,
          16.5,
          16.44,
          15.88,
          16.03,
          16.15,
          15.98,
          16.03,
          16.62,
          16.33,
          16.13,
          16.16,
          16.21,
          16.15,
          16.22,
          16.12,
          16.1,
          15.97,
          15.93,
          15.88,
          15.8,
          15.65,
          15.54,
          15.49,
          15.61,
          15.52,
          15.46,
          15.62,
          15.6,
          15.65,
          15.74,
          15.76,
          15.79,
          15.86,
          15.95,
          15.85,
          15.94,
          15.75,
          15.69,
          15.64,
          15.83,
          15.8,
          15.75,
          15.76,
          15.71,
          16.04,
          16.05,
          16.15,
          16.45,
          16.61,
          16.49,
          16.33,
          16.46,
          16.59,
          16.48,
          16.52,
          16.59,
          16.52,
          16.54,
          16.78,
          16.85,
          16.75,
          16.8,
          16.73,
          16.75,
          16.73,
          16.67,
          16.64,
          16.76,
          17.02,
          16.98,
          17.35,
          17.33,
          17.35,
          17.62,
          17.68,
          17.58,
          17.5,
          17.56,
          17.6,
          17.4,
          17.39,
          17.53,
          17.72,
          17.69,
          17.62,
          17.52,
          17.25,
          17.13,
          17.31,
          17.21,
          17.01,
          16.93,
          16.5,
          16.72,
          16.84,
          17.05,
          17.15,
          17.85,
          18.07,
          18.16,
          18.23,
          18.17,
          18.48,
          18.43,
          18.23,
          17.78,
          17.89,
          18.2,
          18.29,
          18.06,
          17.96,
          17.93,
          18.04,
          17.98,
          18.07,
          18.05,
          17.97,
          17.64,
          17.69,
          17.7,
          17.81,
          17.9,
          17.69,
          17.2,
          16.66,
          15.98,
          16.2,
          16.06,
          16.45,
          16.44,
          16.38,
          16.05,
          15.86,
          16.19,
          15.86,
          16.16,
          16.46,
          16.11,
          16.06,
          16.07,
          16.39,
          16.39,
          16.48,
          15.71,
          15.75,
          15.58,
          15.85,
          15.62,
          16.02,
          15.82,
          15.53,
          15.6,
          15.64,
          15.38,
          15.79,
          15.82,
          15.93,
          15.78,
          15.82,
          15.62,
          15.59,
          15.92,
          16.28,
          16.29,
          16.21,
          16.29,
          16.29,
          16.2,
          16.55,
          16.55,
          16.47,
          17.31,
          17.44,
          17.18,
          17.14,
          17.26,
          17.31,
          17.37,
          18.09,
          18.08,
          17.94,
          17.99,
          17.63,
          17.31,
          17.46,
          17.6,
          17.87,
          17.85,
          17.83,
          17.73,
          17.57,
          17.57,
          17.5,
          17.58,
          17.81,
          17.89,
          17.76,
          17.83,
          17.8,
          17.46,
          17.38,
          17.41,
          17.06,
          16.89,
          17.49,
          17.78,
          17.83,
          17.26,
          17.03,
          17.11,
          17.34,
          17.38,
          17.23,
          17.35,
          17.24,
          17.07
         ],
         "low": [
          17.68,
          17.29,
          16.78,
          16.87,
          17.1,
          16.95,
          16.66,
          16.32,
          15.77,
          15.15,
          14.97,
          15.2,
          15.15,
          15.43,
          15.73,
          15.7,
          15.48,
          15.18,
          15.2,
          15.15,
          15.12,
          15.61,
          15.75,
          15.9,
          16.22,
          16.25,
          16.35,
          16.21,
          16.37,
          16.54,
          16.37,
          16.24,
          16.08,
          16.01,
          16.1,
          16.25,
          16.32,
          15.9,
          15.62,
          15.72,
          15.96,
          15.76,
          15.74,
          16.16,
          16.12,
          15.79,
          15.87,
          15.9,
          15.94,
          15.85,
          15.96,
          15.91,
          15.61,
          15.64,
          15.72,
          15.61,
          15.4,
          15.26,
          15.27,
          15.4,
          15.38,
          15.25,
          15.43,
          15.34,
          15.45,
          15.5,
          15.53,
          15.6,
          15.74,
          15.71,
          15.59,
          15.58,
          15.5,
          15.56,
          15.43,
          15.49,
          15.68,
          15.61,
          15.56,
          15.5,
          15.57,
          15.79,
          15.92,
          16.12,
          16.33,
          16.08,
          16.09,
          16.22,
          16.43,
          16.35,
          16.36,
          16.45,
          16.3,
          16.31,
          16.58,
          16.63,
          16.56,
          16.7,
          16.43,
          16.54,
          16.58,
          16.47,
          16.47,
          16.5,
          16.74,
          16.72,
          16.96,
          17.05,
          17,
          17.36,
          17.44,
          17.36,
          17.25,
          17.37,
          17.3,
          17.22,
          17.12,
          17.35,
          17.56,
          17.45,
          17.35,
          17.35,
          16.86,
          16.85,
          17.09,
          16.89,
          16.71,
          16.34,
          16.22,
          16.45,
          16.66,
          16.9,
          16.86,
          17.49,
          17.86,
          17.89,
          18.08,
          18.02,
          18.03,
          18.08,
          17.84,
          17.5,
          17.6,
          17.92,
          18.05,
          17.86,
          17.64,
          17.71,
          17.8,
          17.77,
          17.6,
          17.86,
          17.72,
          17.02,
          17.44,
          17.54,
          17.56,
          17.65,
          17.44,
          16.72,
          16.1,
          14.6,
          15.25,
          15.34,
          16.09,
          16.2,
          16.18,
          15.46,
          15.57,
          15.87,
          15.5,
          15.9,
          15.83,
          15.81,
          15.9,
          15.9,
          16.01,
          16.09,
          15.78,
          15.5,
          15.57,
          15.45,
          15.58,
          15.4,
          15.81,
          15.38,
          15.25,
          15.32,
          15.36,
          14.63,
          15.44,
          15.57,
          15.57,
          15.51,
          15.5,
          15.43,
          15.4,
          15.55,
          15.72,
          16.03,
          15.98,
          16.1,
          15.9,
          16,
          16.25,
          16.34,
          16.3,
          16.44,
          16.97,
          16.76,
          16.87,
          16.99,
          16.96,
          17.03,
          17.76,
          17.56,
          17.56,
          17.68,
          17.35,
          17.09,
          17.01,
          17.34,
          17.43,
          17.62,
          17.59,
          17.46,
          17.25,
          17.41,
          17.33,
          17.42,
          17.48,
          17.55,
          17.25,
          17.38,
          17.44,
          17.13,
          16.87,
          16.96,
          16.64,
          16.5,
          16.99,
          17.23,
          17.3,
          16.76,
          16.77,
          16.85,
          17.1,
          17.22,
          16.98,
          17.16,
          17.04,
          16.83
         ],
         "open": [
          17.99,
          17.78,
          17.42,
          17.14,
          17.16,
          17.38,
          17.02,
          16.82,
          16,
          15.59,
          15.16,
          15.59,
          15.28,
          15.55,
          16.04,
          15.72,
          15.55,
          15.72,
          15.31,
          15.23,
          15.27,
          15.62,
          15.79,
          15.98,
          16.3,
          16.35,
          16.56,
          16.33,
          16.41,
          16.73,
          16.52,
          16.55,
          16.21,
          16.14,
          16.32,
          16.27,
          16.37,
          16.42,
          15.78,
          15.79,
          16.03,
          15.96,
          15.92,
          16.41,
          16.31,
          16.04,
          15.92,
          16.05,
          16.08,
          16.11,
          16.07,
          16.01,
          15.96,
          15.7,
          15.82,
          15.73,
          15.63,
          15.38,
          15.48,
          15.42,
          15.5,
          15.42,
          15.43,
          15.39,
          15.53,
          15.51,
          15.63,
          15.69,
          15.78,
          15.88,
          15.7,
          15.64,
          15.71,
          15.62,
          15.6,
          15.55,
          15.72,
          15.71,
          15.63,
          15.58,
          15.6,
          16,
          16,
          16.14,
          16.42,
          16.36,
          16.23,
          16.32,
          16.45,
          16.46,
          16.44,
          16.53,
          16.52,
          16.31,
          16.59,
          16.78,
          16.71,
          16.72,
          16.73,
          16.56,
          16.72,
          16.66,
          16.58,
          16.52,
          16.79,
          16.87,
          17.04,
          17.27,
          17.05,
          17.39,
          17.62,
          17.45,
          17.33,
          17.46,
          17.59,
          17.35,
          17.28,
          17.36,
          17.56,
          17.53,
          17.57,
          17.48,
          17.13,
          17.08,
          17.25,
          17.16,
          16.78,
          16.9,
          16.42,
          16.53,
          16.8,
          16.97,
          16.93,
          17.53,
          17.91,
          17.96,
          18.15,
          18.11,
          18.03,
          18.39,
          18.2,
          17.66,
          17.79,
          17.95,
          18.2,
          18.03,
          17.91,
          17.79,
          17.93,
          17.91,
          17.92,
          17.87,
          17.85,
          17.62,
          17.56,
          17.57,
          17.61,
          17.72,
          17.55,
          17.19,
          16.2,
          15.02,
          16.2,
          15.81,
          16.38,
          16.4,
          16.33,
          15.95,
          15.82,
          15.97,
          15.79,
          15.96,
          16.37,
          15.87,
          15.99,
          15.97,
          16.04,
          16.35,
          16.29,
          15.68,
          15.67,
          15.49,
          15.6,
          15.54,
          15.88,
          15.79,
          15.5,
          15.55,
          15.52,
          15.08,
          15.45,
          15.68,
          15.78,
          15.72,
          15.75,
          15.6,
          15.45,
          15.77,
          15.81,
          16.28,
          16,
          16.16,
          16.26,
          16,
          16.29,
          16.52,
          16.4,
          16.45,
          17.16,
          17.18,
          16.9,
          17.01,
          17.3,
          17.03,
          17.84,
          18.03,
          17.63,
          17.99,
          17.58,
          17.13,
          17.13,
          17.5,
          17.43,
          17.78,
          17.81,
          17.62,
          17.26,
          17.51,
          17.46,
          17.48,
          17.52,
          17.88,
          17.68,
          17.44,
          17.79,
          17.39,
          17.11,
          17.15,
          16.97,
          16.76,
          17.02,
          17.65,
          17.8,
          17.19,
          16.98,
          17.05,
          17.16,
          17.32,
          17.22,
          17.25,
          17.2,
          17.01
         ],
         "showlegend": false,
         "type": "candlestick",
         "x": [
          "2015-01-02",
          "2015-01-05",
          "2015-01-06",
          "2015-01-07",
          "2015-01-08",
          "2015-01-09",
          "2015-01-12",
          "2015-01-13",
          "2015-01-14",
          "2015-01-15",
          "2015-01-16",
          "2015-01-20",
          "2015-01-21",
          "2015-01-22",
          "2015-01-23",
          "2015-01-26",
          "2015-01-27",
          "2015-01-28",
          "2015-01-29",
          "2015-01-30",
          "2015-02-02",
          "2015-02-03",
          "2015-02-04",
          "2015-02-05",
          "2015-02-06",
          "2015-02-09",
          "2015-02-10",
          "2015-02-11",
          "2015-02-12",
          "2015-02-13",
          "2015-02-17",
          "2015-02-18",
          "2015-02-19",
          "2015-02-20",
          "2015-02-23",
          "2015-02-24",
          "2015-02-25",
          "2015-02-26",
          "2015-02-27",
          "2015-03-02",
          "2015-03-03",
          "2015-03-04",
          "2015-03-05",
          "2015-03-06",
          "2015-03-09",
          "2015-03-10",
          "2015-03-11",
          "2015-03-12",
          "2015-03-13",
          "2015-03-16",
          "2015-03-17",
          "2015-03-18",
          "2015-03-19",
          "2015-03-20",
          "2015-03-23",
          "2015-03-24",
          "2015-03-25",
          "2015-03-26",
          "2015-03-27",
          "2015-03-30",
          "2015-03-31",
          "2015-04-01",
          "2015-04-02",
          "2015-04-06",
          "2015-04-07",
          "2015-04-08",
          "2015-04-09",
          "2015-04-10",
          "2015-04-13",
          "2015-04-14",
          "2015-04-15",
          "2015-04-16",
          "2015-04-17",
          "2015-04-20",
          "2015-04-21",
          "2015-04-22",
          "2015-04-23",
          "2015-04-24",
          "2015-04-27",
          "2015-04-28",
          "2015-04-29",
          "2015-04-30",
          "2015-05-01",
          "2015-05-04",
          "2015-05-05",
          "2015-05-06",
          "2015-05-07",
          "2015-05-08",
          "2015-05-11",
          "2015-05-12",
          "2015-05-13",
          "2015-05-14",
          "2015-05-15",
          "2015-05-18",
          "2015-05-19",
          "2015-05-20",
          "2015-05-21",
          "2015-05-22",
          "2015-05-26",
          "2015-05-27",
          "2015-05-28",
          "2015-05-29",
          "2015-06-01",
          "2015-06-02",
          "2015-06-03",
          "2015-06-04",
          "2015-06-05",
          "2015-06-08",
          "2015-06-09",
          "2015-06-10",
          "2015-06-11",
          "2015-06-12",
          "2015-06-15",
          "2015-06-16",
          "2015-06-17",
          "2015-06-18",
          "2015-06-19",
          "2015-06-22",
          "2015-06-23",
          "2015-06-24",
          "2015-06-25",
          "2015-06-26",
          "2015-06-29",
          "2015-06-30",
          "2015-07-01",
          "2015-07-02",
          "2015-07-06",
          "2015-07-07",
          "2015-07-08",
          "2015-07-09",
          "2015-07-10",
          "2015-07-13",
          "2015-07-14",
          "2015-07-15",
          "2015-07-16",
          "2015-07-17",
          "2015-07-20",
          "2015-07-21",
          "2015-07-22",
          "2015-07-23",
          "2015-07-24",
          "2015-07-27",
          "2015-07-28",
          "2015-07-29",
          "2015-07-30",
          "2015-07-31",
          "2015-08-03",
          "2015-08-04",
          "2015-08-05",
          "2015-08-06",
          "2015-08-07",
          "2015-08-10",
          "2015-08-11",
          "2015-08-12",
          "2015-08-13",
          "2015-08-14",
          "2015-08-17",
          "2015-08-18",
          "2015-08-19",
          "2015-08-20",
          "2015-08-21",
          "2015-08-24",
          "2015-08-25",
          "2015-08-26",
          "2015-08-27",
          "2015-08-28",
          "2015-08-31",
          "2015-09-01",
          "2015-09-02",
          "2015-09-03",
          "2015-09-04",
          "2015-09-08",
          "2015-09-09",
          "2015-09-10",
          "2015-09-11",
          "2015-09-14",
          "2015-09-15",
          "2015-09-16",
          "2015-09-17",
          "2015-09-18",
          "2015-09-21",
          "2015-09-22",
          "2015-09-23",
          "2015-09-24",
          "2015-09-25",
          "2015-09-28",
          "2015-09-29",
          "2015-09-30",
          "2015-10-01",
          "2015-10-02",
          "2015-10-05",
          "2015-10-06",
          "2015-10-07",
          "2015-10-08",
          "2015-10-09",
          "2015-10-12",
          "2015-10-13",
          "2015-10-14",
          "2015-10-15",
          "2015-10-16",
          "2015-10-19",
          "2015-10-20",
          "2015-10-21",
          "2015-10-22",
          "2015-10-23",
          "2015-10-26",
          "2015-10-27",
          "2015-10-28",
          "2015-10-29",
          "2015-10-30",
          "2015-11-02",
          "2015-11-03",
          "2015-11-04",
          "2015-11-05",
          "2015-11-06",
          "2015-11-09",
          "2015-11-10",
          "2015-11-11",
          "2015-11-12",
          "2015-11-13",
          "2015-11-16",
          "2015-11-17",
          "2015-11-18",
          "2015-11-19",
          "2015-11-20",
          "2015-11-23",
          "2015-11-24",
          "2015-11-25",
          "2015-11-27",
          "2015-11-30",
          "2015-12-01",
          "2015-12-02",
          "2015-12-03",
          "2015-12-04",
          "2015-12-07",
          "2015-12-08",
          "2015-12-09",
          "2015-12-10",
          "2015-12-11",
          "2015-12-14",
          "2015-12-15",
          "2015-12-16",
          "2015-12-17",
          "2015-12-18",
          "2015-12-21",
          "2015-12-22",
          "2015-12-23",
          "2015-12-24",
          "2015-12-28",
          "2015-12-29",
          "2015-12-30",
          "2015-12-31"
         ],
         "yaxis": "y2"
        }
       ],
       "layout": {
        "legend": {
         "bgcolor": "#F5F6F9",
         "font": {
          "color": "#4D5663"
         }
        },
        "paper_bgcolor": "#F5F6F9",
        "plot_bgcolor": "#F5F6F9",
        "template": {
         "data": {
          "bar": [
           {
            "error_x": {
             "color": "#2a3f5f"
            },
            "error_y": {
             "color": "#2a3f5f"
            },
            "marker": {
             "line": {
              "color": "#E5ECF6",
              "width": 0.5
             }
            },
            "type": "bar"
           }
          ],
          "barpolar": [
           {
            "marker": {
             "line": {
              "color": "#E5ECF6",
              "width": 0.5
             }
            },
            "type": "barpolar"
           }
          ],
          "carpet": [
           {
            "aaxis": {
             "endlinecolor": "#2a3f5f",
             "gridcolor": "white",
             "linecolor": "white",
             "minorgridcolor": "white",
             "startlinecolor": "#2a3f5f"
            },
            "baxis": {
             "endlinecolor": "#2a3f5f",
             "gridcolor": "white",
             "linecolor": "white",
             "minorgridcolor": "white",
             "startlinecolor": "#2a3f5f"
            },
            "type": "carpet"
           }
          ],
          "choropleth": [
           {
            "colorbar": {
             "outlinewidth": 0,
             "ticks": ""
            },
            "type": "choropleth"
           }
          ],
          "contour": [
           {
            "colorbar": {
             "outlinewidth": 0,
             "ticks": ""
            },
            "colorscale": [
             [
              0,
              "#0d0887"
             ],
             [
              0.1111111111111111,
              "#46039f"
             ],
             [
              0.2222222222222222,
              "#7201a8"
             ],
             [
              0.3333333333333333,
              "#9c179e"
             ],
             [
              0.4444444444444444,
              "#bd3786"
             ],
             [
              0.5555555555555556,
              "#d8576b"
             ],
             [
              0.6666666666666666,
              "#ed7953"
             ],
             [
              0.7777777777777778,
              "#fb9f3a"
             ],
             [
              0.8888888888888888,
              "#fdca26"
             ],
             [
              1,
              "#f0f921"
             ]
            ],
            "type": "contour"
           }
          ],
          "contourcarpet": [
           {
            "colorbar": {
             "outlinewidth": 0,
             "ticks": ""
            },
            "type": "contourcarpet"
           }
          ],
          "heatmap": [
           {
            "colorbar": {
             "outlinewidth": 0,
             "ticks": ""
            },
            "colorscale": [
             [
              0,
              "#0d0887"
             ],
             [
              0.1111111111111111,
              "#46039f"
             ],
             [
              0.2222222222222222,
              "#7201a8"
             ],
             [
              0.3333333333333333,
              "#9c179e"
             ],
             [
              0.4444444444444444,
              "#bd3786"
             ],
             [
              0.5555555555555556,
              "#d8576b"
             ],
             [
              0.6666666666666666,
              "#ed7953"
             ],
             [
              0.7777777777777778,
              "#fb9f3a"
             ],
             [
              0.8888888888888888,
              "#fdca26"
             ],
             [
              1,
              "#f0f921"
             ]
            ],
            "type": "heatmap"
           }
          ],
          "heatmapgl": [
           {
            "colorbar": {
             "outlinewidth": 0,
             "ticks": ""
            },
            "colorscale": [
             [
              0,
              "#0d0887"
             ],
             [
              0.1111111111111111,
              "#46039f"
             ],
             [
              0.2222222222222222,
              "#7201a8"
             ],
             [
              0.3333333333333333,
              "#9c179e"
             ],
             [
              0.4444444444444444,
              "#bd3786"
             ],
             [
              0.5555555555555556,
              "#d8576b"
             ],
             [
              0.6666666666666666,
              "#ed7953"
             ],
             [
              0.7777777777777778,
              "#fb9f3a"
             ],
             [
              0.8888888888888888,
              "#fdca26"
             ],
             [
              1,
              "#f0f921"
             ]
            ],
            "type": "heatmapgl"
           }
          ],
          "histogram": [
           {
            "marker": {
             "colorbar": {
              "outlinewidth": 0,
              "ticks": ""
             }
            },
            "type": "histogram"
           }
          ],
          "histogram2d": [
           {
            "colorbar": {
             "outlinewidth": 0,
             "ticks": ""
            },
            "colorscale": [
             [
              0,
              "#0d0887"
             ],
             [
              0.1111111111111111,
              "#46039f"
             ],
             [
              0.2222222222222222,
              "#7201a8"
             ],
             [
              0.3333333333333333,
              "#9c179e"
             ],
             [
              0.4444444444444444,
              "#bd3786"
             ],
             [
              0.5555555555555556,
              "#d8576b"
             ],
             [
              0.6666666666666666,
              "#ed7953"
             ],
             [
              0.7777777777777778,
              "#fb9f3a"
             ],
             [
              0.8888888888888888,
              "#fdca26"
             ],
             [
              1,
              "#f0f921"
             ]
            ],
            "type": "histogram2d"
           }
          ],
          "histogram2dcontour": [
           {
            "colorbar": {
             "outlinewidth": 0,
             "ticks": ""
            },
            "colorscale": [
             [
              0,
              "#0d0887"
             ],
             [
              0.1111111111111111,
              "#46039f"
             ],
             [
              0.2222222222222222,
              "#7201a8"
             ],
             [
              0.3333333333333333,
              "#9c179e"
             ],
             [
              0.4444444444444444,
              "#bd3786"
             ],
             [
              0.5555555555555556,
              "#d8576b"
             ],
             [
              0.6666666666666666,
              "#ed7953"
             ],
             [
              0.7777777777777778,
              "#fb9f3a"
             ],
             [
              0.8888888888888888,
              "#fdca26"
             ],
             [
              1,
              "#f0f921"
             ]
            ],
            "type": "histogram2dcontour"
           }
          ],
          "mesh3d": [
           {
            "colorbar": {
             "outlinewidth": 0,
             "ticks": ""
            },
            "type": "mesh3d"
           }
          ],
          "parcoords": [
           {
            "line": {
             "colorbar": {
              "outlinewidth": 0,
              "ticks": ""
             }
            },
            "type": "parcoords"
           }
          ],
          "pie": [
           {
            "automargin": true,
            "type": "pie"
           }
          ],
          "scatter": [
           {
            "marker": {
             "colorbar": {
              "outlinewidth": 0,
              "ticks": ""
             }
            },
            "type": "scatter"
           }
          ],
          "scatter3d": [
           {
            "line": {
             "colorbar": {
              "outlinewidth": 0,
              "ticks": ""
             }
            },
            "marker": {
             "colorbar": {
              "outlinewidth": 0,
              "ticks": ""
             }
            },
            "type": "scatter3d"
           }
          ],
          "scattercarpet": [
           {
            "marker": {
             "colorbar": {
              "outlinewidth": 0,
              "ticks": ""
             }
            },
            "type": "scattercarpet"
           }
          ],
          "scattergeo": [
           {
            "marker": {
             "colorbar": {
              "outlinewidth": 0,
              "ticks": ""
             }
            },
            "type": "scattergeo"
           }
          ],
          "scattergl": [
           {
            "marker": {
             "colorbar": {
              "outlinewidth": 0,
              "ticks": ""
             }
            },
            "type": "scattergl"
           }
          ],
          "scattermapbox": [
           {
            "marker": {
             "colorbar": {
              "outlinewidth": 0,
              "ticks": ""
             }
            },
            "type": "scattermapbox"
           }
          ],
          "scatterpolar": [
           {
            "marker": {
             "colorbar": {
              "outlinewidth": 0,
              "ticks": ""
             }
            },
            "type": "scatterpolar"
           }
          ],
          "scatterpolargl": [
           {
            "marker": {
             "colorbar": {
              "outlinewidth": 0,
              "ticks": ""
             }
            },
            "type": "scatterpolargl"
           }
          ],
          "scatterternary": [
           {
            "marker": {
             "colorbar": {
              "outlinewidth": 0,
              "ticks": ""
             }
            },
            "type": "scatterternary"
           }
          ],
          "surface": [
           {
            "colorbar": {
             "outlinewidth": 0,
             "ticks": ""
            },
            "colorscale": [
             [
              0,
              "#0d0887"
             ],
             [
              0.1111111111111111,
              "#46039f"
             ],
             [
              0.2222222222222222,
              "#7201a8"
             ],
             [
              0.3333333333333333,
              "#9c179e"
             ],
             [
              0.4444444444444444,
              "#bd3786"
             ],
             [
              0.5555555555555556,
              "#d8576b"
             ],
             [
              0.6666666666666666,
              "#ed7953"
             ],
             [
              0.7777777777777778,
              "#fb9f3a"
             ],
             [
              0.8888888888888888,
              "#fdca26"
             ],
             [
              1,
              "#f0f921"
             ]
            ],
            "type": "surface"
           }
          ],
          "table": [
           {
            "cells": {
             "fill": {
              "color": "#EBF0F8"
             },
             "line": {
              "color": "white"
             }
            },
            "header": {
             "fill": {
              "color": "#C8D4E3"
             },
             "line": {
              "color": "white"
             }
            },
            "type": "table"
           }
          ]
         },
         "layout": {
          "annotationdefaults": {
           "arrowcolor": "#2a3f5f",
           "arrowhead": 0,
           "arrowwidth": 1
          },
          "autotypenumbers": "strict",
          "coloraxis": {
           "colorbar": {
            "outlinewidth": 0,
            "ticks": ""
           }
          },
          "colorscale": {
           "diverging": [
            [
             0,
             "#8e0152"
            ],
            [
             0.1,
             "#c51b7d"
            ],
            [
             0.2,
             "#de77ae"
            ],
            [
             0.3,
             "#f1b6da"
            ],
            [
             0.4,
             "#fde0ef"
            ],
            [
             0.5,
             "#f7f7f7"
            ],
            [
             0.6,
             "#e6f5d0"
            ],
            [
             0.7,
             "#b8e186"
            ],
            [
             0.8,
             "#7fbc41"
            ],
            [
             0.9,
             "#4d9221"
            ],
            [
             1,
             "#276419"
            ]
           ],
           "sequential": [
            [
             0,
             "#0d0887"
            ],
            [
             0.1111111111111111,
             "#46039f"
            ],
            [
             0.2222222222222222,
             "#7201a8"
            ],
            [
             0.3333333333333333,
             "#9c179e"
            ],
            [
             0.4444444444444444,
             "#bd3786"
            ],
            [
             0.5555555555555556,
             "#d8576b"
            ],
            [
             0.6666666666666666,
             "#ed7953"
            ],
            [
             0.7777777777777778,
             "#fb9f3a"
            ],
            [
             0.8888888888888888,
             "#fdca26"
            ],
            [
             1,
             "#f0f921"
            ]
           ],
           "sequentialminus": [
            [
             0,
             "#0d0887"
            ],
            [
             0.1111111111111111,
             "#46039f"
            ],
            [
             0.2222222222222222,
             "#7201a8"
            ],
            [
             0.3333333333333333,
             "#9c179e"
            ],
            [
             0.4444444444444444,
             "#bd3786"
            ],
            [
             0.5555555555555556,
             "#d8576b"
            ],
            [
             0.6666666666666666,
             "#ed7953"
            ],
            [
             0.7777777777777778,
             "#fb9f3a"
            ],
            [
             0.8888888888888888,
             "#fdca26"
            ],
            [
             1,
             "#f0f921"
            ]
           ]
          },
          "colorway": [
           "#636efa",
           "#EF553B",
           "#00cc96",
           "#ab63fa",
           "#FFA15A",
           "#19d3f3",
           "#FF6692",
           "#B6E880",
           "#FF97FF",
           "#FECB52"
          ],
          "font": {
           "color": "#2a3f5f"
          },
          "geo": {
           "bgcolor": "white",
           "lakecolor": "white",
           "landcolor": "#E5ECF6",
           "showlakes": true,
           "showland": true,
           "subunitcolor": "white"
          },
          "hoverlabel": {
           "align": "left"
          },
          "hovermode": "closest",
          "mapbox": {
           "style": "light"
          },
          "paper_bgcolor": "white",
          "plot_bgcolor": "#E5ECF6",
          "polar": {
           "angularaxis": {
            "gridcolor": "white",
            "linecolor": "white",
            "ticks": ""
           },
           "bgcolor": "#E5ECF6",
           "radialaxis": {
            "gridcolor": "white",
            "linecolor": "white",
            "ticks": ""
           }
          },
          "scene": {
           "xaxis": {
            "backgroundcolor": "#E5ECF6",
            "gridcolor": "white",
            "gridwidth": 2,
            "linecolor": "white",
            "showbackground": true,
            "ticks": "",
            "zerolinecolor": "white"
           },
           "yaxis": {
            "backgroundcolor": "#E5ECF6",
            "gridcolor": "white",
            "gridwidth": 2,
            "linecolor": "white",
            "showbackground": true,
            "ticks": "",
            "zerolinecolor": "white"
           },
           "zaxis": {
            "backgroundcolor": "#E5ECF6",
            "gridcolor": "white",
            "gridwidth": 2,
            "linecolor": "white",
            "showbackground": true,
            "ticks": "",
            "zerolinecolor": "white"
           }
          },
          "shapedefaults": {
           "line": {
            "color": "#2a3f5f"
           }
          },
          "ternary": {
           "aaxis": {
            "gridcolor": "white",
            "linecolor": "white",
            "ticks": ""
           },
           "baxis": {
            "gridcolor": "white",
            "linecolor": "white",
            "ticks": ""
           },
           "bgcolor": "#E5ECF6",
           "caxis": {
            "gridcolor": "white",
            "linecolor": "white",
            "ticks": ""
           }
          },
          "title": {
           "x": 0.05
          },
          "xaxis": {
           "automargin": true,
           "gridcolor": "white",
           "linecolor": "white",
           "ticks": "",
           "title": {
            "standoff": 15
           },
           "zerolinecolor": "white",
           "zerolinewidth": 2
          },
          "yaxis": {
           "automargin": true,
           "gridcolor": "white",
           "linecolor": "white",
           "ticks": "",
           "title": {
            "standoff": 15
           },
           "zerolinecolor": "white",
           "zerolinewidth": 2
          }
         }
        },
        "title": {
         "font": {
          "color": "#4D5663"
         }
        },
        "xaxis": {
         "gridcolor": "#E1E5ED",
         "rangeslider": {
          "visible": false
         },
         "showgrid": true,
         "tickfont": {
          "color": "#4D5663"
         },
         "title": {
          "font": {
           "color": "#4D5663"
          },
          "text": ""
         },
         "zerolinecolor": "#E1E5ED"
        },
        "yaxis": {
         "gridcolor": "#E1E5ED",
         "showgrid": true,
         "showticklabels": false,
         "tickfont": {
          "color": "#4D5663"
         },
         "title": {
          "font": {
           "color": "#4D5663"
          },
          "text": ""
         },
         "zerolinecolor": "#E1E5ED"
        },
        "yaxis2": {
         "gridcolor": "#E1E5ED",
         "showgrid": true,
         "tickfont": {
          "color": "#4D5663"
         },
         "title": {
          "font": {
           "color": "#4D5663"
          },
          "text": ""
         },
         "zerolinecolor": "#E1E5ED"
        }
       }
      },
      "text/html": [
       "<div>                            <div id=\"aa63fa67-c5d0-4bf0-807d-4e86c97674a4\" class=\"plotly-graph-div\" style=\"height:525px; width:100%;\"></div>            <script type=\"text/javascript\">                require([\"plotly\"], function(Plotly) {                    window.PLOTLYENV=window.PLOTLYENV || {};\n",
       "                    window.PLOTLYENV.BASE_URL='https://plot.ly';                                    if (document.getElementById(\"aa63fa67-c5d0-4bf0-807d-4e86c97674a4\")) {                    Plotly.newPlot(                        \"aa63fa67-c5d0-4bf0-807d-4e86c97674a4\",                        [{\"close\": [17.9, 17.38, 16.86, 16.94, 17.29, 16.98, 16.68, 16.45, 16.04, 15.2, 15.38, 15.26, 15.41, 16.09, 15.73, 15.85, 15.63, 15.2, 15.43, 15.15, 15.46, 15.89, 15.79, 15.97, 16.49, 16.35, 16.42, 16.36, 16.67, 16.61, 16.63, 16.3, 16.21, 16.38, 16.2, 16.38, 16.49, 16.04, 15.81, 16.01, 16.04, 15.84, 16.0, 16.22, 16.17, 15.79, 16.11, 16.09, 16.09, 16.13, 16.09, 15.98, 15.61, 15.84, 15.72, 15.61, 15.41, 15.42, 15.31, 15.52, 15.39, 15.41, 15.54, 15.51, 15.46, 15.61, 15.71, 15.72, 15.8, 15.82, 15.64, 15.79, 15.56, 15.57, 15.5, 15.74, 15.69, 15.64, 15.56, 15.65, 15.98, 15.93, 16.11, 16.44, 16.35, 16.29, 16.24, 16.45, 16.49, 16.43, 16.47, 16.52, 16.35, 16.51, 16.77, 16.74, 16.73, 16.75, 16.5, 16.74, 16.67, 16.5, 16.55, 16.72, 16.93, 16.78, 17.19, 17.08, 17.31, 17.59, 17.49, 17.49, 17.47, 17.55, 17.37, 17.38, 17.17, 17.47, 17.67, 17.49, 17.37, 17.41, 16.89, 17.02, 17.22, 17.03, 16.94, 16.69, 16.25, 16.48, 16.7, 17.02, 17.13, 17.68, 17.95, 18.1, 18.12, 18.08, 18.45, 18.18, 17.9, 17.67, 17.88, 18.16, 18.13, 17.88, 17.77, 17.8, 17.87, 17.81, 17.75, 18.04, 17.79, 17.52, 17.62, 17.7, 17.77, 17.69, 17.46, 16.72, 16.1, 15.29, 15.26, 16.06, 16.44, 16.36, 16.34, 15.58, 15.85, 15.94, 15.65, 16.16, 15.9, 16.04, 16.04, 15.96, 16.31, 16.33, 15.86, 15.56, 15.7, 15.57, 15.72, 15.55, 15.89, 15.47, 15.35, 15.58, 15.55, 15.38, 15.69, 15.69, 15.75, 15.75, 15.58, 15.52, 15.52, 15.64, 16.19, 16.12, 16.14, 16.2, 15.9, 16.16, 16.52, 16.51, 16.4, 17.28, 17.09, 16.78, 17.06, 17.18, 17.01, 17.31, 17.95, 17.68, 17.85, 17.75, 17.37, 17.2, 17.43, 17.42, 17.84, 17.69, 17.65, 17.47, 17.47, 17.44, 17.48, 17.43, 17.81, 17.62, 17.3, 17.8, 17.54, 17.19, 17.1, 17.2, 16.73, 16.8, 17.42, 17.75, 17.3, 16.76, 16.97, 17.08, 17.34, 17.27, 17.13, 17.28, 17.05, 16.83], \"high\": [18.03, 17.81, 17.44, 17.18, 17.34, 17.38, 17.03, 16.89, 16.22, 15.76, 15.4, 15.63, 15.57, 16.19, 16.19, 15.93, 15.79, 15.73, 15.49, 15.47, 15.49, 15.93, 16.0, 16.09, 16.75, 16.5, 16.62, 16.45, 16.73, 16.79, 16.68, 16.56, 16.38, 16.43, 16.32, 16.55, 16.5, 16.44, 15.88, 16.03, 16.15, 15.98, 16.03, 16.62, 16.33, 16.13, 16.16, 16.21, 16.15, 16.22, 16.12, 16.1, 15.97, 15.93, 15.88, 15.8, 15.65, 15.54, 15.49, 15.61, 15.52, 15.46, 15.62, 15.6, 15.65, 15.74, 15.76, 15.79, 15.86, 15.95, 15.85, 15.94, 15.75, 15.69, 15.64, 15.83, 15.8, 15.75, 15.76, 15.71, 16.04, 16.05, 16.15, 16.45, 16.61, 16.49, 16.33, 16.46, 16.59, 16.48, 16.52, 16.59, 16.52, 16.54, 16.78, 16.85, 16.75, 16.8, 16.73, 16.75, 16.73, 16.67, 16.64, 16.76, 17.02, 16.98, 17.35, 17.33, 17.35, 17.62, 17.68, 17.58, 17.5, 17.56, 17.6, 17.4, 17.39, 17.53, 17.72, 17.69, 17.62, 17.52, 17.25, 17.13, 17.31, 17.21, 17.01, 16.93, 16.5, 16.72, 16.84, 17.05, 17.15, 17.85, 18.07, 18.16, 18.23, 18.17, 18.48, 18.43, 18.23, 17.78, 17.89, 18.2, 18.29, 18.06, 17.96, 17.93, 18.04, 17.98, 18.07, 18.05, 17.97, 17.64, 17.69, 17.7, 17.81, 17.9, 17.69, 17.2, 16.66, 15.98, 16.2, 16.06, 16.45, 16.44, 16.38, 16.05, 15.86, 16.19, 15.86, 16.16, 16.46, 16.11, 16.06, 16.07, 16.39, 16.39, 16.48, 15.71, 15.75, 15.58, 15.85, 15.62, 16.02, 15.82, 15.53, 15.6, 15.64, 15.38, 15.79, 15.82, 15.93, 15.78, 15.82, 15.62, 15.59, 15.92, 16.28, 16.29, 16.21, 16.29, 16.29, 16.2, 16.55, 16.55, 16.47, 17.31, 17.44, 17.18, 17.14, 17.26, 17.31, 17.37, 18.09, 18.08, 17.94, 17.99, 17.63, 17.31, 17.46, 17.6, 17.87, 17.85, 17.83, 17.73, 17.57, 17.57, 17.5, 17.58, 17.81, 17.89, 17.76, 17.83, 17.8, 17.46, 17.38, 17.41, 17.06, 16.89, 17.49, 17.78, 17.83, 17.26, 17.03, 17.11, 17.34, 17.38, 17.23, 17.35, 17.24, 17.07], \"low\": [17.68, 17.29, 16.78, 16.87, 17.1, 16.95, 16.66, 16.32, 15.77, 15.15, 14.97, 15.2, 15.15, 15.43, 15.73, 15.7, 15.48, 15.18, 15.2, 15.15, 15.12, 15.61, 15.75, 15.9, 16.22, 16.25, 16.35, 16.21, 16.37, 16.54, 16.37, 16.24, 16.08, 16.01, 16.1, 16.25, 16.32, 15.9, 15.62, 15.72, 15.96, 15.76, 15.74, 16.16, 16.12, 15.79, 15.87, 15.9, 15.94, 15.85, 15.96, 15.91, 15.61, 15.64, 15.72, 15.61, 15.4, 15.26, 15.27, 15.4, 15.38, 15.25, 15.43, 15.34, 15.45, 15.5, 15.53, 15.6, 15.74, 15.71, 15.59, 15.58, 15.5, 15.56, 15.43, 15.49, 15.68, 15.61, 15.56, 15.5, 15.57, 15.79, 15.92, 16.12, 16.33, 16.08, 16.09, 16.22, 16.43, 16.35, 16.36, 16.45, 16.3, 16.31, 16.58, 16.63, 16.56, 16.7, 16.43, 16.54, 16.58, 16.47, 16.47, 16.5, 16.74, 16.72, 16.96, 17.05, 17.0, 17.36, 17.44, 17.36, 17.25, 17.37, 17.3, 17.22, 17.12, 17.35, 17.56, 17.45, 17.35, 17.35, 16.86, 16.85, 17.09, 16.89, 16.71, 16.34, 16.22, 16.45, 16.66, 16.9, 16.86, 17.49, 17.86, 17.89, 18.08, 18.02, 18.03, 18.08, 17.84, 17.5, 17.6, 17.92, 18.05, 17.86, 17.64, 17.71, 17.8, 17.77, 17.6, 17.86, 17.72, 17.02, 17.44, 17.54, 17.56, 17.65, 17.44, 16.72, 16.1, 14.6, 15.25, 15.34, 16.09, 16.2, 16.18, 15.46, 15.57, 15.87, 15.5, 15.9, 15.83, 15.81, 15.9, 15.9, 16.01, 16.09, 15.78, 15.5, 15.57, 15.45, 15.58, 15.4, 15.81, 15.38, 15.25, 15.32, 15.36, 14.63, 15.44, 15.57, 15.57, 15.51, 15.5, 15.43, 15.4, 15.55, 15.72, 16.03, 15.98, 16.1, 15.9, 16.0, 16.25, 16.34, 16.3, 16.44, 16.97, 16.76, 16.87, 16.99, 16.96, 17.03, 17.76, 17.56, 17.56, 17.68, 17.35, 17.09, 17.01, 17.34, 17.43, 17.62, 17.59, 17.46, 17.25, 17.41, 17.33, 17.42, 17.48, 17.55, 17.25, 17.38, 17.44, 17.13, 16.87, 16.96, 16.64, 16.5, 16.99, 17.23, 17.3, 16.76, 16.77, 16.85, 17.1, 17.22, 16.98, 17.16, 17.04, 16.83], \"open\": [17.99, 17.78, 17.42, 17.14, 17.16, 17.38, 17.02, 16.82, 16.0, 15.59, 15.16, 15.59, 15.28, 15.55, 16.04, 15.72, 15.55, 15.72, 15.31, 15.23, 15.27, 15.62, 15.79, 15.98, 16.3, 16.35, 16.56, 16.33, 16.41, 16.73, 16.52, 16.55, 16.21, 16.14, 16.32, 16.27, 16.37, 16.42, 15.78, 15.79, 16.03, 15.96, 15.92, 16.41, 16.31, 16.04, 15.92, 16.05, 16.08, 16.11, 16.07, 16.01, 15.96, 15.7, 15.82, 15.73, 15.63, 15.38, 15.48, 15.42, 15.5, 15.42, 15.43, 15.39, 15.53, 15.51, 15.63, 15.69, 15.78, 15.88, 15.7, 15.64, 15.71, 15.62, 15.6, 15.55, 15.72, 15.71, 15.63, 15.58, 15.6, 16.0, 16.0, 16.14, 16.42, 16.36, 16.23, 16.32, 16.45, 16.46, 16.44, 16.53, 16.52, 16.31, 16.59, 16.78, 16.71, 16.72, 16.73, 16.56, 16.72, 16.66, 16.58, 16.52, 16.79, 16.87, 17.04, 17.27, 17.05, 17.39, 17.62, 17.45, 17.33, 17.46, 17.59, 17.35, 17.28, 17.36, 17.56, 17.53, 17.57, 17.48, 17.13, 17.08, 17.25, 17.16, 16.78, 16.9, 16.42, 16.53, 16.8, 16.97, 16.93, 17.53, 17.91, 17.96, 18.15, 18.11, 18.03, 18.39, 18.2, 17.66, 17.79, 17.95, 18.2, 18.03, 17.91, 17.79, 17.93, 17.91, 17.92, 17.87, 17.85, 17.62, 17.56, 17.57, 17.61, 17.72, 17.55, 17.19, 16.2, 15.02, 16.2, 15.81, 16.38, 16.4, 16.33, 15.95, 15.82, 15.97, 15.79, 15.96, 16.37, 15.87, 15.99, 15.97, 16.04, 16.35, 16.29, 15.68, 15.67, 15.49, 15.6, 15.54, 15.88, 15.79, 15.5, 15.55, 15.52, 15.08, 15.45, 15.68, 15.78, 15.72, 15.75, 15.6, 15.45, 15.77, 15.81, 16.28, 16.0, 16.16, 16.26, 16.0, 16.29, 16.52, 16.4, 16.45, 17.16, 17.18, 16.9, 17.01, 17.3, 17.03, 17.84, 18.03, 17.63, 17.99, 17.58, 17.13, 17.13, 17.5, 17.43, 17.78, 17.81, 17.62, 17.26, 17.51, 17.46, 17.48, 17.52, 17.88, 17.68, 17.44, 17.79, 17.39, 17.11, 17.15, 16.97, 16.76, 17.02, 17.65, 17.8, 17.19, 16.98, 17.05, 17.16, 17.32, 17.22, 17.25, 17.2, 17.01], \"showlegend\": false, \"type\": \"candlestick\", \"x\": [\"2015-01-02\", \"2015-01-05\", \"2015-01-06\", \"2015-01-07\", \"2015-01-08\", \"2015-01-09\", \"2015-01-12\", \"2015-01-13\", \"2015-01-14\", \"2015-01-15\", \"2015-01-16\", \"2015-01-20\", \"2015-01-21\", \"2015-01-22\", \"2015-01-23\", \"2015-01-26\", \"2015-01-27\", \"2015-01-28\", \"2015-01-29\", \"2015-01-30\", \"2015-02-02\", \"2015-02-03\", \"2015-02-04\", \"2015-02-05\", \"2015-02-06\", \"2015-02-09\", \"2015-02-10\", \"2015-02-11\", \"2015-02-12\", \"2015-02-13\", \"2015-02-17\", \"2015-02-18\", \"2015-02-19\", \"2015-02-20\", \"2015-02-23\", \"2015-02-24\", \"2015-02-25\", \"2015-02-26\", \"2015-02-27\", \"2015-03-02\", \"2015-03-03\", \"2015-03-04\", \"2015-03-05\", \"2015-03-06\", \"2015-03-09\", \"2015-03-10\", \"2015-03-11\", \"2015-03-12\", \"2015-03-13\", \"2015-03-16\", \"2015-03-17\", \"2015-03-18\", \"2015-03-19\", \"2015-03-20\", \"2015-03-23\", \"2015-03-24\", \"2015-03-25\", \"2015-03-26\", \"2015-03-27\", \"2015-03-30\", \"2015-03-31\", \"2015-04-01\", \"2015-04-02\", \"2015-04-06\", \"2015-04-07\", \"2015-04-08\", \"2015-04-09\", \"2015-04-10\", \"2015-04-13\", \"2015-04-14\", \"2015-04-15\", \"2015-04-16\", \"2015-04-17\", \"2015-04-20\", \"2015-04-21\", \"2015-04-22\", \"2015-04-23\", \"2015-04-24\", \"2015-04-27\", \"2015-04-28\", \"2015-04-29\", \"2015-04-30\", \"2015-05-01\", \"2015-05-04\", \"2015-05-05\", \"2015-05-06\", \"2015-05-07\", \"2015-05-08\", \"2015-05-11\", \"2015-05-12\", \"2015-05-13\", \"2015-05-14\", \"2015-05-15\", \"2015-05-18\", \"2015-05-19\", \"2015-05-20\", \"2015-05-21\", \"2015-05-22\", \"2015-05-26\", \"2015-05-27\", \"2015-05-28\", \"2015-05-29\", \"2015-06-01\", \"2015-06-02\", \"2015-06-03\", \"2015-06-04\", \"2015-06-05\", \"2015-06-08\", \"2015-06-09\", \"2015-06-10\", \"2015-06-11\", \"2015-06-12\", \"2015-06-15\", \"2015-06-16\", \"2015-06-17\", \"2015-06-18\", \"2015-06-19\", \"2015-06-22\", \"2015-06-23\", \"2015-06-24\", \"2015-06-25\", \"2015-06-26\", \"2015-06-29\", \"2015-06-30\", \"2015-07-01\", \"2015-07-02\", \"2015-07-06\", \"2015-07-07\", \"2015-07-08\", \"2015-07-09\", \"2015-07-10\", \"2015-07-13\", \"2015-07-14\", \"2015-07-15\", \"2015-07-16\", \"2015-07-17\", \"2015-07-20\", \"2015-07-21\", \"2015-07-22\", \"2015-07-23\", \"2015-07-24\", \"2015-07-27\", \"2015-07-28\", \"2015-07-29\", \"2015-07-30\", \"2015-07-31\", \"2015-08-03\", \"2015-08-04\", \"2015-08-05\", \"2015-08-06\", \"2015-08-07\", \"2015-08-10\", \"2015-08-11\", \"2015-08-12\", \"2015-08-13\", \"2015-08-14\", \"2015-08-17\", \"2015-08-18\", \"2015-08-19\", \"2015-08-20\", \"2015-08-21\", \"2015-08-24\", \"2015-08-25\", \"2015-08-26\", \"2015-08-27\", \"2015-08-28\", \"2015-08-31\", \"2015-09-01\", \"2015-09-02\", \"2015-09-03\", \"2015-09-04\", \"2015-09-08\", \"2015-09-09\", \"2015-09-10\", \"2015-09-11\", \"2015-09-14\", \"2015-09-15\", \"2015-09-16\", \"2015-09-17\", \"2015-09-18\", \"2015-09-21\", \"2015-09-22\", \"2015-09-23\", \"2015-09-24\", \"2015-09-25\", \"2015-09-28\", \"2015-09-29\", \"2015-09-30\", \"2015-10-01\", \"2015-10-02\", \"2015-10-05\", \"2015-10-06\", \"2015-10-07\", \"2015-10-08\", \"2015-10-09\", \"2015-10-12\", \"2015-10-13\", \"2015-10-14\", \"2015-10-15\", \"2015-10-16\", \"2015-10-19\", \"2015-10-20\", \"2015-10-21\", \"2015-10-22\", \"2015-10-23\", \"2015-10-26\", \"2015-10-27\", \"2015-10-28\", \"2015-10-29\", \"2015-10-30\", \"2015-11-02\", \"2015-11-03\", \"2015-11-04\", \"2015-11-05\", \"2015-11-06\", \"2015-11-09\", \"2015-11-10\", \"2015-11-11\", \"2015-11-12\", \"2015-11-13\", \"2015-11-16\", \"2015-11-17\", \"2015-11-18\", \"2015-11-19\", \"2015-11-20\", \"2015-11-23\", \"2015-11-24\", \"2015-11-25\", \"2015-11-27\", \"2015-11-30\", \"2015-12-01\", \"2015-12-02\", \"2015-12-03\", \"2015-12-04\", \"2015-12-07\", \"2015-12-08\", \"2015-12-09\", \"2015-12-10\", \"2015-12-11\", \"2015-12-14\", \"2015-12-15\", \"2015-12-16\", \"2015-12-17\", \"2015-12-18\", \"2015-12-21\", \"2015-12-22\", \"2015-12-23\", \"2015-12-24\", \"2015-12-28\", \"2015-12-29\", \"2015-12-30\", \"2015-12-31\"], \"yaxis\": \"y2\"}],                        {\"legend\": {\"bgcolor\": \"#F5F6F9\", \"font\": {\"color\": \"#4D5663\"}}, \"paper_bgcolor\": \"#F5F6F9\", \"plot_bgcolor\": \"#F5F6F9\", \"template\": {\"data\": {\"bar\": [{\"error_x\": {\"color\": \"#2a3f5f\"}, \"error_y\": {\"color\": \"#2a3f5f\"}, \"marker\": {\"line\": {\"color\": \"#E5ECF6\", \"width\": 0.5}}, \"type\": \"bar\"}], \"barpolar\": [{\"marker\": {\"line\": {\"color\": \"#E5ECF6\", \"width\": 0.5}}, \"type\": \"barpolar\"}], \"carpet\": [{\"aaxis\": {\"endlinecolor\": \"#2a3f5f\", \"gridcolor\": \"white\", \"linecolor\": \"white\", \"minorgridcolor\": \"white\", \"startlinecolor\": \"#2a3f5f\"}, \"baxis\": {\"endlinecolor\": \"#2a3f5f\", \"gridcolor\": \"white\", \"linecolor\": \"white\", \"minorgridcolor\": \"white\", \"startlinecolor\": \"#2a3f5f\"}, \"type\": \"carpet\"}], \"choropleth\": [{\"colorbar\": {\"outlinewidth\": 0, \"ticks\": \"\"}, \"type\": \"choropleth\"}], \"contour\": [{\"colorbar\": {\"outlinewidth\": 0, \"ticks\": \"\"}, \"colorscale\": [[0.0, \"#0d0887\"], [0.1111111111111111, \"#46039f\"], [0.2222222222222222, \"#7201a8\"], [0.3333333333333333, \"#9c179e\"], [0.4444444444444444, \"#bd3786\"], [0.5555555555555556, \"#d8576b\"], [0.6666666666666666, \"#ed7953\"], [0.7777777777777778, \"#fb9f3a\"], [0.8888888888888888, \"#fdca26\"], [1.0, \"#f0f921\"]], \"type\": \"contour\"}], \"contourcarpet\": [{\"colorbar\": {\"outlinewidth\": 0, \"ticks\": \"\"}, \"type\": \"contourcarpet\"}], \"heatmap\": [{\"colorbar\": {\"outlinewidth\": 0, \"ticks\": \"\"}, \"colorscale\": [[0.0, \"#0d0887\"], [0.1111111111111111, \"#46039f\"], [0.2222222222222222, \"#7201a8\"], [0.3333333333333333, \"#9c179e\"], [0.4444444444444444, \"#bd3786\"], [0.5555555555555556, \"#d8576b\"], [0.6666666666666666, \"#ed7953\"], [0.7777777777777778, \"#fb9f3a\"], [0.8888888888888888, \"#fdca26\"], [1.0, \"#f0f921\"]], \"type\": \"heatmap\"}], \"heatmapgl\": [{\"colorbar\": {\"outlinewidth\": 0, \"ticks\": \"\"}, \"colorscale\": [[0.0, \"#0d0887\"], [0.1111111111111111, \"#46039f\"], [0.2222222222222222, \"#7201a8\"], [0.3333333333333333, \"#9c179e\"], [0.4444444444444444, \"#bd3786\"], [0.5555555555555556, \"#d8576b\"], [0.6666666666666666, \"#ed7953\"], [0.7777777777777778, \"#fb9f3a\"], [0.8888888888888888, \"#fdca26\"], [1.0, \"#f0f921\"]], \"type\": \"heatmapgl\"}], \"histogram\": [{\"marker\": {\"colorbar\": {\"outlinewidth\": 0, \"ticks\": \"\"}}, \"type\": \"histogram\"}], \"histogram2d\": [{\"colorbar\": {\"outlinewidth\": 0, \"ticks\": \"\"}, \"colorscale\": [[0.0, \"#0d0887\"], [0.1111111111111111, \"#46039f\"], [0.2222222222222222, \"#7201a8\"], [0.3333333333333333, \"#9c179e\"], [0.4444444444444444, \"#bd3786\"], [0.5555555555555556, \"#d8576b\"], [0.6666666666666666, \"#ed7953\"], [0.7777777777777778, \"#fb9f3a\"], [0.8888888888888888, \"#fdca26\"], [1.0, \"#f0f921\"]], \"type\": \"histogram2d\"}], \"histogram2dcontour\": [{\"colorbar\": {\"outlinewidth\": 0, \"ticks\": \"\"}, \"colorscale\": [[0.0, \"#0d0887\"], [0.1111111111111111, \"#46039f\"], [0.2222222222222222, \"#7201a8\"], [0.3333333333333333, \"#9c179e\"], [0.4444444444444444, \"#bd3786\"], [0.5555555555555556, \"#d8576b\"], [0.6666666666666666, \"#ed7953\"], [0.7777777777777778, \"#fb9f3a\"], [0.8888888888888888, \"#fdca26\"], [1.0, \"#f0f921\"]], \"type\": \"histogram2dcontour\"}], \"mesh3d\": [{\"colorbar\": {\"outlinewidth\": 0, \"ticks\": \"\"}, \"type\": \"mesh3d\"}], \"parcoords\": [{\"line\": {\"colorbar\": {\"outlinewidth\": 0, \"ticks\": \"\"}}, \"type\": \"parcoords\"}], \"pie\": [{\"automargin\": true, \"type\": \"pie\"}], \"scatter\": [{\"marker\": {\"colorbar\": {\"outlinewidth\": 0, \"ticks\": \"\"}}, \"type\": \"scatter\"}], \"scatter3d\": [{\"line\": {\"colorbar\": {\"outlinewidth\": 0, \"ticks\": \"\"}}, \"marker\": {\"colorbar\": {\"outlinewidth\": 0, \"ticks\": \"\"}}, \"type\": \"scatter3d\"}], \"scattercarpet\": [{\"marker\": {\"colorbar\": {\"outlinewidth\": 0, \"ticks\": \"\"}}, \"type\": \"scattercarpet\"}], \"scattergeo\": [{\"marker\": {\"colorbar\": {\"outlinewidth\": 0, \"ticks\": \"\"}}, \"type\": \"scattergeo\"}], \"scattergl\": [{\"marker\": {\"colorbar\": {\"outlinewidth\": 0, \"ticks\": \"\"}}, \"type\": \"scattergl\"}], \"scattermapbox\": [{\"marker\": {\"colorbar\": {\"outlinewidth\": 0, \"ticks\": \"\"}}, \"type\": \"scattermapbox\"}], \"scatterpolar\": [{\"marker\": {\"colorbar\": {\"outlinewidth\": 0, \"ticks\": \"\"}}, \"type\": \"scatterpolar\"}], \"scatterpolargl\": [{\"marker\": {\"colorbar\": {\"outlinewidth\": 0, \"ticks\": \"\"}}, \"type\": \"scatterpolargl\"}], \"scatterternary\": [{\"marker\": {\"colorbar\": {\"outlinewidth\": 0, \"ticks\": \"\"}}, \"type\": \"scatterternary\"}], \"surface\": [{\"colorbar\": {\"outlinewidth\": 0, \"ticks\": \"\"}, \"colorscale\": [[0.0, \"#0d0887\"], [0.1111111111111111, \"#46039f\"], [0.2222222222222222, \"#7201a8\"], [0.3333333333333333, \"#9c179e\"], [0.4444444444444444, \"#bd3786\"], [0.5555555555555556, \"#d8576b\"], [0.6666666666666666, \"#ed7953\"], [0.7777777777777778, \"#fb9f3a\"], [0.8888888888888888, \"#fdca26\"], [1.0, \"#f0f921\"]], \"type\": \"surface\"}], \"table\": [{\"cells\": {\"fill\": {\"color\": \"#EBF0F8\"}, \"line\": {\"color\": \"white\"}}, \"header\": {\"fill\": {\"color\": \"#C8D4E3\"}, \"line\": {\"color\": \"white\"}}, \"type\": \"table\"}]}, \"layout\": {\"annotationdefaults\": {\"arrowcolor\": \"#2a3f5f\", \"arrowhead\": 0, \"arrowwidth\": 1}, \"autotypenumbers\": \"strict\", \"coloraxis\": {\"colorbar\": {\"outlinewidth\": 0, \"ticks\": \"\"}}, \"colorscale\": {\"diverging\": [[0, \"#8e0152\"], [0.1, \"#c51b7d\"], [0.2, \"#de77ae\"], [0.3, \"#f1b6da\"], [0.4, \"#fde0ef\"], [0.5, \"#f7f7f7\"], [0.6, \"#e6f5d0\"], [0.7, \"#b8e186\"], [0.8, \"#7fbc41\"], [0.9, \"#4d9221\"], [1, \"#276419\"]], \"sequential\": [[0.0, \"#0d0887\"], [0.1111111111111111, \"#46039f\"], [0.2222222222222222, \"#7201a8\"], [0.3333333333333333, \"#9c179e\"], [0.4444444444444444, \"#bd3786\"], [0.5555555555555556, \"#d8576b\"], [0.6666666666666666, \"#ed7953\"], [0.7777777777777778, \"#fb9f3a\"], [0.8888888888888888, \"#fdca26\"], [1.0, \"#f0f921\"]], \"sequentialminus\": [[0.0, \"#0d0887\"], [0.1111111111111111, \"#46039f\"], [0.2222222222222222, \"#7201a8\"], [0.3333333333333333, \"#9c179e\"], [0.4444444444444444, \"#bd3786\"], [0.5555555555555556, \"#d8576b\"], [0.6666666666666666, \"#ed7953\"], [0.7777777777777778, \"#fb9f3a\"], [0.8888888888888888, \"#fdca26\"], [1.0, \"#f0f921\"]]}, \"colorway\": [\"#636efa\", \"#EF553B\", \"#00cc96\", \"#ab63fa\", \"#FFA15A\", \"#19d3f3\", \"#FF6692\", \"#B6E880\", \"#FF97FF\", \"#FECB52\"], \"font\": {\"color\": \"#2a3f5f\"}, \"geo\": {\"bgcolor\": \"white\", \"lakecolor\": \"white\", \"landcolor\": \"#E5ECF6\", \"showlakes\": true, \"showland\": true, \"subunitcolor\": \"white\"}, \"hoverlabel\": {\"align\": \"left\"}, \"hovermode\": \"closest\", \"mapbox\": {\"style\": \"light\"}, \"paper_bgcolor\": \"white\", \"plot_bgcolor\": \"#E5ECF6\", \"polar\": {\"angularaxis\": {\"gridcolor\": \"white\", \"linecolor\": \"white\", \"ticks\": \"\"}, \"bgcolor\": \"#E5ECF6\", \"radialaxis\": {\"gridcolor\": \"white\", \"linecolor\": \"white\", \"ticks\": \"\"}}, \"scene\": {\"xaxis\": {\"backgroundcolor\": \"#E5ECF6\", \"gridcolor\": \"white\", \"gridwidth\": 2, \"linecolor\": \"white\", \"showbackground\": true, \"ticks\": \"\", \"zerolinecolor\": \"white\"}, \"yaxis\": {\"backgroundcolor\": \"#E5ECF6\", \"gridcolor\": \"white\", \"gridwidth\": 2, \"linecolor\": \"white\", \"showbackground\": true, \"ticks\": \"\", \"zerolinecolor\": \"white\"}, \"zaxis\": {\"backgroundcolor\": \"#E5ECF6\", \"gridcolor\": \"white\", \"gridwidth\": 2, \"linecolor\": \"white\", \"showbackground\": true, \"ticks\": \"\", \"zerolinecolor\": \"white\"}}, \"shapedefaults\": {\"line\": {\"color\": \"#2a3f5f\"}}, \"ternary\": {\"aaxis\": {\"gridcolor\": \"white\", \"linecolor\": \"white\", \"ticks\": \"\"}, \"baxis\": {\"gridcolor\": \"white\", \"linecolor\": \"white\", \"ticks\": \"\"}, \"bgcolor\": \"#E5ECF6\", \"caxis\": {\"gridcolor\": \"white\", \"linecolor\": \"white\", \"ticks\": \"\"}}, \"title\": {\"x\": 0.05}, \"xaxis\": {\"automargin\": true, \"gridcolor\": \"white\", \"linecolor\": \"white\", \"ticks\": \"\", \"title\": {\"standoff\": 15}, \"zerolinecolor\": \"white\", \"zerolinewidth\": 2}, \"yaxis\": {\"automargin\": true, \"gridcolor\": \"white\", \"linecolor\": \"white\", \"ticks\": \"\", \"title\": {\"standoff\": 15}, \"zerolinecolor\": \"white\", \"zerolinewidth\": 2}}}, \"title\": {\"font\": {\"color\": \"#4D5663\"}}, \"xaxis\": {\"gridcolor\": \"#E1E5ED\", \"rangeslider\": {\"visible\": false}, \"showgrid\": true, \"tickfont\": {\"color\": \"#4D5663\"}, \"title\": {\"font\": {\"color\": \"#4D5663\"}, \"text\": \"\"}, \"zerolinecolor\": \"#E1E5ED\"}, \"yaxis\": {\"gridcolor\": \"#E1E5ED\", \"showgrid\": true, \"showticklabels\": false, \"tickfont\": {\"color\": \"#4D5663\"}, \"title\": {\"font\": {\"color\": \"#4D5663\"}, \"text\": \"\"}, \"zerolinecolor\": \"#E1E5ED\"}, \"yaxis2\": {\"gridcolor\": \"#E1E5ED\", \"showgrid\": true, \"tickfont\": {\"color\": \"#4D5663\"}, \"title\": {\"font\": {\"color\": \"#4D5663\"}, \"text\": \"\"}, \"zerolinecolor\": \"#E1E5ED\"}},                        {\"showLink\": true, \"linkText\": \"Export to plot.ly\", \"plotlyServerURL\": \"https://plot.ly\", \"responsive\": true}                    ).then(function(){\n",
       "                            \n",
       "var gd = document.getElementById('aa63fa67-c5d0-4bf0-807d-4e86c97674a4');\n",
       "var x = new MutationObserver(function (mutations, observer) {{\n",
       "        var display = window.getComputedStyle(gd).display;\n",
       "        if (!display || display === 'none') {{\n",
       "            console.log([gd, 'removed!']);\n",
       "            Plotly.purge(gd);\n",
       "            observer.disconnect();\n",
       "        }}\n",
       "}});\n",
       "\n",
       "// Listen for the removal of the full notebook cells\n",
       "var notebookContainer = gd.closest('#notebook-container');\n",
       "if (notebookContainer) {{\n",
       "    x.observe(notebookContainer, {childList: true});\n",
       "}}\n",
       "\n",
       "// Listen for the clearing of the current output cell\n",
       "var outputEl = gd.closest('.output');\n",
       "if (outputEl) {{\n",
       "    x.observe(outputEl, {childList: true});\n",
       "}}\n",
       "\n",
       "                        })                };                });            </script>        </div>"
      ]
     },
     "metadata": {},
     "output_type": "display_data"
    }
   ],
   "source": [
    "bank_stocks['BAC'].loc['2015-01-01':'2016-01-01'].iplot(kind='candle')"
   ]
  },
  {
   "cell_type": "code",
   "execution_count": 23,
   "metadata": {},
   "outputs": [
    {
     "data": {
      "application/vnd.plotly.v1+json": {
       "config": {
        "linkText": "Export to plot.ly",
        "plotlyServerURL": "https://plot.ly",
        "showLink": true
       },
       "data": [
        {
         "line": {
          "color": "rgba(255, 153, 51, 1.0)",
          "dash": "solid",
          "shape": "linear",
          "width": 1.3
         },
         "mode": "lines",
         "name": "Close",
         "text": "",
         "type": "scatter",
         "x": [
          "2015-01-02",
          "2015-01-05",
          "2015-01-06",
          "2015-01-07",
          "2015-01-08",
          "2015-01-09",
          "2015-01-12",
          "2015-01-13",
          "2015-01-14",
          "2015-01-15",
          "2015-01-16",
          "2015-01-20",
          "2015-01-21",
          "2015-01-22",
          "2015-01-23",
          "2015-01-26",
          "2015-01-27",
          "2015-01-28",
          "2015-01-29",
          "2015-01-30",
          "2015-02-02",
          "2015-02-03",
          "2015-02-04",
          "2015-02-05",
          "2015-02-06",
          "2015-02-09",
          "2015-02-10",
          "2015-02-11",
          "2015-02-12",
          "2015-02-13",
          "2015-02-17",
          "2015-02-18",
          "2015-02-19",
          "2015-02-20",
          "2015-02-23",
          "2015-02-24",
          "2015-02-25",
          "2015-02-26",
          "2015-02-27",
          "2015-03-02",
          "2015-03-03",
          "2015-03-04",
          "2015-03-05",
          "2015-03-06",
          "2015-03-09",
          "2015-03-10",
          "2015-03-11",
          "2015-03-12",
          "2015-03-13",
          "2015-03-16",
          "2015-03-17",
          "2015-03-18",
          "2015-03-19",
          "2015-03-20",
          "2015-03-23",
          "2015-03-24",
          "2015-03-25",
          "2015-03-26",
          "2015-03-27",
          "2015-03-30",
          "2015-03-31",
          "2015-04-01",
          "2015-04-02",
          "2015-04-06",
          "2015-04-07",
          "2015-04-08",
          "2015-04-09",
          "2015-04-10",
          "2015-04-13",
          "2015-04-14",
          "2015-04-15",
          "2015-04-16",
          "2015-04-17",
          "2015-04-20",
          "2015-04-21",
          "2015-04-22",
          "2015-04-23",
          "2015-04-24",
          "2015-04-27",
          "2015-04-28",
          "2015-04-29",
          "2015-04-30",
          "2015-05-01",
          "2015-05-04",
          "2015-05-05",
          "2015-05-06",
          "2015-05-07",
          "2015-05-08",
          "2015-05-11",
          "2015-05-12",
          "2015-05-13",
          "2015-05-14",
          "2015-05-15",
          "2015-05-18",
          "2015-05-19",
          "2015-05-20",
          "2015-05-21",
          "2015-05-22",
          "2015-05-26",
          "2015-05-27",
          "2015-05-28",
          "2015-05-29",
          "2015-06-01",
          "2015-06-02",
          "2015-06-03",
          "2015-06-04",
          "2015-06-05",
          "2015-06-08",
          "2015-06-09",
          "2015-06-10",
          "2015-06-11",
          "2015-06-12",
          "2015-06-15",
          "2015-06-16",
          "2015-06-17",
          "2015-06-18",
          "2015-06-19",
          "2015-06-22",
          "2015-06-23",
          "2015-06-24",
          "2015-06-25",
          "2015-06-26",
          "2015-06-29",
          "2015-06-30",
          "2015-07-01",
          "2015-07-02",
          "2015-07-06",
          "2015-07-07",
          "2015-07-08",
          "2015-07-09",
          "2015-07-10",
          "2015-07-13",
          "2015-07-14",
          "2015-07-15",
          "2015-07-16",
          "2015-07-17",
          "2015-07-20",
          "2015-07-21",
          "2015-07-22",
          "2015-07-23",
          "2015-07-24",
          "2015-07-27",
          "2015-07-28",
          "2015-07-29",
          "2015-07-30",
          "2015-07-31",
          "2015-08-03",
          "2015-08-04",
          "2015-08-05",
          "2015-08-06",
          "2015-08-07",
          "2015-08-10",
          "2015-08-11",
          "2015-08-12",
          "2015-08-13",
          "2015-08-14",
          "2015-08-17",
          "2015-08-18",
          "2015-08-19",
          "2015-08-20",
          "2015-08-21",
          "2015-08-24",
          "2015-08-25",
          "2015-08-26",
          "2015-08-27",
          "2015-08-28",
          "2015-08-31",
          "2015-09-01",
          "2015-09-02",
          "2015-09-03",
          "2015-09-04",
          "2015-09-08",
          "2015-09-09",
          "2015-09-10",
          "2015-09-11",
          "2015-09-14",
          "2015-09-15",
          "2015-09-16",
          "2015-09-17",
          "2015-09-18",
          "2015-09-21",
          "2015-09-22",
          "2015-09-23",
          "2015-09-24",
          "2015-09-25",
          "2015-09-28",
          "2015-09-29",
          "2015-09-30",
          "2015-10-01",
          "2015-10-02",
          "2015-10-05",
          "2015-10-06",
          "2015-10-07",
          "2015-10-08",
          "2015-10-09",
          "2015-10-12",
          "2015-10-13",
          "2015-10-14",
          "2015-10-15",
          "2015-10-16",
          "2015-10-19",
          "2015-10-20",
          "2015-10-21",
          "2015-10-22",
          "2015-10-23",
          "2015-10-26",
          "2015-10-27",
          "2015-10-28",
          "2015-10-29",
          "2015-10-30",
          "2015-11-02",
          "2015-11-03",
          "2015-11-04",
          "2015-11-05",
          "2015-11-06",
          "2015-11-09",
          "2015-11-10",
          "2015-11-11",
          "2015-11-12",
          "2015-11-13",
          "2015-11-16",
          "2015-11-17",
          "2015-11-18",
          "2015-11-19",
          "2015-11-20",
          "2015-11-23",
          "2015-11-24",
          "2015-11-25",
          "2015-11-27",
          "2015-11-30",
          "2015-12-01",
          "2015-12-02",
          "2015-12-03",
          "2015-12-04",
          "2015-12-07",
          "2015-12-08",
          "2015-12-09",
          "2015-12-10",
          "2015-12-11",
          "2015-12-14",
          "2015-12-15",
          "2015-12-16",
          "2015-12-17",
          "2015-12-18",
          "2015-12-21",
          "2015-12-22",
          "2015-12-23",
          "2015-12-24",
          "2015-12-28",
          "2015-12-29",
          "2015-12-30",
          "2015-12-31"
         ],
         "y": [
          38.71,
          37.5,
          36.42,
          36.94,
          37.49,
          36.88,
          36.37,
          36.03,
          35.21,
          34.58,
          34.89,
          34.75,
          34.73,
          35.53,
          35.15,
          35.11,
          34.66,
          33.77,
          34.37,
          33.81,
          34.42,
          35.04,
          34.77,
          34.93,
          35.79,
          35.63,
          36.16,
          36.37,
          36.9,
          36.78,
          36.92,
          36.37,
          36.33,
          36.74,
          36.27,
          36.74,
          36.59,
          36.06,
          35.79,
          36.24,
          35.82,
          35.09,
          35.52,
          35.53,
          35.67,
          34.88,
          34.95,
          37.09,
          36.35,
          36.73,
          36.55,
          36.73,
          36.11,
          36.5,
          36.31,
          36.24,
          35.45,
          35.62,
          35.83,
          36.31,
          35.69,
          35.97,
          36.06,
          35.91,
          35.94,
          36.26,
          36.64,
          36.24,
          36.3,
          36.84,
          37.39,
          37.36,
          36.75,
          36.96,
          36.75,
          37.2,
          37.38,
          37.36,
          37.05,
          37.04,
          37.49,
          37.31,
          37.51,
          37.91,
          37.45,
          37.05,
          37.54,
          37.89,
          38.25,
          37.72,
          37.78,
          38.14,
          37.85,
          38.33,
          38.69,
          38.33,
          38.04,
          38.17,
          37.79,
          38.62,
          38.73,
          38.2,
          38.58,
          38.52,
          39.01,
          38.7,
          39.29,
          39.09,
          39.13,
          39.89,
          39.87,
          39.61,
          39.53,
          39.74,
          39.58,
          39.79,
          39.37,
          39.85,
          40.21,
          39.64,
          39.22,
          39.5,
          38.31,
          38.79,
          39.36,
          39,
          38.85,
          38.62,
          37.79,
          38.1,
          38.64,
          39.32,
          39.71,
          39.7,
          39.91,
          40.2,
          40.04,
          40.08,
          40.54,
          39.94,
          39.6,
          39.25,
          39.25,
          39.29,
          39.3,
          38.84,
          38.76,
          38.92,
          39,
          38.93,
          38.58,
          39.08,
          37.92,
          37.57,
          37.75,
          38.05,
          38.14,
          37.82,
          37.44,
          36.17,
          34.21,
          32.26,
          31.76,
          33.3,
          34.3,
          34.05,
          34.45,
          33.12,
          33.79,
          33.8,
          33.19,
          34.27,
          33.75,
          33.87,
          33.99,
          33.81,
          34.58,
          34.62,
          34.05,
          33.03,
          33.34,
          32.44,
          32.32,
          31.97,
          32.19,
          31.09,
          31.01,
          31.5,
          31.5,
          31.43,
          32.29,
          32.36,
          32.93,
          32.99,
          32.72,
          32.8,
          32.61,
          32.54,
          33.61,
          33.95,
          32.32,
          32.25,
          31.48,
          32.35,
          32.62,
          32.55,
          32.23,
          33.44,
          33.54,
          32.97,
          33.48,
          33.29,
          33.4,
          33.88,
          35.41,
          35.11,
          35.24,
          35.02,
          34.23,
          33.93,
          34.05,
          33.59,
          34.25,
          34.17,
          33.91,
          33.64,
          33.59,
          33.61,
          33.78,
          34.3,
          35.27,
          34.89,
          34.45,
          35.32,
          34.68,
          34.06,
          33.37,
          33.42,
          32.08,
          31.88,
          32.84,
          33.61,
          32.38,
          31.29,
          31.68,
          32.22,
          32.6,
          32.48,
          32.17,
          32.55,
          32.23,
          31.81
         ]
        },
        {
         "line": {
          "color": "rgba(55, 128, 191, 1.0)",
          "dash": "solid",
          "shape": "linear",
          "width": 1.3
         },
         "mode": "lines",
         "name": "SMA(13)",
         "text": "",
         "type": "scatter",
         "x": [
          "2015-01-02",
          "2015-01-05",
          "2015-01-06",
          "2015-01-07",
          "2015-01-08",
          "2015-01-09",
          "2015-01-12",
          "2015-01-13",
          "2015-01-14",
          "2015-01-15",
          "2015-01-16",
          "2015-01-20",
          "2015-01-21",
          "2015-01-22",
          "2015-01-23",
          "2015-01-26",
          "2015-01-27",
          "2015-01-28",
          "2015-01-29",
          "2015-01-30",
          "2015-02-02",
          "2015-02-03",
          "2015-02-04",
          "2015-02-05",
          "2015-02-06",
          "2015-02-09",
          "2015-02-10",
          "2015-02-11",
          "2015-02-12",
          "2015-02-13",
          "2015-02-17",
          "2015-02-18",
          "2015-02-19",
          "2015-02-20",
          "2015-02-23",
          "2015-02-24",
          "2015-02-25",
          "2015-02-26",
          "2015-02-27",
          "2015-03-02",
          "2015-03-03",
          "2015-03-04",
          "2015-03-05",
          "2015-03-06",
          "2015-03-09",
          "2015-03-10",
          "2015-03-11",
          "2015-03-12",
          "2015-03-13",
          "2015-03-16",
          "2015-03-17",
          "2015-03-18",
          "2015-03-19",
          "2015-03-20",
          "2015-03-23",
          "2015-03-24",
          "2015-03-25",
          "2015-03-26",
          "2015-03-27",
          "2015-03-30",
          "2015-03-31",
          "2015-04-01",
          "2015-04-02",
          "2015-04-06",
          "2015-04-07",
          "2015-04-08",
          "2015-04-09",
          "2015-04-10",
          "2015-04-13",
          "2015-04-14",
          "2015-04-15",
          "2015-04-16",
          "2015-04-17",
          "2015-04-20",
          "2015-04-21",
          "2015-04-22",
          "2015-04-23",
          "2015-04-24",
          "2015-04-27",
          "2015-04-28",
          "2015-04-29",
          "2015-04-30",
          "2015-05-01",
          "2015-05-04",
          "2015-05-05",
          "2015-05-06",
          "2015-05-07",
          "2015-05-08",
          "2015-05-11",
          "2015-05-12",
          "2015-05-13",
          "2015-05-14",
          "2015-05-15",
          "2015-05-18",
          "2015-05-19",
          "2015-05-20",
          "2015-05-21",
          "2015-05-22",
          "2015-05-26",
          "2015-05-27",
          "2015-05-28",
          "2015-05-29",
          "2015-06-01",
          "2015-06-02",
          "2015-06-03",
          "2015-06-04",
          "2015-06-05",
          "2015-06-08",
          "2015-06-09",
          "2015-06-10",
          "2015-06-11",
          "2015-06-12",
          "2015-06-15",
          "2015-06-16",
          "2015-06-17",
          "2015-06-18",
          "2015-06-19",
          "2015-06-22",
          "2015-06-23",
          "2015-06-24",
          "2015-06-25",
          "2015-06-26",
          "2015-06-29",
          "2015-06-30",
          "2015-07-01",
          "2015-07-02",
          "2015-07-06",
          "2015-07-07",
          "2015-07-08",
          "2015-07-09",
          "2015-07-10",
          "2015-07-13",
          "2015-07-14",
          "2015-07-15",
          "2015-07-16",
          "2015-07-17",
          "2015-07-20",
          "2015-07-21",
          "2015-07-22",
          "2015-07-23",
          "2015-07-24",
          "2015-07-27",
          "2015-07-28",
          "2015-07-29",
          "2015-07-30",
          "2015-07-31",
          "2015-08-03",
          "2015-08-04",
          "2015-08-05",
          "2015-08-06",
          "2015-08-07",
          "2015-08-10",
          "2015-08-11",
          "2015-08-12",
          "2015-08-13",
          "2015-08-14",
          "2015-08-17",
          "2015-08-18",
          "2015-08-19",
          "2015-08-20",
          "2015-08-21",
          "2015-08-24",
          "2015-08-25",
          "2015-08-26",
          "2015-08-27",
          "2015-08-28",
          "2015-08-31",
          "2015-09-01",
          "2015-09-02",
          "2015-09-03",
          "2015-09-04",
          "2015-09-08",
          "2015-09-09",
          "2015-09-10",
          "2015-09-11",
          "2015-09-14",
          "2015-09-15",
          "2015-09-16",
          "2015-09-17",
          "2015-09-18",
          "2015-09-21",
          "2015-09-22",
          "2015-09-23",
          "2015-09-24",
          "2015-09-25",
          "2015-09-28",
          "2015-09-29",
          "2015-09-30",
          "2015-10-01",
          "2015-10-02",
          "2015-10-05",
          "2015-10-06",
          "2015-10-07",
          "2015-10-08",
          "2015-10-09",
          "2015-10-12",
          "2015-10-13",
          "2015-10-14",
          "2015-10-15",
          "2015-10-16",
          "2015-10-19",
          "2015-10-20",
          "2015-10-21",
          "2015-10-22",
          "2015-10-23",
          "2015-10-26",
          "2015-10-27",
          "2015-10-28",
          "2015-10-29",
          "2015-10-30",
          "2015-11-02",
          "2015-11-03",
          "2015-11-04",
          "2015-11-05",
          "2015-11-06",
          "2015-11-09",
          "2015-11-10",
          "2015-11-11",
          "2015-11-12",
          "2015-11-13",
          "2015-11-16",
          "2015-11-17",
          "2015-11-18",
          "2015-11-19",
          "2015-11-20",
          "2015-11-23",
          "2015-11-24",
          "2015-11-25",
          "2015-11-27",
          "2015-11-30",
          "2015-12-01",
          "2015-12-02",
          "2015-12-03",
          "2015-12-04",
          "2015-12-07",
          "2015-12-08",
          "2015-12-09",
          "2015-12-10",
          "2015-12-11",
          "2015-12-14",
          "2015-12-15",
          "2015-12-16",
          "2015-12-17",
          "2015-12-18",
          "2015-12-21",
          "2015-12-22",
          "2015-12-23",
          "2015-12-24",
          "2015-12-28",
          "2015-12-29",
          "2015-12-30",
          "2015-12-31"
         ],
         "y": [
          "",
          "",
          "",
          "",
          "",
          "",
          "",
          "",
          "",
          "",
          "",
          "",
          36.19230769230769,
          35.94769230769231,
          35.76692307692308,
          35.66615384615385,
          35.490769230769224,
          35.20461538461538,
          35.01153846153846,
          34.81461538461538,
          34.69076923076922,
          34.677692307692304,
          34.692307692307686,
          34.69538461538461,
          34.77538461538462,
          34.84461538461538,
          34.893076923076926,
          34.98692307692308,
          35.12461538461538,
          35.28769230769231,
          35.53,
          35.683846153846154,
          35.87769230769231,
          36.05615384615385,
          36.15076923076923,
          36.30230769230769,
          36.43,
          36.450769230769225,
          36.46307692307692,
          36.46923076923077,
          36.426923076923075,
          36.28769230769231,
          36.190769230769234,
          36.08384615384615,
          36.03,
          35.918461538461536,
          35.78076923076923,
          35.84384615384616,
          35.81384615384616,
          35.824615384615385,
          35.862307692307695,
          35.934615384615384,
          35.924615384615386,
          35.97692307692308,
          36.07076923076924,
          36.126153846153855,
          36.120000000000005,
          36.11615384615385,
          36.189230769230775,
          36.29384615384616,
          36.18615384615385,
          36.156923076923086,
          36.10538461538462,
          36.056153846153855,
          35.99538461538462,
          36.00692307692308,
          36.01769230769231,
          36.012307692307694,
          36.01692307692308,
          36.12384615384616,
          36.260000000000005,
          36.377692307692314,
          36.41153846153847,
          36.509230769230776,
          36.56923076923078,
          36.656923076923086,
          36.77000000000002,
          36.87923076923079,
          36.94000000000002,
          36.97076923076925,
          37.066923076923096,
          37.144615384615406,
          37.19615384615387,
          37.23615384615387,
          37.24307692307695,
          37.26615384615387,
          37.31076923076925,
          37.39846153846156,
          37.479230769230796,
          37.505384615384635,
          37.537692307692325,
          37.62153846153848,
          37.68384615384617,
          37.74846153846155,
          37.85461538461539,
          37.91769230769231,
          37.92769230769231,
          37.98307692307692,
          38.040000000000006,
          38.12307692307692,
          38.1876923076923,
          38.183846153846154,
          38.25,
          38.30692307692308,
          38.37384615384615,
          38.439230769230775,
          38.51307692307692,
          38.543846153846154,
          38.60538461538462,
          38.74769230769231,
          38.878461538461536,
          39.01846153846154,
          39.08846153846154,
          39.16615384615385,
          39.27230769230769,
          39.36538461538462,
          39.43076923076923,
          39.49538461538462,
          39.611538461538466,
          39.63846153846154,
          39.64846153846155,
          39.67692307692308,
          39.555384615384625,
          39.4723076923077,
          39.45307692307693,
          39.4123076923077,
          39.343846153846165,
          39.27000000000001,
          39.11615384615386,
          39.01846153846155,
          38.92538461538462,
          38.85692307692309,
          38.8623076923077,
          38.89923076923078,
          38.93076923076924,
          39.07615384615386,
          39.172307692307704,
          39.22769230769232,
          39.346153846153854,
          39.43,
          39.50538461538462,
          39.617692307692316,
          39.70615384615385,
          39.75615384615385,
          39.75461538461538,
          39.6876923076923,
          39.615384615384606,
          39.53923076923076,
          39.44692307692306,
          39.361538461538444,
          39.24615384615383,
          39.133846153846136,
          38.97846153846152,
          38.82230769230767,
          38.706923076923054,
          38.61461538461536,
          38.52615384615382,
          38.412307692307664,
          38.30461538461535,
          38.10538461538458,
          37.74307692307689,
          37.224615384615355,
          36.67307692307689,
          36.26692307692305,
          35.89923076923074,
          35.60153846153843,
          35.36153846153844,
          35.005384615384585,
          34.67769230769228,
          34.34384615384613,
          33.987692307692285,
          33.74384615384613,
          33.55769230769228,
          33.53153846153844,
          33.66461538461536,
          33.82230769230767,
          33.92076923076921,
          33.94538461538459,
          33.94538461538459,
          33.83615384615383,
          33.8530769230769,
          33.74923076923074,
          33.63538461538459,
          33.54153846153844,
          33.38153846153844,
          33.17692307692305,
          32.95692307692305,
          32.76538461538459,
          32.58769230769228,
          32.34538461538459,
          32.16615384615382,
          32.03615384615382,
          32.028461538461514,
          32.00153846153843,
          32.0230769230769,
          32.059999999999974,
          32.10923076923075,
          32.136153846153825,
          32.329999999999984,
          32.55615384615383,
          32.619230769230754,
          32.67692307692306,
          32.680769230769215,
          32.6853846153846,
          32.7053846153846,
          32.67615384615383,
          32.617692307692295,
          32.673076923076906,
          32.72999999999998,
          32.757692307692295,
          32.829999999999984,
          32.8053846153846,
          32.76307692307691,
          32.883076923076906,
          33.12615384615383,
          33.4053846153846,
          33.627692307692286,
          33.81230769230767,
          33.94153846153844,
          34.07230769230767,
          34.11923076923075,
          34.1230769230769,
          34.221538461538444,
          34.274615384615366,
          34.322307692307675,
          34.34076923076921,
          34.31846153846152,
          34.179999999999986,
          34.07769230769229,
          34.0053846153846,
          34.024615384615366,
          34.07538461538459,
          34.11538461538459,
          34.2130769230769,
          34.29692307692305,
          34.28230769230767,
          34.22076923076921,
          34.1830769230769,
          34.0630769230769,
          33.93153846153844,
          33.87230769230767,
          33.85923076923075,
          33.71153846153844,
          33.4053846153846,
          33.15846153846152,
          32.986923076923055,
          32.77769230769229,
          32.608461538461526,
          32.46307692307691,
          32.399999999999984,
          32.30846153846152,
          32.287692307692296
         ]
        },
        {
         "line": {
          "color": "rgba(55, 128, 191, 0.8999999999999999)",
          "dash": "solid",
          "shape": "linear",
          "width": 1.3
         },
         "mode": "lines",
         "name": "SMA(21)",
         "text": "",
         "type": "scatter",
         "x": [
          "2015-01-02",
          "2015-01-05",
          "2015-01-06",
          "2015-01-07",
          "2015-01-08",
          "2015-01-09",
          "2015-01-12",
          "2015-01-13",
          "2015-01-14",
          "2015-01-15",
          "2015-01-16",
          "2015-01-20",
          "2015-01-21",
          "2015-01-22",
          "2015-01-23",
          "2015-01-26",
          "2015-01-27",
          "2015-01-28",
          "2015-01-29",
          "2015-01-30",
          "2015-02-02",
          "2015-02-03",
          "2015-02-04",
          "2015-02-05",
          "2015-02-06",
          "2015-02-09",
          "2015-02-10",
          "2015-02-11",
          "2015-02-12",
          "2015-02-13",
          "2015-02-17",
          "2015-02-18",
          "2015-02-19",
          "2015-02-20",
          "2015-02-23",
          "2015-02-24",
          "2015-02-25",
          "2015-02-26",
          "2015-02-27",
          "2015-03-02",
          "2015-03-03",
          "2015-03-04",
          "2015-03-05",
          "2015-03-06",
          "2015-03-09",
          "2015-03-10",
          "2015-03-11",
          "2015-03-12",
          "2015-03-13",
          "2015-03-16",
          "2015-03-17",
          "2015-03-18",
          "2015-03-19",
          "2015-03-20",
          "2015-03-23",
          "2015-03-24",
          "2015-03-25",
          "2015-03-26",
          "2015-03-27",
          "2015-03-30",
          "2015-03-31",
          "2015-04-01",
          "2015-04-02",
          "2015-04-06",
          "2015-04-07",
          "2015-04-08",
          "2015-04-09",
          "2015-04-10",
          "2015-04-13",
          "2015-04-14",
          "2015-04-15",
          "2015-04-16",
          "2015-04-17",
          "2015-04-20",
          "2015-04-21",
          "2015-04-22",
          "2015-04-23",
          "2015-04-24",
          "2015-04-27",
          "2015-04-28",
          "2015-04-29",
          "2015-04-30",
          "2015-05-01",
          "2015-05-04",
          "2015-05-05",
          "2015-05-06",
          "2015-05-07",
          "2015-05-08",
          "2015-05-11",
          "2015-05-12",
          "2015-05-13",
          "2015-05-14",
          "2015-05-15",
          "2015-05-18",
          "2015-05-19",
          "2015-05-20",
          "2015-05-21",
          "2015-05-22",
          "2015-05-26",
          "2015-05-27",
          "2015-05-28",
          "2015-05-29",
          "2015-06-01",
          "2015-06-02",
          "2015-06-03",
          "2015-06-04",
          "2015-06-05",
          "2015-06-08",
          "2015-06-09",
          "2015-06-10",
          "2015-06-11",
          "2015-06-12",
          "2015-06-15",
          "2015-06-16",
          "2015-06-17",
          "2015-06-18",
          "2015-06-19",
          "2015-06-22",
          "2015-06-23",
          "2015-06-24",
          "2015-06-25",
          "2015-06-26",
          "2015-06-29",
          "2015-06-30",
          "2015-07-01",
          "2015-07-02",
          "2015-07-06",
          "2015-07-07",
          "2015-07-08",
          "2015-07-09",
          "2015-07-10",
          "2015-07-13",
          "2015-07-14",
          "2015-07-15",
          "2015-07-16",
          "2015-07-17",
          "2015-07-20",
          "2015-07-21",
          "2015-07-22",
          "2015-07-23",
          "2015-07-24",
          "2015-07-27",
          "2015-07-28",
          "2015-07-29",
          "2015-07-30",
          "2015-07-31",
          "2015-08-03",
          "2015-08-04",
          "2015-08-05",
          "2015-08-06",
          "2015-08-07",
          "2015-08-10",
          "2015-08-11",
          "2015-08-12",
          "2015-08-13",
          "2015-08-14",
          "2015-08-17",
          "2015-08-18",
          "2015-08-19",
          "2015-08-20",
          "2015-08-21",
          "2015-08-24",
          "2015-08-25",
          "2015-08-26",
          "2015-08-27",
          "2015-08-28",
          "2015-08-31",
          "2015-09-01",
          "2015-09-02",
          "2015-09-03",
          "2015-09-04",
          "2015-09-08",
          "2015-09-09",
          "2015-09-10",
          "2015-09-11",
          "2015-09-14",
          "2015-09-15",
          "2015-09-16",
          "2015-09-17",
          "2015-09-18",
          "2015-09-21",
          "2015-09-22",
          "2015-09-23",
          "2015-09-24",
          "2015-09-25",
          "2015-09-28",
          "2015-09-29",
          "2015-09-30",
          "2015-10-01",
          "2015-10-02",
          "2015-10-05",
          "2015-10-06",
          "2015-10-07",
          "2015-10-08",
          "2015-10-09",
          "2015-10-12",
          "2015-10-13",
          "2015-10-14",
          "2015-10-15",
          "2015-10-16",
          "2015-10-19",
          "2015-10-20",
          "2015-10-21",
          "2015-10-22",
          "2015-10-23",
          "2015-10-26",
          "2015-10-27",
          "2015-10-28",
          "2015-10-29",
          "2015-10-30",
          "2015-11-02",
          "2015-11-03",
          "2015-11-04",
          "2015-11-05",
          "2015-11-06",
          "2015-11-09",
          "2015-11-10",
          "2015-11-11",
          "2015-11-12",
          "2015-11-13",
          "2015-11-16",
          "2015-11-17",
          "2015-11-18",
          "2015-11-19",
          "2015-11-20",
          "2015-11-23",
          "2015-11-24",
          "2015-11-25",
          "2015-11-27",
          "2015-11-30",
          "2015-12-01",
          "2015-12-02",
          "2015-12-03",
          "2015-12-04",
          "2015-12-07",
          "2015-12-08",
          "2015-12-09",
          "2015-12-10",
          "2015-12-11",
          "2015-12-14",
          "2015-12-15",
          "2015-12-16",
          "2015-12-17",
          "2015-12-18",
          "2015-12-21",
          "2015-12-22",
          "2015-12-23",
          "2015-12-24",
          "2015-12-28",
          "2015-12-29",
          "2015-12-30",
          "2015-12-31"
         ],
         "y": [
          "",
          "",
          "",
          "",
          "",
          "",
          "",
          "",
          "",
          "",
          "",
          "",
          "",
          "",
          "",
          "",
          "",
          "",
          "",
          "",
          35.58666666666666,
          35.41190476190475,
          35.28190476190475,
          35.21095238095237,
          35.15619047619047,
          35.06761904761903,
          35.03333333333332,
          35.03333333333332,
          35.07476190476189,
          35.14952380952379,
          35.26095238095236,
          35.33142857142855,
          35.40666666666665,
          35.50238095238093,
          35.53761904761903,
          35.613333333333316,
          35.68380952380951,
          35.75047619047617,
          35.84666666666665,
          35.93571428571427,
          36.031428571428556,
          36.06333333333332,
          36.08619047619046,
          36.12238095238094,
          36.157619047619036,
          36.1142857142857,
          36.08190476190475,
          36.12619047619047,
          36.12523809523809,
          36.11714285714285,
          36.10619047619047,
          36.097142857142856,
          36.084761904761905,
          36.09285714285714,
          36.07238095238095,
          36.070952380952384,
          36.00952380952381,
          35.96333333333333,
          35.95238095238095,
          35.97714285714286,
          35.95095238095238,
          35.95809523809524,
          36.004285714285714,
          36.02285714285714,
          36.04238095238096,
          36.0704761904762,
          36.15428571428572,
          36.21571428571429,
          36.17809523809524,
          36.20142857142857,
          36.23285714285714,
          36.27142857142857,
          36.272380952380956,
          36.31285714285715,
          36.32476190476191,
          36.36714285714286,
          36.42142857142857,
          36.51238095238095,
          36.58047619047619,
          36.63809523809523,
          36.69428571428571,
          36.771428571428565,
          36.844761904761896,
          36.93285714285713,
          37.00619047619047,
          37.05904761904761,
          37.11999999999999,
          37.1795238095238,
          37.27523809523808,
          37.342857142857135,
          37.38761904761903,
          37.423333333333325,
          37.44666666666666,
          37.52190476190475,
          37.60428571428571,
          37.6795238095238,
          37.7195238095238,
          37.757142857142846,
          37.777619047619034,
          37.85238095238094,
          37.93285714285713,
          37.96666666666666,
          38.027142857142856,
          38.07523809523809,
          38.12761904761904,
          38.18714285714285,
          38.29380952380952,
          38.36761904761905,
          38.42666666666667,
          38.50476190476191,
          38.607142857142854,
          38.69428571428572,
          38.76047619047619,
          38.85047619047619,
          38.910000000000004,
          38.962380952380954,
          39.01190476190476,
          39.09809523809524,
          39.1952380952381,
          39.28333333333334,
          39.31190476190477,
          39.34857142857144,
          39.353809523809524,
          39.36380952380952,
          39.40380952380953,
          39.403333333333336,
          39.41047619047619,
          39.37857142857143,
          39.31666666666666,
          39.26761904761905,
          39.20809523809524,
          39.18190476190476,
          39.18666666666667,
          39.19476190476191,
          39.20285714285715,
          39.23238095238096,
          39.244285714285716,
          39.27809523809525,
          39.310952380952386,
          39.298095238095236,
          39.296190476190475,
          39.29761904761905,
          39.285714285714285,
          39.33238095238095,
          39.35666666666667,
          39.33190476190477,
          39.32047619047619,
          39.32380952380952,
          39.34190476190476,
          39.396190476190476,
          39.41904761904762,
          39.44,
          39.37333333333333,
          39.271428571428565,
          39.17857142857142,
          39.089999999999996,
          38.991904761904756,
          38.88619047619047,
          38.76047619047618,
          38.55238095238095,
          38.2795238095238,
          37.92999999999999,
          37.57333333333332,
          37.28999999999999,
          37.05238095238094,
          36.80238095238094,
          36.59333333333333,
          36.3247619047619,
          36.08047619047618,
          35.83285714285713,
          35.5595238095238,
          35.35428571428571,
          35.10047619047618,
          34.907619047619036,
          34.73714285714285,
          34.5495238095238,
          34.3842857142857,
          34.21666666666666,
          34.03714285714285,
          33.82714285714284,
          33.69238095238094,
          33.608095238095224,
          33.61095238095237,
          33.620952380952374,
          33.56809523809523,
          33.41523809523809,
          33.27047619047619,
          33.129999999999995,
          33.052857142857135,
          32.94047619047618,
          32.86857142857142,
          32.829047619047614,
          32.76523809523809,
          32.72904761904761,
          32.67428571428571,
          32.61761904761904,
          32.56047619047618,
          32.46333333333332,
          32.41523809523808,
          32.41047619047618,
          32.37666666666666,
          32.3247619047619,
          32.27904761904762,
          32.280476190476186,
          32.311428571428564,
          32.32857142857142,
          32.382857142857134,
          32.49857142857142,
          32.59571428571427,
          32.66571428571427,
          32.76333333333333,
          32.81095238095237,
          32.860476190476184,
          32.90571428571428,
          33.02095238095237,
          33.134761904761895,
          33.25095238095238,
          33.365714285714276,
          33.44619047619047,
          33.46142857142856,
          33.46619047619046,
          33.52666666666666,
          33.62190476190475,
          33.749999999999986,
          33.82428571428569,
          33.87285714285712,
          33.922380952380934,
          33.98809523809522,
          34.0042857142857,
          34.04047619047618,
          34.149999999999984,
          34.21714285714284,
          34.272380952380935,
          34.363809523809515,
          34.401904761904746,
          34.337619047619036,
          34.25476190476189,
          34.168095238095226,
          34.028095238095226,
          33.916190476190465,
          33.86428571428571,
          33.84333333333333,
          33.78571428571428,
          33.6447619047619,
          33.52619047619047,
          33.44571428571428,
          33.396190476190476,
          33.34333333333333,
          33.274761904761895,
          33.21619047619047,
          33.117619047619044,
          32.952857142857134
         ]
        },
        {
         "line": {
          "color": "rgba(55, 128, 191, 0.7999999999999998)",
          "dash": "solid",
          "shape": "linear",
          "width": 1.3
         },
         "mode": "lines",
         "name": "SMA(55)",
         "text": "",
         "type": "scatter",
         "x": [
          "2015-01-02",
          "2015-01-05",
          "2015-01-06",
          "2015-01-07",
          "2015-01-08",
          "2015-01-09",
          "2015-01-12",
          "2015-01-13",
          "2015-01-14",
          "2015-01-15",
          "2015-01-16",
          "2015-01-20",
          "2015-01-21",
          "2015-01-22",
          "2015-01-23",
          "2015-01-26",
          "2015-01-27",
          "2015-01-28",
          "2015-01-29",
          "2015-01-30",
          "2015-02-02",
          "2015-02-03",
          "2015-02-04",
          "2015-02-05",
          "2015-02-06",
          "2015-02-09",
          "2015-02-10",
          "2015-02-11",
          "2015-02-12",
          "2015-02-13",
          "2015-02-17",
          "2015-02-18",
          "2015-02-19",
          "2015-02-20",
          "2015-02-23",
          "2015-02-24",
          "2015-02-25",
          "2015-02-26",
          "2015-02-27",
          "2015-03-02",
          "2015-03-03",
          "2015-03-04",
          "2015-03-05",
          "2015-03-06",
          "2015-03-09",
          "2015-03-10",
          "2015-03-11",
          "2015-03-12",
          "2015-03-13",
          "2015-03-16",
          "2015-03-17",
          "2015-03-18",
          "2015-03-19",
          "2015-03-20",
          "2015-03-23",
          "2015-03-24",
          "2015-03-25",
          "2015-03-26",
          "2015-03-27",
          "2015-03-30",
          "2015-03-31",
          "2015-04-01",
          "2015-04-02",
          "2015-04-06",
          "2015-04-07",
          "2015-04-08",
          "2015-04-09",
          "2015-04-10",
          "2015-04-13",
          "2015-04-14",
          "2015-04-15",
          "2015-04-16",
          "2015-04-17",
          "2015-04-20",
          "2015-04-21",
          "2015-04-22",
          "2015-04-23",
          "2015-04-24",
          "2015-04-27",
          "2015-04-28",
          "2015-04-29",
          "2015-04-30",
          "2015-05-01",
          "2015-05-04",
          "2015-05-05",
          "2015-05-06",
          "2015-05-07",
          "2015-05-08",
          "2015-05-11",
          "2015-05-12",
          "2015-05-13",
          "2015-05-14",
          "2015-05-15",
          "2015-05-18",
          "2015-05-19",
          "2015-05-20",
          "2015-05-21",
          "2015-05-22",
          "2015-05-26",
          "2015-05-27",
          "2015-05-28",
          "2015-05-29",
          "2015-06-01",
          "2015-06-02",
          "2015-06-03",
          "2015-06-04",
          "2015-06-05",
          "2015-06-08",
          "2015-06-09",
          "2015-06-10",
          "2015-06-11",
          "2015-06-12",
          "2015-06-15",
          "2015-06-16",
          "2015-06-17",
          "2015-06-18",
          "2015-06-19",
          "2015-06-22",
          "2015-06-23",
          "2015-06-24",
          "2015-06-25",
          "2015-06-26",
          "2015-06-29",
          "2015-06-30",
          "2015-07-01",
          "2015-07-02",
          "2015-07-06",
          "2015-07-07",
          "2015-07-08",
          "2015-07-09",
          "2015-07-10",
          "2015-07-13",
          "2015-07-14",
          "2015-07-15",
          "2015-07-16",
          "2015-07-17",
          "2015-07-20",
          "2015-07-21",
          "2015-07-22",
          "2015-07-23",
          "2015-07-24",
          "2015-07-27",
          "2015-07-28",
          "2015-07-29",
          "2015-07-30",
          "2015-07-31",
          "2015-08-03",
          "2015-08-04",
          "2015-08-05",
          "2015-08-06",
          "2015-08-07",
          "2015-08-10",
          "2015-08-11",
          "2015-08-12",
          "2015-08-13",
          "2015-08-14",
          "2015-08-17",
          "2015-08-18",
          "2015-08-19",
          "2015-08-20",
          "2015-08-21",
          "2015-08-24",
          "2015-08-25",
          "2015-08-26",
          "2015-08-27",
          "2015-08-28",
          "2015-08-31",
          "2015-09-01",
          "2015-09-02",
          "2015-09-03",
          "2015-09-04",
          "2015-09-08",
          "2015-09-09",
          "2015-09-10",
          "2015-09-11",
          "2015-09-14",
          "2015-09-15",
          "2015-09-16",
          "2015-09-17",
          "2015-09-18",
          "2015-09-21",
          "2015-09-22",
          "2015-09-23",
          "2015-09-24",
          "2015-09-25",
          "2015-09-28",
          "2015-09-29",
          "2015-09-30",
          "2015-10-01",
          "2015-10-02",
          "2015-10-05",
          "2015-10-06",
          "2015-10-07",
          "2015-10-08",
          "2015-10-09",
          "2015-10-12",
          "2015-10-13",
          "2015-10-14",
          "2015-10-15",
          "2015-10-16",
          "2015-10-19",
          "2015-10-20",
          "2015-10-21",
          "2015-10-22",
          "2015-10-23",
          "2015-10-26",
          "2015-10-27",
          "2015-10-28",
          "2015-10-29",
          "2015-10-30",
          "2015-11-02",
          "2015-11-03",
          "2015-11-04",
          "2015-11-05",
          "2015-11-06",
          "2015-11-09",
          "2015-11-10",
          "2015-11-11",
          "2015-11-12",
          "2015-11-13",
          "2015-11-16",
          "2015-11-17",
          "2015-11-18",
          "2015-11-19",
          "2015-11-20",
          "2015-11-23",
          "2015-11-24",
          "2015-11-25",
          "2015-11-27",
          "2015-11-30",
          "2015-12-01",
          "2015-12-02",
          "2015-12-03",
          "2015-12-04",
          "2015-12-07",
          "2015-12-08",
          "2015-12-09",
          "2015-12-10",
          "2015-12-11",
          "2015-12-14",
          "2015-12-15",
          "2015-12-16",
          "2015-12-17",
          "2015-12-18",
          "2015-12-21",
          "2015-12-22",
          "2015-12-23",
          "2015-12-24",
          "2015-12-28",
          "2015-12-29",
          "2015-12-30",
          "2015-12-31"
         ],
         "y": [
          "",
          "",
          "",
          "",
          "",
          "",
          "",
          "",
          "",
          "",
          "",
          "",
          "",
          "",
          "",
          "",
          "",
          "",
          "",
          "",
          "",
          "",
          "",
          "",
          "",
          "",
          "",
          "",
          "",
          "",
          "",
          "",
          "",
          "",
          "",
          "",
          "",
          "",
          "",
          "",
          "",
          "",
          "",
          "",
          "",
          "",
          "",
          "",
          "",
          "",
          "",
          "",
          "",
          "",
          35.88309090909089,
          35.8381818181818,
          35.80090909090907,
          35.78636363636362,
          35.76618181818179,
          35.744727272727246,
          35.723090909090885,
          35.71581818181816,
          35.71636363636361,
          35.729090909090885,
          35.75381818181816,
          35.77872727272725,
          35.81309090909089,
          35.840545454545435,
          35.85454545454543,
          35.88527272727271,
          35.926727272727256,
          35.975818181818155,
          36.02999999999998,
          36.07709090909089,
          36.130545454545434,
          36.18109090909089,
          36.223636363636345,
          36.27072727272726,
          36.309272727272706,
          36.33199999999998,
          36.365818181818156,
          36.38672727272725,
          36.40745454545452,
          36.42581818181816,
          36.43799999999998,
          36.440363636363614,
          36.46163636363634,
          36.48999999999998,
          36.51745454545453,
          36.54381818181816,
          36.56272727272725,
          36.59090909090907,
          36.62345454545453,
          36.66963636363634,
          36.7141818181818,
          36.75981818181817,
          36.81345454545454,
          36.86163636363635,
          36.90272727272726,
          36.956363636363626,
          37.02636363636363,
          37.08545454545453,
          37.11254545454544,
          37.151999999999994,
          37.19345454545454,
          37.23254545454545,
          37.279090909090904,
          37.33327272727273,
          37.38109090909091,
          37.44618181818182,
          37.51218181818182,
          37.587818181818186,
          37.658909090909106,
          37.73000000000001,
          37.789454545454554,
          37.86400000000001,
          37.925818181818194,
          37.99472727272728,
          38.0729090909091,
          38.14018181818183,
          38.194,
          38.246,
          38.28363636363637,
          38.32890909090909,
          38.37472727272728,
          38.404,
          38.43109090909091,
          38.46509090909091,
          38.48018181818181,
          38.504727272727266,
          38.530909090909084,
          38.56618181818182,
          38.60890909090909,
          38.6570909090909,
          38.70927272727271,
          38.75854545454544,
          38.80818181818181,
          38.854909090909075,
          38.902727272727255,
          38.947999999999986,
          38.99436363636362,
          39.02545454545453,
          39.050181818181805,
          39.069090909090896,
          39.09781818181818,
          39.117090909090905,
          39.12836363636364,
          39.14781818181818,
          39.160000000000004,
          39.16436363636364,
          39.16890909090909,
          39.18781818181818,
          39.18327272727272,
          39.17927272727273,
          39.16345454545455,
          39.15109090909092,
          39.150000000000006,
          39.13618181818183,
          39.11654545454547,
          39.064909090909104,
          38.98327272727274,
          38.85545454545456,
          38.72218181818184,
          38.61618181818184,
          38.514545454545484,
          38.408727272727305,
          38.31490909090912,
          38.19836363636366,
          38.09018181818185,
          37.98509090909094,
          37.86509090909094,
          37.77236363636367,
          37.66145454545458,
          37.54618181818185,
          37.44345454545458,
          37.34509090909094,
          37.2556363636364,
          37.18854545454548,
          37.10236363636367,
          36.98727272727277,
          36.88436363636367,
          36.76781818181822,
          36.65327272727277,
          36.54745454545459,
          36.44000000000005,
          36.30272727272732,
          36.15163636363641,
          36.00236363636368,
          35.853272727272774,
          35.699090909090955,
          35.55527272727277,
          35.41563636363641,
          35.28563636363641,
          35.14836363636368,
          35.01709090909095,
          34.893454545454595,
          34.772727272727316,
          34.650727272727316,
          34.54745454545459,
          34.45018181818186,
          34.331636363636406,
          34.21327272727277,
          34.078000000000046,
          33.95709090909095,
          33.84236363636368,
          33.73272727272731,
          33.60818181818186,
          33.526727272727314,
          33.45345454545459,
          33.366545454545495,
          33.28345454545459,
          33.195272727272766,
          33.11490909090914,
          33.05018181818186,
          33.03636363636368,
          33.05272727272732,
          33.106909090909134,
          33.16618181818186,
          33.18309090909095,
          33.17636363636368,
          33.17636363636368,
          33.160727272727314,
          33.18127272727277,
          33.18818181818187,
          33.19018181818187,
          33.19836363636369,
          33.18600000000005,
          33.183454545454595,
          33.18181818181823,
          33.18745454545459,
          33.21400000000005,
          33.21963636363642,
          33.21654545454551,
          33.23963636363642,
          33.26963636363642,
          33.28272727272733,
          33.29963636363642,
          33.31963636363642,
          33.321636363636415,
          33.31600000000005,
          33.34781818181824,
          33.39509090909096,
          33.411090909090966,
          33.40727272727278,
          33.41181818181824,
          33.41054545454551,
          33.41490909090915,
          33.40672727272733,
          33.39181818181824,
          33.38872727272733,
          33.378363636363694,
          33.36381818181824
         ]
        }
       ],
       "layout": {
        "legend": {
         "bgcolor": "#F5F6F9",
         "font": {
          "color": "#4D5663"
         }
        },
        "paper_bgcolor": "#F5F6F9",
        "plot_bgcolor": "#F5F6F9",
        "template": {
         "data": {
          "bar": [
           {
            "error_x": {
             "color": "#2a3f5f"
            },
            "error_y": {
             "color": "#2a3f5f"
            },
            "marker": {
             "line": {
              "color": "#E5ECF6",
              "width": 0.5
             }
            },
            "type": "bar"
           }
          ],
          "barpolar": [
           {
            "marker": {
             "line": {
              "color": "#E5ECF6",
              "width": 0.5
             }
            },
            "type": "barpolar"
           }
          ],
          "carpet": [
           {
            "aaxis": {
             "endlinecolor": "#2a3f5f",
             "gridcolor": "white",
             "linecolor": "white",
             "minorgridcolor": "white",
             "startlinecolor": "#2a3f5f"
            },
            "baxis": {
             "endlinecolor": "#2a3f5f",
             "gridcolor": "white",
             "linecolor": "white",
             "minorgridcolor": "white",
             "startlinecolor": "#2a3f5f"
            },
            "type": "carpet"
           }
          ],
          "choropleth": [
           {
            "colorbar": {
             "outlinewidth": 0,
             "ticks": ""
            },
            "type": "choropleth"
           }
          ],
          "contour": [
           {
            "colorbar": {
             "outlinewidth": 0,
             "ticks": ""
            },
            "colorscale": [
             [
              0,
              "#0d0887"
             ],
             [
              0.1111111111111111,
              "#46039f"
             ],
             [
              0.2222222222222222,
              "#7201a8"
             ],
             [
              0.3333333333333333,
              "#9c179e"
             ],
             [
              0.4444444444444444,
              "#bd3786"
             ],
             [
              0.5555555555555556,
              "#d8576b"
             ],
             [
              0.6666666666666666,
              "#ed7953"
             ],
             [
              0.7777777777777778,
              "#fb9f3a"
             ],
             [
              0.8888888888888888,
              "#fdca26"
             ],
             [
              1,
              "#f0f921"
             ]
            ],
            "type": "contour"
           }
          ],
          "contourcarpet": [
           {
            "colorbar": {
             "outlinewidth": 0,
             "ticks": ""
            },
            "type": "contourcarpet"
           }
          ],
          "heatmap": [
           {
            "colorbar": {
             "outlinewidth": 0,
             "ticks": ""
            },
            "colorscale": [
             [
              0,
              "#0d0887"
             ],
             [
              0.1111111111111111,
              "#46039f"
             ],
             [
              0.2222222222222222,
              "#7201a8"
             ],
             [
              0.3333333333333333,
              "#9c179e"
             ],
             [
              0.4444444444444444,
              "#bd3786"
             ],
             [
              0.5555555555555556,
              "#d8576b"
             ],
             [
              0.6666666666666666,
              "#ed7953"
             ],
             [
              0.7777777777777778,
              "#fb9f3a"
             ],
             [
              0.8888888888888888,
              "#fdca26"
             ],
             [
              1,
              "#f0f921"
             ]
            ],
            "type": "heatmap"
           }
          ],
          "heatmapgl": [
           {
            "colorbar": {
             "outlinewidth": 0,
             "ticks": ""
            },
            "colorscale": [
             [
              0,
              "#0d0887"
             ],
             [
              0.1111111111111111,
              "#46039f"
             ],
             [
              0.2222222222222222,
              "#7201a8"
             ],
             [
              0.3333333333333333,
              "#9c179e"
             ],
             [
              0.4444444444444444,
              "#bd3786"
             ],
             [
              0.5555555555555556,
              "#d8576b"
             ],
             [
              0.6666666666666666,
              "#ed7953"
             ],
             [
              0.7777777777777778,
              "#fb9f3a"
             ],
             [
              0.8888888888888888,
              "#fdca26"
             ],
             [
              1,
              "#f0f921"
             ]
            ],
            "type": "heatmapgl"
           }
          ],
          "histogram": [
           {
            "marker": {
             "colorbar": {
              "outlinewidth": 0,
              "ticks": ""
             }
            },
            "type": "histogram"
           }
          ],
          "histogram2d": [
           {
            "colorbar": {
             "outlinewidth": 0,
             "ticks": ""
            },
            "colorscale": [
             [
              0,
              "#0d0887"
             ],
             [
              0.1111111111111111,
              "#46039f"
             ],
             [
              0.2222222222222222,
              "#7201a8"
             ],
             [
              0.3333333333333333,
              "#9c179e"
             ],
             [
              0.4444444444444444,
              "#bd3786"
             ],
             [
              0.5555555555555556,
              "#d8576b"
             ],
             [
              0.6666666666666666,
              "#ed7953"
             ],
             [
              0.7777777777777778,
              "#fb9f3a"
             ],
             [
              0.8888888888888888,
              "#fdca26"
             ],
             [
              1,
              "#f0f921"
             ]
            ],
            "type": "histogram2d"
           }
          ],
          "histogram2dcontour": [
           {
            "colorbar": {
             "outlinewidth": 0,
             "ticks": ""
            },
            "colorscale": [
             [
              0,
              "#0d0887"
             ],
             [
              0.1111111111111111,
              "#46039f"
             ],
             [
              0.2222222222222222,
              "#7201a8"
             ],
             [
              0.3333333333333333,
              "#9c179e"
             ],
             [
              0.4444444444444444,
              "#bd3786"
             ],
             [
              0.5555555555555556,
              "#d8576b"
             ],
             [
              0.6666666666666666,
              "#ed7953"
             ],
             [
              0.7777777777777778,
              "#fb9f3a"
             ],
             [
              0.8888888888888888,
              "#fdca26"
             ],
             [
              1,
              "#f0f921"
             ]
            ],
            "type": "histogram2dcontour"
           }
          ],
          "mesh3d": [
           {
            "colorbar": {
             "outlinewidth": 0,
             "ticks": ""
            },
            "type": "mesh3d"
           }
          ],
          "parcoords": [
           {
            "line": {
             "colorbar": {
              "outlinewidth": 0,
              "ticks": ""
             }
            },
            "type": "parcoords"
           }
          ],
          "pie": [
           {
            "automargin": true,
            "type": "pie"
           }
          ],
          "scatter": [
           {
            "marker": {
             "colorbar": {
              "outlinewidth": 0,
              "ticks": ""
             }
            },
            "type": "scatter"
           }
          ],
          "scatter3d": [
           {
            "line": {
             "colorbar": {
              "outlinewidth": 0,
              "ticks": ""
             }
            },
            "marker": {
             "colorbar": {
              "outlinewidth": 0,
              "ticks": ""
             }
            },
            "type": "scatter3d"
           }
          ],
          "scattercarpet": [
           {
            "marker": {
             "colorbar": {
              "outlinewidth": 0,
              "ticks": ""
             }
            },
            "type": "scattercarpet"
           }
          ],
          "scattergeo": [
           {
            "marker": {
             "colorbar": {
              "outlinewidth": 0,
              "ticks": ""
             }
            },
            "type": "scattergeo"
           }
          ],
          "scattergl": [
           {
            "marker": {
             "colorbar": {
              "outlinewidth": 0,
              "ticks": ""
             }
            },
            "type": "scattergl"
           }
          ],
          "scattermapbox": [
           {
            "marker": {
             "colorbar": {
              "outlinewidth": 0,
              "ticks": ""
             }
            },
            "type": "scattermapbox"
           }
          ],
          "scatterpolar": [
           {
            "marker": {
             "colorbar": {
              "outlinewidth": 0,
              "ticks": ""
             }
            },
            "type": "scatterpolar"
           }
          ],
          "scatterpolargl": [
           {
            "marker": {
             "colorbar": {
              "outlinewidth": 0,
              "ticks": ""
             }
            },
            "type": "scatterpolargl"
           }
          ],
          "scatterternary": [
           {
            "marker": {
             "colorbar": {
              "outlinewidth": 0,
              "ticks": ""
             }
            },
            "type": "scatterternary"
           }
          ],
          "surface": [
           {
            "colorbar": {
             "outlinewidth": 0,
             "ticks": ""
            },
            "colorscale": [
             [
              0,
              "#0d0887"
             ],
             [
              0.1111111111111111,
              "#46039f"
             ],
             [
              0.2222222222222222,
              "#7201a8"
             ],
             [
              0.3333333333333333,
              "#9c179e"
             ],
             [
              0.4444444444444444,
              "#bd3786"
             ],
             [
              0.5555555555555556,
              "#d8576b"
             ],
             [
              0.6666666666666666,
              "#ed7953"
             ],
             [
              0.7777777777777778,
              "#fb9f3a"
             ],
             [
              0.8888888888888888,
              "#fdca26"
             ],
             [
              1,
              "#f0f921"
             ]
            ],
            "type": "surface"
           }
          ],
          "table": [
           {
            "cells": {
             "fill": {
              "color": "#EBF0F8"
             },
             "line": {
              "color": "white"
             }
            },
            "header": {
             "fill": {
              "color": "#C8D4E3"
             },
             "line": {
              "color": "white"
             }
            },
            "type": "table"
           }
          ]
         },
         "layout": {
          "annotationdefaults": {
           "arrowcolor": "#2a3f5f",
           "arrowhead": 0,
           "arrowwidth": 1
          },
          "autotypenumbers": "strict",
          "coloraxis": {
           "colorbar": {
            "outlinewidth": 0,
            "ticks": ""
           }
          },
          "colorscale": {
           "diverging": [
            [
             0,
             "#8e0152"
            ],
            [
             0.1,
             "#c51b7d"
            ],
            [
             0.2,
             "#de77ae"
            ],
            [
             0.3,
             "#f1b6da"
            ],
            [
             0.4,
             "#fde0ef"
            ],
            [
             0.5,
             "#f7f7f7"
            ],
            [
             0.6,
             "#e6f5d0"
            ],
            [
             0.7,
             "#b8e186"
            ],
            [
             0.8,
             "#7fbc41"
            ],
            [
             0.9,
             "#4d9221"
            ],
            [
             1,
             "#276419"
            ]
           ],
           "sequential": [
            [
             0,
             "#0d0887"
            ],
            [
             0.1111111111111111,
             "#46039f"
            ],
            [
             0.2222222222222222,
             "#7201a8"
            ],
            [
             0.3333333333333333,
             "#9c179e"
            ],
            [
             0.4444444444444444,
             "#bd3786"
            ],
            [
             0.5555555555555556,
             "#d8576b"
            ],
            [
             0.6666666666666666,
             "#ed7953"
            ],
            [
             0.7777777777777778,
             "#fb9f3a"
            ],
            [
             0.8888888888888888,
             "#fdca26"
            ],
            [
             1,
             "#f0f921"
            ]
           ],
           "sequentialminus": [
            [
             0,
             "#0d0887"
            ],
            [
             0.1111111111111111,
             "#46039f"
            ],
            [
             0.2222222222222222,
             "#7201a8"
            ],
            [
             0.3333333333333333,
             "#9c179e"
            ],
            [
             0.4444444444444444,
             "#bd3786"
            ],
            [
             0.5555555555555556,
             "#d8576b"
            ],
            [
             0.6666666666666666,
             "#ed7953"
            ],
            [
             0.7777777777777778,
             "#fb9f3a"
            ],
            [
             0.8888888888888888,
             "#fdca26"
            ],
            [
             1,
             "#f0f921"
            ]
           ]
          },
          "colorway": [
           "#636efa",
           "#EF553B",
           "#00cc96",
           "#ab63fa",
           "#FFA15A",
           "#19d3f3",
           "#FF6692",
           "#B6E880",
           "#FF97FF",
           "#FECB52"
          ],
          "font": {
           "color": "#2a3f5f"
          },
          "geo": {
           "bgcolor": "white",
           "lakecolor": "white",
           "landcolor": "#E5ECF6",
           "showlakes": true,
           "showland": true,
           "subunitcolor": "white"
          },
          "hoverlabel": {
           "align": "left"
          },
          "hovermode": "closest",
          "mapbox": {
           "style": "light"
          },
          "paper_bgcolor": "white",
          "plot_bgcolor": "#E5ECF6",
          "polar": {
           "angularaxis": {
            "gridcolor": "white",
            "linecolor": "white",
            "ticks": ""
           },
           "bgcolor": "#E5ECF6",
           "radialaxis": {
            "gridcolor": "white",
            "linecolor": "white",
            "ticks": ""
           }
          },
          "scene": {
           "xaxis": {
            "backgroundcolor": "#E5ECF6",
            "gridcolor": "white",
            "gridwidth": 2,
            "linecolor": "white",
            "showbackground": true,
            "ticks": "",
            "zerolinecolor": "white"
           },
           "yaxis": {
            "backgroundcolor": "#E5ECF6",
            "gridcolor": "white",
            "gridwidth": 2,
            "linecolor": "white",
            "showbackground": true,
            "ticks": "",
            "zerolinecolor": "white"
           },
           "zaxis": {
            "backgroundcolor": "#E5ECF6",
            "gridcolor": "white",
            "gridwidth": 2,
            "linecolor": "white",
            "showbackground": true,
            "ticks": "",
            "zerolinecolor": "white"
           }
          },
          "shapedefaults": {
           "line": {
            "color": "#2a3f5f"
           }
          },
          "ternary": {
           "aaxis": {
            "gridcolor": "white",
            "linecolor": "white",
            "ticks": ""
           },
           "baxis": {
            "gridcolor": "white",
            "linecolor": "white",
            "ticks": ""
           },
           "bgcolor": "#E5ECF6",
           "caxis": {
            "gridcolor": "white",
            "linecolor": "white",
            "ticks": ""
           }
          },
          "title": {
           "x": 0.05
          },
          "xaxis": {
           "automargin": true,
           "gridcolor": "white",
           "linecolor": "white",
           "ticks": "",
           "title": {
            "standoff": 15
           },
           "zerolinecolor": "white",
           "zerolinewidth": 2
          },
          "yaxis": {
           "automargin": true,
           "gridcolor": "white",
           "linecolor": "white",
           "ticks": "",
           "title": {
            "standoff": 15
           },
           "zerolinecolor": "white",
           "zerolinewidth": 2
          }
         }
        },
        "title": {
         "font": {
          "color": "#4D5663"
         }
        },
        "xaxis": {
         "gridcolor": "#E1E5ED",
         "showgrid": true,
         "tickfont": {
          "color": "#4D5663"
         },
         "title": {
          "font": {
           "color": "#4D5663"
          },
          "text": ""
         },
         "zerolinecolor": "#E1E5ED"
        },
        "yaxis": {
         "gridcolor": "#E1E5ED",
         "showgrid": true,
         "tickfont": {
          "color": "#4D5663"
         },
         "title": {
          "font": {
           "color": "#4D5663"
          },
          "text": ""
         },
         "zerolinecolor": "#E1E5ED"
        }
       }
      },
      "text/html": [
       "<div>                            <div id=\"aaa8544d-83a2-4c42-b207-b1a65378f218\" class=\"plotly-graph-div\" style=\"height:525px; width:100%;\"></div>            <script type=\"text/javascript\">                require([\"plotly\"], function(Plotly) {                    window.PLOTLYENV=window.PLOTLYENV || {};\n",
       "                    window.PLOTLYENV.BASE_URL='https://plot.ly';                                    if (document.getElementById(\"aaa8544d-83a2-4c42-b207-b1a65378f218\")) {                    Plotly.newPlot(                        \"aaa8544d-83a2-4c42-b207-b1a65378f218\",                        [{\"line\": {\"color\": \"rgba(255, 153, 51, 1.0)\", \"dash\": \"solid\", \"shape\": \"linear\", \"width\": 1.3}, \"mode\": \"lines\", \"name\": \"Close\", \"text\": \"\", \"type\": \"scatter\", \"x\": [\"2015-01-02\", \"2015-01-05\", \"2015-01-06\", \"2015-01-07\", \"2015-01-08\", \"2015-01-09\", \"2015-01-12\", \"2015-01-13\", \"2015-01-14\", \"2015-01-15\", \"2015-01-16\", \"2015-01-20\", \"2015-01-21\", \"2015-01-22\", \"2015-01-23\", \"2015-01-26\", \"2015-01-27\", \"2015-01-28\", \"2015-01-29\", \"2015-01-30\", \"2015-02-02\", \"2015-02-03\", \"2015-02-04\", \"2015-02-05\", \"2015-02-06\", \"2015-02-09\", \"2015-02-10\", \"2015-02-11\", \"2015-02-12\", \"2015-02-13\", \"2015-02-17\", \"2015-02-18\", \"2015-02-19\", \"2015-02-20\", \"2015-02-23\", \"2015-02-24\", \"2015-02-25\", \"2015-02-26\", \"2015-02-27\", \"2015-03-02\", \"2015-03-03\", \"2015-03-04\", \"2015-03-05\", \"2015-03-06\", \"2015-03-09\", \"2015-03-10\", \"2015-03-11\", \"2015-03-12\", \"2015-03-13\", \"2015-03-16\", \"2015-03-17\", \"2015-03-18\", \"2015-03-19\", \"2015-03-20\", \"2015-03-23\", \"2015-03-24\", \"2015-03-25\", \"2015-03-26\", \"2015-03-27\", \"2015-03-30\", \"2015-03-31\", \"2015-04-01\", \"2015-04-02\", \"2015-04-06\", \"2015-04-07\", \"2015-04-08\", \"2015-04-09\", \"2015-04-10\", \"2015-04-13\", \"2015-04-14\", \"2015-04-15\", \"2015-04-16\", \"2015-04-17\", \"2015-04-20\", \"2015-04-21\", \"2015-04-22\", \"2015-04-23\", \"2015-04-24\", \"2015-04-27\", \"2015-04-28\", \"2015-04-29\", \"2015-04-30\", \"2015-05-01\", \"2015-05-04\", \"2015-05-05\", \"2015-05-06\", \"2015-05-07\", \"2015-05-08\", \"2015-05-11\", \"2015-05-12\", \"2015-05-13\", \"2015-05-14\", \"2015-05-15\", \"2015-05-18\", \"2015-05-19\", \"2015-05-20\", \"2015-05-21\", \"2015-05-22\", \"2015-05-26\", \"2015-05-27\", \"2015-05-28\", \"2015-05-29\", \"2015-06-01\", \"2015-06-02\", \"2015-06-03\", \"2015-06-04\", \"2015-06-05\", \"2015-06-08\", \"2015-06-09\", \"2015-06-10\", \"2015-06-11\", \"2015-06-12\", \"2015-06-15\", \"2015-06-16\", \"2015-06-17\", \"2015-06-18\", \"2015-06-19\", \"2015-06-22\", \"2015-06-23\", \"2015-06-24\", \"2015-06-25\", \"2015-06-26\", \"2015-06-29\", \"2015-06-30\", \"2015-07-01\", \"2015-07-02\", \"2015-07-06\", \"2015-07-07\", \"2015-07-08\", \"2015-07-09\", \"2015-07-10\", \"2015-07-13\", \"2015-07-14\", \"2015-07-15\", \"2015-07-16\", \"2015-07-17\", \"2015-07-20\", \"2015-07-21\", \"2015-07-22\", \"2015-07-23\", \"2015-07-24\", \"2015-07-27\", \"2015-07-28\", \"2015-07-29\", \"2015-07-30\", \"2015-07-31\", \"2015-08-03\", \"2015-08-04\", \"2015-08-05\", \"2015-08-06\", \"2015-08-07\", \"2015-08-10\", \"2015-08-11\", \"2015-08-12\", \"2015-08-13\", \"2015-08-14\", \"2015-08-17\", \"2015-08-18\", \"2015-08-19\", \"2015-08-20\", \"2015-08-21\", \"2015-08-24\", \"2015-08-25\", \"2015-08-26\", \"2015-08-27\", \"2015-08-28\", \"2015-08-31\", \"2015-09-01\", \"2015-09-02\", \"2015-09-03\", \"2015-09-04\", \"2015-09-08\", \"2015-09-09\", \"2015-09-10\", \"2015-09-11\", \"2015-09-14\", \"2015-09-15\", \"2015-09-16\", \"2015-09-17\", \"2015-09-18\", \"2015-09-21\", \"2015-09-22\", \"2015-09-23\", \"2015-09-24\", \"2015-09-25\", \"2015-09-28\", \"2015-09-29\", \"2015-09-30\", \"2015-10-01\", \"2015-10-02\", \"2015-10-05\", \"2015-10-06\", \"2015-10-07\", \"2015-10-08\", \"2015-10-09\", \"2015-10-12\", \"2015-10-13\", \"2015-10-14\", \"2015-10-15\", \"2015-10-16\", \"2015-10-19\", \"2015-10-20\", \"2015-10-21\", \"2015-10-22\", \"2015-10-23\", \"2015-10-26\", \"2015-10-27\", \"2015-10-28\", \"2015-10-29\", \"2015-10-30\", \"2015-11-02\", \"2015-11-03\", \"2015-11-04\", \"2015-11-05\", \"2015-11-06\", \"2015-11-09\", \"2015-11-10\", \"2015-11-11\", \"2015-11-12\", \"2015-11-13\", \"2015-11-16\", \"2015-11-17\", \"2015-11-18\", \"2015-11-19\", \"2015-11-20\", \"2015-11-23\", \"2015-11-24\", \"2015-11-25\", \"2015-11-27\", \"2015-11-30\", \"2015-12-01\", \"2015-12-02\", \"2015-12-03\", \"2015-12-04\", \"2015-12-07\", \"2015-12-08\", \"2015-12-09\", \"2015-12-10\", \"2015-12-11\", \"2015-12-14\", \"2015-12-15\", \"2015-12-16\", \"2015-12-17\", \"2015-12-18\", \"2015-12-21\", \"2015-12-22\", \"2015-12-23\", \"2015-12-24\", \"2015-12-28\", \"2015-12-29\", \"2015-12-30\", \"2015-12-31\"], \"y\": [38.71, 37.5, 36.42, 36.94, 37.49, 36.88, 36.37, 36.03, 35.21, 34.58, 34.89, 34.75, 34.73, 35.53, 35.15, 35.11, 34.66, 33.77, 34.37, 33.81, 34.42, 35.04, 34.77, 34.93, 35.79, 35.63, 36.16, 36.37, 36.9, 36.78, 36.92, 36.37, 36.33, 36.74, 36.27, 36.74, 36.59, 36.06, 35.79, 36.24, 35.82, 35.09, 35.52, 35.53, 35.67, 34.88, 34.95, 37.09, 36.35, 36.73, 36.55, 36.73, 36.11, 36.5, 36.31, 36.24, 35.45, 35.62, 35.83, 36.31, 35.69, 35.97, 36.06, 35.91, 35.94, 36.26, 36.64, 36.24, 36.3, 36.84, 37.39, 37.36, 36.75, 36.96, 36.75, 37.2, 37.38, 37.36, 37.05, 37.04, 37.49, 37.31, 37.51, 37.91, 37.45, 37.05, 37.54, 37.89, 38.25, 37.72, 37.78, 38.14, 37.85, 38.33, 38.69, 38.33, 38.04, 38.17, 37.79, 38.62, 38.73, 38.2, 38.58, 38.52, 39.01, 38.7, 39.29, 39.09, 39.13, 39.89, 39.87, 39.61, 39.53, 39.74, 39.58, 39.79, 39.37, 39.85, 40.21, 39.64, 39.22, 39.5, 38.31, 38.79, 39.36, 39.0, 38.85, 38.62, 37.79, 38.1, 38.64, 39.32, 39.71, 39.7, 39.91, 40.2, 40.04, 40.08, 40.54, 39.94, 39.6, 39.25, 39.25, 39.29, 39.3, 38.84, 38.76, 38.92, 39.0, 38.93, 38.58, 39.08, 37.92, 37.57, 37.75, 38.05, 38.14, 37.82, 37.44, 36.17, 34.21, 32.26, 31.76, 33.3, 34.3, 34.05, 34.45, 33.12, 33.79, 33.8, 33.19, 34.27, 33.75, 33.87, 33.99, 33.81, 34.58, 34.62, 34.05, 33.03, 33.34, 32.44, 32.32, 31.97, 32.19, 31.09, 31.01, 31.5, 31.5, 31.43, 32.29, 32.36, 32.93, 32.99, 32.72, 32.8, 32.61, 32.54, 33.61, 33.95, 32.32, 32.25, 31.48, 32.35, 32.62, 32.55, 32.23, 33.44, 33.54, 32.97, 33.48, 33.29, 33.4, 33.88, 35.41, 35.11, 35.24, 35.02, 34.23, 33.93, 34.05, 33.59, 34.25, 34.17, 33.91, 33.64, 33.59, 33.61, 33.78, 34.3, 35.27, 34.89, 34.45, 35.32, 34.68, 34.06, 33.37, 33.42, 32.08, 31.88, 32.84, 33.61, 32.38, 31.29, 31.68, 32.22, 32.6, 32.48, 32.17, 32.55, 32.23, 31.81]}, {\"line\": {\"color\": \"rgba(55, 128, 191, 1.0)\", \"dash\": \"solid\", \"shape\": \"linear\", \"width\": 1.3}, \"mode\": \"lines\", \"name\": \"SMA(13)\", \"text\": \"\", \"type\": \"scatter\", \"x\": [\"2015-01-02\", \"2015-01-05\", \"2015-01-06\", \"2015-01-07\", \"2015-01-08\", \"2015-01-09\", \"2015-01-12\", \"2015-01-13\", \"2015-01-14\", \"2015-01-15\", \"2015-01-16\", \"2015-01-20\", \"2015-01-21\", \"2015-01-22\", \"2015-01-23\", \"2015-01-26\", \"2015-01-27\", \"2015-01-28\", \"2015-01-29\", \"2015-01-30\", \"2015-02-02\", \"2015-02-03\", \"2015-02-04\", \"2015-02-05\", \"2015-02-06\", \"2015-02-09\", \"2015-02-10\", \"2015-02-11\", \"2015-02-12\", \"2015-02-13\", \"2015-02-17\", \"2015-02-18\", \"2015-02-19\", \"2015-02-20\", \"2015-02-23\", \"2015-02-24\", \"2015-02-25\", \"2015-02-26\", \"2015-02-27\", \"2015-03-02\", \"2015-03-03\", \"2015-03-04\", \"2015-03-05\", \"2015-03-06\", \"2015-03-09\", \"2015-03-10\", \"2015-03-11\", \"2015-03-12\", \"2015-03-13\", \"2015-03-16\", \"2015-03-17\", \"2015-03-18\", \"2015-03-19\", \"2015-03-20\", \"2015-03-23\", \"2015-03-24\", \"2015-03-25\", \"2015-03-26\", \"2015-03-27\", \"2015-03-30\", \"2015-03-31\", \"2015-04-01\", \"2015-04-02\", \"2015-04-06\", \"2015-04-07\", \"2015-04-08\", \"2015-04-09\", \"2015-04-10\", \"2015-04-13\", \"2015-04-14\", \"2015-04-15\", \"2015-04-16\", \"2015-04-17\", \"2015-04-20\", \"2015-04-21\", \"2015-04-22\", \"2015-04-23\", \"2015-04-24\", \"2015-04-27\", \"2015-04-28\", \"2015-04-29\", \"2015-04-30\", \"2015-05-01\", \"2015-05-04\", \"2015-05-05\", \"2015-05-06\", \"2015-05-07\", \"2015-05-08\", \"2015-05-11\", \"2015-05-12\", \"2015-05-13\", \"2015-05-14\", \"2015-05-15\", \"2015-05-18\", \"2015-05-19\", \"2015-05-20\", \"2015-05-21\", \"2015-05-22\", \"2015-05-26\", \"2015-05-27\", \"2015-05-28\", \"2015-05-29\", \"2015-06-01\", \"2015-06-02\", \"2015-06-03\", \"2015-06-04\", \"2015-06-05\", \"2015-06-08\", \"2015-06-09\", \"2015-06-10\", \"2015-06-11\", \"2015-06-12\", \"2015-06-15\", \"2015-06-16\", \"2015-06-17\", \"2015-06-18\", \"2015-06-19\", \"2015-06-22\", \"2015-06-23\", \"2015-06-24\", \"2015-06-25\", \"2015-06-26\", \"2015-06-29\", \"2015-06-30\", \"2015-07-01\", \"2015-07-02\", \"2015-07-06\", \"2015-07-07\", \"2015-07-08\", \"2015-07-09\", \"2015-07-10\", \"2015-07-13\", \"2015-07-14\", \"2015-07-15\", \"2015-07-16\", \"2015-07-17\", \"2015-07-20\", \"2015-07-21\", \"2015-07-22\", \"2015-07-23\", \"2015-07-24\", \"2015-07-27\", \"2015-07-28\", \"2015-07-29\", \"2015-07-30\", \"2015-07-31\", \"2015-08-03\", \"2015-08-04\", \"2015-08-05\", \"2015-08-06\", \"2015-08-07\", \"2015-08-10\", \"2015-08-11\", \"2015-08-12\", \"2015-08-13\", \"2015-08-14\", \"2015-08-17\", \"2015-08-18\", \"2015-08-19\", \"2015-08-20\", \"2015-08-21\", \"2015-08-24\", \"2015-08-25\", \"2015-08-26\", \"2015-08-27\", \"2015-08-28\", \"2015-08-31\", \"2015-09-01\", \"2015-09-02\", \"2015-09-03\", \"2015-09-04\", \"2015-09-08\", \"2015-09-09\", \"2015-09-10\", \"2015-09-11\", \"2015-09-14\", \"2015-09-15\", \"2015-09-16\", \"2015-09-17\", \"2015-09-18\", \"2015-09-21\", \"2015-09-22\", \"2015-09-23\", \"2015-09-24\", \"2015-09-25\", \"2015-09-28\", \"2015-09-29\", \"2015-09-30\", \"2015-10-01\", \"2015-10-02\", \"2015-10-05\", \"2015-10-06\", \"2015-10-07\", \"2015-10-08\", \"2015-10-09\", \"2015-10-12\", \"2015-10-13\", \"2015-10-14\", \"2015-10-15\", \"2015-10-16\", \"2015-10-19\", \"2015-10-20\", \"2015-10-21\", \"2015-10-22\", \"2015-10-23\", \"2015-10-26\", \"2015-10-27\", \"2015-10-28\", \"2015-10-29\", \"2015-10-30\", \"2015-11-02\", \"2015-11-03\", \"2015-11-04\", \"2015-11-05\", \"2015-11-06\", \"2015-11-09\", \"2015-11-10\", \"2015-11-11\", \"2015-11-12\", \"2015-11-13\", \"2015-11-16\", \"2015-11-17\", \"2015-11-18\", \"2015-11-19\", \"2015-11-20\", \"2015-11-23\", \"2015-11-24\", \"2015-11-25\", \"2015-11-27\", \"2015-11-30\", \"2015-12-01\", \"2015-12-02\", \"2015-12-03\", \"2015-12-04\", \"2015-12-07\", \"2015-12-08\", \"2015-12-09\", \"2015-12-10\", \"2015-12-11\", \"2015-12-14\", \"2015-12-15\", \"2015-12-16\", \"2015-12-17\", \"2015-12-18\", \"2015-12-21\", \"2015-12-22\", \"2015-12-23\", \"2015-12-24\", \"2015-12-28\", \"2015-12-29\", \"2015-12-30\", \"2015-12-31\"], \"y\": [\"\", \"\", \"\", \"\", \"\", \"\", \"\", \"\", \"\", \"\", \"\", \"\", 36.19230769230769, 35.94769230769231, 35.76692307692308, 35.66615384615385, 35.490769230769224, 35.20461538461538, 35.01153846153846, 34.81461538461538, 34.69076923076922, 34.677692307692304, 34.692307692307686, 34.69538461538461, 34.77538461538462, 34.84461538461538, 34.893076923076926, 34.98692307692308, 35.12461538461538, 35.28769230769231, 35.53, 35.683846153846154, 35.87769230769231, 36.05615384615385, 36.15076923076923, 36.30230769230769, 36.43, 36.450769230769225, 36.46307692307692, 36.46923076923077, 36.426923076923075, 36.28769230769231, 36.190769230769234, 36.08384615384615, 36.03, 35.918461538461536, 35.78076923076923, 35.84384615384616, 35.81384615384616, 35.824615384615385, 35.862307692307695, 35.934615384615384, 35.924615384615386, 35.97692307692308, 36.07076923076924, 36.126153846153855, 36.120000000000005, 36.11615384615385, 36.189230769230775, 36.29384615384616, 36.18615384615385, 36.156923076923086, 36.10538461538462, 36.056153846153855, 35.99538461538462, 36.00692307692308, 36.01769230769231, 36.012307692307694, 36.01692307692308, 36.12384615384616, 36.260000000000005, 36.377692307692314, 36.41153846153847, 36.509230769230776, 36.56923076923078, 36.656923076923086, 36.77000000000002, 36.87923076923079, 36.94000000000002, 36.97076923076925, 37.066923076923096, 37.144615384615406, 37.19615384615387, 37.23615384615387, 37.24307692307695, 37.26615384615387, 37.31076923076925, 37.39846153846156, 37.479230769230796, 37.505384615384635, 37.537692307692325, 37.62153846153848, 37.68384615384617, 37.74846153846155, 37.85461538461539, 37.91769230769231, 37.92769230769231, 37.98307692307692, 38.040000000000006, 38.12307692307692, 38.1876923076923, 38.183846153846154, 38.25, 38.30692307692308, 38.37384615384615, 38.439230769230775, 38.51307692307692, 38.543846153846154, 38.60538461538462, 38.74769230769231, 38.878461538461536, 39.01846153846154, 39.08846153846154, 39.16615384615385, 39.27230769230769, 39.36538461538462, 39.43076923076923, 39.49538461538462, 39.611538461538466, 39.63846153846154, 39.64846153846155, 39.67692307692308, 39.555384615384625, 39.4723076923077, 39.45307692307693, 39.4123076923077, 39.343846153846165, 39.27000000000001, 39.11615384615386, 39.01846153846155, 38.92538461538462, 38.85692307692309, 38.8623076923077, 38.89923076923078, 38.93076923076924, 39.07615384615386, 39.172307692307704, 39.22769230769232, 39.346153846153854, 39.43, 39.50538461538462, 39.617692307692316, 39.70615384615385, 39.75615384615385, 39.75461538461538, 39.6876923076923, 39.615384615384606, 39.53923076923076, 39.44692307692306, 39.361538461538444, 39.24615384615383, 39.133846153846136, 38.97846153846152, 38.82230769230767, 38.706923076923054, 38.61461538461536, 38.52615384615382, 38.412307692307664, 38.30461538461535, 38.10538461538458, 37.74307692307689, 37.224615384615355, 36.67307692307689, 36.26692307692305, 35.89923076923074, 35.60153846153843, 35.36153846153844, 35.005384615384585, 34.67769230769228, 34.34384615384613, 33.987692307692285, 33.74384615384613, 33.55769230769228, 33.53153846153844, 33.66461538461536, 33.82230769230767, 33.92076923076921, 33.94538461538459, 33.94538461538459, 33.83615384615383, 33.8530769230769, 33.74923076923074, 33.63538461538459, 33.54153846153844, 33.38153846153844, 33.17692307692305, 32.95692307692305, 32.76538461538459, 32.58769230769228, 32.34538461538459, 32.16615384615382, 32.03615384615382, 32.028461538461514, 32.00153846153843, 32.0230769230769, 32.059999999999974, 32.10923076923075, 32.136153846153825, 32.329999999999984, 32.55615384615383, 32.619230769230754, 32.67692307692306, 32.680769230769215, 32.6853846153846, 32.7053846153846, 32.67615384615383, 32.617692307692295, 32.673076923076906, 32.72999999999998, 32.757692307692295, 32.829999999999984, 32.8053846153846, 32.76307692307691, 32.883076923076906, 33.12615384615383, 33.4053846153846, 33.627692307692286, 33.81230769230767, 33.94153846153844, 34.07230769230767, 34.11923076923075, 34.1230769230769, 34.221538461538444, 34.274615384615366, 34.322307692307675, 34.34076923076921, 34.31846153846152, 34.179999999999986, 34.07769230769229, 34.0053846153846, 34.024615384615366, 34.07538461538459, 34.11538461538459, 34.2130769230769, 34.29692307692305, 34.28230769230767, 34.22076923076921, 34.1830769230769, 34.0630769230769, 33.93153846153844, 33.87230769230767, 33.85923076923075, 33.71153846153844, 33.4053846153846, 33.15846153846152, 32.986923076923055, 32.77769230769229, 32.608461538461526, 32.46307692307691, 32.399999999999984, 32.30846153846152, 32.287692307692296]}, {\"line\": {\"color\": \"rgba(55, 128, 191, 0.8999999999999999)\", \"dash\": \"solid\", \"shape\": \"linear\", \"width\": 1.3}, \"mode\": \"lines\", \"name\": \"SMA(21)\", \"text\": \"\", \"type\": \"scatter\", \"x\": [\"2015-01-02\", \"2015-01-05\", \"2015-01-06\", \"2015-01-07\", \"2015-01-08\", \"2015-01-09\", \"2015-01-12\", \"2015-01-13\", \"2015-01-14\", \"2015-01-15\", \"2015-01-16\", \"2015-01-20\", \"2015-01-21\", \"2015-01-22\", \"2015-01-23\", \"2015-01-26\", \"2015-01-27\", \"2015-01-28\", \"2015-01-29\", \"2015-01-30\", \"2015-02-02\", \"2015-02-03\", \"2015-02-04\", \"2015-02-05\", \"2015-02-06\", \"2015-02-09\", \"2015-02-10\", \"2015-02-11\", \"2015-02-12\", \"2015-02-13\", \"2015-02-17\", \"2015-02-18\", \"2015-02-19\", \"2015-02-20\", \"2015-02-23\", \"2015-02-24\", \"2015-02-25\", \"2015-02-26\", \"2015-02-27\", \"2015-03-02\", \"2015-03-03\", \"2015-03-04\", \"2015-03-05\", \"2015-03-06\", \"2015-03-09\", \"2015-03-10\", \"2015-03-11\", \"2015-03-12\", \"2015-03-13\", \"2015-03-16\", \"2015-03-17\", \"2015-03-18\", \"2015-03-19\", \"2015-03-20\", \"2015-03-23\", \"2015-03-24\", \"2015-03-25\", \"2015-03-26\", \"2015-03-27\", \"2015-03-30\", \"2015-03-31\", \"2015-04-01\", \"2015-04-02\", \"2015-04-06\", \"2015-04-07\", \"2015-04-08\", \"2015-04-09\", \"2015-04-10\", \"2015-04-13\", \"2015-04-14\", \"2015-04-15\", \"2015-04-16\", \"2015-04-17\", \"2015-04-20\", \"2015-04-21\", \"2015-04-22\", \"2015-04-23\", \"2015-04-24\", \"2015-04-27\", \"2015-04-28\", \"2015-04-29\", \"2015-04-30\", \"2015-05-01\", \"2015-05-04\", \"2015-05-05\", \"2015-05-06\", \"2015-05-07\", \"2015-05-08\", \"2015-05-11\", \"2015-05-12\", \"2015-05-13\", \"2015-05-14\", \"2015-05-15\", \"2015-05-18\", \"2015-05-19\", \"2015-05-20\", \"2015-05-21\", \"2015-05-22\", \"2015-05-26\", \"2015-05-27\", \"2015-05-28\", \"2015-05-29\", \"2015-06-01\", \"2015-06-02\", \"2015-06-03\", \"2015-06-04\", \"2015-06-05\", \"2015-06-08\", \"2015-06-09\", \"2015-06-10\", \"2015-06-11\", \"2015-06-12\", \"2015-06-15\", \"2015-06-16\", \"2015-06-17\", \"2015-06-18\", \"2015-06-19\", \"2015-06-22\", \"2015-06-23\", \"2015-06-24\", \"2015-06-25\", \"2015-06-26\", \"2015-06-29\", \"2015-06-30\", \"2015-07-01\", \"2015-07-02\", \"2015-07-06\", \"2015-07-07\", \"2015-07-08\", \"2015-07-09\", \"2015-07-10\", \"2015-07-13\", \"2015-07-14\", \"2015-07-15\", \"2015-07-16\", \"2015-07-17\", \"2015-07-20\", \"2015-07-21\", \"2015-07-22\", \"2015-07-23\", \"2015-07-24\", \"2015-07-27\", \"2015-07-28\", \"2015-07-29\", \"2015-07-30\", \"2015-07-31\", \"2015-08-03\", \"2015-08-04\", \"2015-08-05\", \"2015-08-06\", \"2015-08-07\", \"2015-08-10\", \"2015-08-11\", \"2015-08-12\", \"2015-08-13\", \"2015-08-14\", \"2015-08-17\", \"2015-08-18\", \"2015-08-19\", \"2015-08-20\", \"2015-08-21\", \"2015-08-24\", \"2015-08-25\", \"2015-08-26\", \"2015-08-27\", \"2015-08-28\", \"2015-08-31\", \"2015-09-01\", \"2015-09-02\", \"2015-09-03\", \"2015-09-04\", \"2015-09-08\", \"2015-09-09\", \"2015-09-10\", \"2015-09-11\", \"2015-09-14\", \"2015-09-15\", \"2015-09-16\", \"2015-09-17\", \"2015-09-18\", \"2015-09-21\", \"2015-09-22\", \"2015-09-23\", \"2015-09-24\", \"2015-09-25\", \"2015-09-28\", \"2015-09-29\", \"2015-09-30\", \"2015-10-01\", \"2015-10-02\", \"2015-10-05\", \"2015-10-06\", \"2015-10-07\", \"2015-10-08\", \"2015-10-09\", \"2015-10-12\", \"2015-10-13\", \"2015-10-14\", \"2015-10-15\", \"2015-10-16\", \"2015-10-19\", \"2015-10-20\", \"2015-10-21\", \"2015-10-22\", \"2015-10-23\", \"2015-10-26\", \"2015-10-27\", \"2015-10-28\", \"2015-10-29\", \"2015-10-30\", \"2015-11-02\", \"2015-11-03\", \"2015-11-04\", \"2015-11-05\", \"2015-11-06\", \"2015-11-09\", \"2015-11-10\", \"2015-11-11\", \"2015-11-12\", \"2015-11-13\", \"2015-11-16\", \"2015-11-17\", \"2015-11-18\", \"2015-11-19\", \"2015-11-20\", \"2015-11-23\", \"2015-11-24\", \"2015-11-25\", \"2015-11-27\", \"2015-11-30\", \"2015-12-01\", \"2015-12-02\", \"2015-12-03\", \"2015-12-04\", \"2015-12-07\", \"2015-12-08\", \"2015-12-09\", \"2015-12-10\", \"2015-12-11\", \"2015-12-14\", \"2015-12-15\", \"2015-12-16\", \"2015-12-17\", \"2015-12-18\", \"2015-12-21\", \"2015-12-22\", \"2015-12-23\", \"2015-12-24\", \"2015-12-28\", \"2015-12-29\", \"2015-12-30\", \"2015-12-31\"], \"y\": [\"\", \"\", \"\", \"\", \"\", \"\", \"\", \"\", \"\", \"\", \"\", \"\", \"\", \"\", \"\", \"\", \"\", \"\", \"\", \"\", 35.58666666666666, 35.41190476190475, 35.28190476190475, 35.21095238095237, 35.15619047619047, 35.06761904761903, 35.03333333333332, 35.03333333333332, 35.07476190476189, 35.14952380952379, 35.26095238095236, 35.33142857142855, 35.40666666666665, 35.50238095238093, 35.53761904761903, 35.613333333333316, 35.68380952380951, 35.75047619047617, 35.84666666666665, 35.93571428571427, 36.031428571428556, 36.06333333333332, 36.08619047619046, 36.12238095238094, 36.157619047619036, 36.1142857142857, 36.08190476190475, 36.12619047619047, 36.12523809523809, 36.11714285714285, 36.10619047619047, 36.097142857142856, 36.084761904761905, 36.09285714285714, 36.07238095238095, 36.070952380952384, 36.00952380952381, 35.96333333333333, 35.95238095238095, 35.97714285714286, 35.95095238095238, 35.95809523809524, 36.004285714285714, 36.02285714285714, 36.04238095238096, 36.0704761904762, 36.15428571428572, 36.21571428571429, 36.17809523809524, 36.20142857142857, 36.23285714285714, 36.27142857142857, 36.272380952380956, 36.31285714285715, 36.32476190476191, 36.36714285714286, 36.42142857142857, 36.51238095238095, 36.58047619047619, 36.63809523809523, 36.69428571428571, 36.771428571428565, 36.844761904761896, 36.93285714285713, 37.00619047619047, 37.05904761904761, 37.11999999999999, 37.1795238095238, 37.27523809523808, 37.342857142857135, 37.38761904761903, 37.423333333333325, 37.44666666666666, 37.52190476190475, 37.60428571428571, 37.6795238095238, 37.7195238095238, 37.757142857142846, 37.777619047619034, 37.85238095238094, 37.93285714285713, 37.96666666666666, 38.027142857142856, 38.07523809523809, 38.12761904761904, 38.18714285714285, 38.29380952380952, 38.36761904761905, 38.42666666666667, 38.50476190476191, 38.607142857142854, 38.69428571428572, 38.76047619047619, 38.85047619047619, 38.910000000000004, 38.962380952380954, 39.01190476190476, 39.09809523809524, 39.1952380952381, 39.28333333333334, 39.31190476190477, 39.34857142857144, 39.353809523809524, 39.36380952380952, 39.40380952380953, 39.403333333333336, 39.41047619047619, 39.37857142857143, 39.31666666666666, 39.26761904761905, 39.20809523809524, 39.18190476190476, 39.18666666666667, 39.19476190476191, 39.20285714285715, 39.23238095238096, 39.244285714285716, 39.27809523809525, 39.310952380952386, 39.298095238095236, 39.296190476190475, 39.29761904761905, 39.285714285714285, 39.33238095238095, 39.35666666666667, 39.33190476190477, 39.32047619047619, 39.32380952380952, 39.34190476190476, 39.396190476190476, 39.41904761904762, 39.44, 39.37333333333333, 39.271428571428565, 39.17857142857142, 39.089999999999996, 38.991904761904756, 38.88619047619047, 38.76047619047618, 38.55238095238095, 38.2795238095238, 37.92999999999999, 37.57333333333332, 37.28999999999999, 37.05238095238094, 36.80238095238094, 36.59333333333333, 36.3247619047619, 36.08047619047618, 35.83285714285713, 35.5595238095238, 35.35428571428571, 35.10047619047618, 34.907619047619036, 34.73714285714285, 34.5495238095238, 34.3842857142857, 34.21666666666666, 34.03714285714285, 33.82714285714284, 33.69238095238094, 33.608095238095224, 33.61095238095237, 33.620952380952374, 33.56809523809523, 33.41523809523809, 33.27047619047619, 33.129999999999995, 33.052857142857135, 32.94047619047618, 32.86857142857142, 32.829047619047614, 32.76523809523809, 32.72904761904761, 32.67428571428571, 32.61761904761904, 32.56047619047618, 32.46333333333332, 32.41523809523808, 32.41047619047618, 32.37666666666666, 32.3247619047619, 32.27904761904762, 32.280476190476186, 32.311428571428564, 32.32857142857142, 32.382857142857134, 32.49857142857142, 32.59571428571427, 32.66571428571427, 32.76333333333333, 32.81095238095237, 32.860476190476184, 32.90571428571428, 33.02095238095237, 33.134761904761895, 33.25095238095238, 33.365714285714276, 33.44619047619047, 33.46142857142856, 33.46619047619046, 33.52666666666666, 33.62190476190475, 33.749999999999986, 33.82428571428569, 33.87285714285712, 33.922380952380934, 33.98809523809522, 34.0042857142857, 34.04047619047618, 34.149999999999984, 34.21714285714284, 34.272380952380935, 34.363809523809515, 34.401904761904746, 34.337619047619036, 34.25476190476189, 34.168095238095226, 34.028095238095226, 33.916190476190465, 33.86428571428571, 33.84333333333333, 33.78571428571428, 33.6447619047619, 33.52619047619047, 33.44571428571428, 33.396190476190476, 33.34333333333333, 33.274761904761895, 33.21619047619047, 33.117619047619044, 32.952857142857134]}, {\"line\": {\"color\": \"rgba(55, 128, 191, 0.7999999999999998)\", \"dash\": \"solid\", \"shape\": \"linear\", \"width\": 1.3}, \"mode\": \"lines\", \"name\": \"SMA(55)\", \"text\": \"\", \"type\": \"scatter\", \"x\": [\"2015-01-02\", \"2015-01-05\", \"2015-01-06\", \"2015-01-07\", \"2015-01-08\", \"2015-01-09\", \"2015-01-12\", \"2015-01-13\", \"2015-01-14\", \"2015-01-15\", \"2015-01-16\", \"2015-01-20\", \"2015-01-21\", \"2015-01-22\", \"2015-01-23\", \"2015-01-26\", \"2015-01-27\", \"2015-01-28\", \"2015-01-29\", \"2015-01-30\", \"2015-02-02\", \"2015-02-03\", \"2015-02-04\", \"2015-02-05\", \"2015-02-06\", \"2015-02-09\", \"2015-02-10\", \"2015-02-11\", \"2015-02-12\", \"2015-02-13\", \"2015-02-17\", \"2015-02-18\", \"2015-02-19\", \"2015-02-20\", \"2015-02-23\", \"2015-02-24\", \"2015-02-25\", \"2015-02-26\", \"2015-02-27\", \"2015-03-02\", \"2015-03-03\", \"2015-03-04\", \"2015-03-05\", \"2015-03-06\", \"2015-03-09\", \"2015-03-10\", \"2015-03-11\", \"2015-03-12\", \"2015-03-13\", \"2015-03-16\", \"2015-03-17\", \"2015-03-18\", \"2015-03-19\", \"2015-03-20\", \"2015-03-23\", \"2015-03-24\", \"2015-03-25\", \"2015-03-26\", \"2015-03-27\", \"2015-03-30\", \"2015-03-31\", \"2015-04-01\", \"2015-04-02\", \"2015-04-06\", \"2015-04-07\", \"2015-04-08\", \"2015-04-09\", \"2015-04-10\", \"2015-04-13\", \"2015-04-14\", \"2015-04-15\", \"2015-04-16\", \"2015-04-17\", \"2015-04-20\", \"2015-04-21\", \"2015-04-22\", \"2015-04-23\", \"2015-04-24\", \"2015-04-27\", \"2015-04-28\", \"2015-04-29\", \"2015-04-30\", \"2015-05-01\", \"2015-05-04\", \"2015-05-05\", \"2015-05-06\", \"2015-05-07\", \"2015-05-08\", \"2015-05-11\", \"2015-05-12\", \"2015-05-13\", \"2015-05-14\", \"2015-05-15\", \"2015-05-18\", \"2015-05-19\", \"2015-05-20\", \"2015-05-21\", \"2015-05-22\", \"2015-05-26\", \"2015-05-27\", \"2015-05-28\", \"2015-05-29\", \"2015-06-01\", \"2015-06-02\", \"2015-06-03\", \"2015-06-04\", \"2015-06-05\", \"2015-06-08\", \"2015-06-09\", \"2015-06-10\", \"2015-06-11\", \"2015-06-12\", \"2015-06-15\", \"2015-06-16\", \"2015-06-17\", \"2015-06-18\", \"2015-06-19\", \"2015-06-22\", \"2015-06-23\", \"2015-06-24\", \"2015-06-25\", \"2015-06-26\", \"2015-06-29\", \"2015-06-30\", \"2015-07-01\", \"2015-07-02\", \"2015-07-06\", \"2015-07-07\", \"2015-07-08\", \"2015-07-09\", \"2015-07-10\", \"2015-07-13\", \"2015-07-14\", \"2015-07-15\", \"2015-07-16\", \"2015-07-17\", \"2015-07-20\", \"2015-07-21\", \"2015-07-22\", \"2015-07-23\", \"2015-07-24\", \"2015-07-27\", \"2015-07-28\", \"2015-07-29\", \"2015-07-30\", \"2015-07-31\", \"2015-08-03\", \"2015-08-04\", \"2015-08-05\", \"2015-08-06\", \"2015-08-07\", \"2015-08-10\", \"2015-08-11\", \"2015-08-12\", \"2015-08-13\", \"2015-08-14\", \"2015-08-17\", \"2015-08-18\", \"2015-08-19\", \"2015-08-20\", \"2015-08-21\", \"2015-08-24\", \"2015-08-25\", \"2015-08-26\", \"2015-08-27\", \"2015-08-28\", \"2015-08-31\", \"2015-09-01\", \"2015-09-02\", \"2015-09-03\", \"2015-09-04\", \"2015-09-08\", \"2015-09-09\", \"2015-09-10\", \"2015-09-11\", \"2015-09-14\", \"2015-09-15\", \"2015-09-16\", \"2015-09-17\", \"2015-09-18\", \"2015-09-21\", \"2015-09-22\", \"2015-09-23\", \"2015-09-24\", \"2015-09-25\", \"2015-09-28\", \"2015-09-29\", \"2015-09-30\", \"2015-10-01\", \"2015-10-02\", \"2015-10-05\", \"2015-10-06\", \"2015-10-07\", \"2015-10-08\", \"2015-10-09\", \"2015-10-12\", \"2015-10-13\", \"2015-10-14\", \"2015-10-15\", \"2015-10-16\", \"2015-10-19\", \"2015-10-20\", \"2015-10-21\", \"2015-10-22\", \"2015-10-23\", \"2015-10-26\", \"2015-10-27\", \"2015-10-28\", \"2015-10-29\", \"2015-10-30\", \"2015-11-02\", \"2015-11-03\", \"2015-11-04\", \"2015-11-05\", \"2015-11-06\", \"2015-11-09\", \"2015-11-10\", \"2015-11-11\", \"2015-11-12\", \"2015-11-13\", \"2015-11-16\", \"2015-11-17\", \"2015-11-18\", \"2015-11-19\", \"2015-11-20\", \"2015-11-23\", \"2015-11-24\", \"2015-11-25\", \"2015-11-27\", \"2015-11-30\", \"2015-12-01\", \"2015-12-02\", \"2015-12-03\", \"2015-12-04\", \"2015-12-07\", \"2015-12-08\", \"2015-12-09\", \"2015-12-10\", \"2015-12-11\", \"2015-12-14\", \"2015-12-15\", \"2015-12-16\", \"2015-12-17\", \"2015-12-18\", \"2015-12-21\", \"2015-12-22\", \"2015-12-23\", \"2015-12-24\", \"2015-12-28\", \"2015-12-29\", \"2015-12-30\", \"2015-12-31\"], \"y\": [\"\", \"\", \"\", \"\", \"\", \"\", \"\", \"\", \"\", \"\", \"\", \"\", \"\", \"\", \"\", \"\", \"\", \"\", \"\", \"\", \"\", \"\", \"\", \"\", \"\", \"\", \"\", \"\", \"\", \"\", \"\", \"\", \"\", \"\", \"\", \"\", \"\", \"\", \"\", \"\", \"\", \"\", \"\", \"\", \"\", \"\", \"\", \"\", \"\", \"\", \"\", \"\", \"\", \"\", 35.88309090909089, 35.8381818181818, 35.80090909090907, 35.78636363636362, 35.76618181818179, 35.744727272727246, 35.723090909090885, 35.71581818181816, 35.71636363636361, 35.729090909090885, 35.75381818181816, 35.77872727272725, 35.81309090909089, 35.840545454545435, 35.85454545454543, 35.88527272727271, 35.926727272727256, 35.975818181818155, 36.02999999999998, 36.07709090909089, 36.130545454545434, 36.18109090909089, 36.223636363636345, 36.27072727272726, 36.309272727272706, 36.33199999999998, 36.365818181818156, 36.38672727272725, 36.40745454545452, 36.42581818181816, 36.43799999999998, 36.440363636363614, 36.46163636363634, 36.48999999999998, 36.51745454545453, 36.54381818181816, 36.56272727272725, 36.59090909090907, 36.62345454545453, 36.66963636363634, 36.7141818181818, 36.75981818181817, 36.81345454545454, 36.86163636363635, 36.90272727272726, 36.956363636363626, 37.02636363636363, 37.08545454545453, 37.11254545454544, 37.151999999999994, 37.19345454545454, 37.23254545454545, 37.279090909090904, 37.33327272727273, 37.38109090909091, 37.44618181818182, 37.51218181818182, 37.587818181818186, 37.658909090909106, 37.73000000000001, 37.789454545454554, 37.86400000000001, 37.925818181818194, 37.99472727272728, 38.0729090909091, 38.14018181818183, 38.194, 38.246, 38.28363636363637, 38.32890909090909, 38.37472727272728, 38.404, 38.43109090909091, 38.46509090909091, 38.48018181818181, 38.504727272727266, 38.530909090909084, 38.56618181818182, 38.60890909090909, 38.6570909090909, 38.70927272727271, 38.75854545454544, 38.80818181818181, 38.854909090909075, 38.902727272727255, 38.947999999999986, 38.99436363636362, 39.02545454545453, 39.050181818181805, 39.069090909090896, 39.09781818181818, 39.117090909090905, 39.12836363636364, 39.14781818181818, 39.160000000000004, 39.16436363636364, 39.16890909090909, 39.18781818181818, 39.18327272727272, 39.17927272727273, 39.16345454545455, 39.15109090909092, 39.150000000000006, 39.13618181818183, 39.11654545454547, 39.064909090909104, 38.98327272727274, 38.85545454545456, 38.72218181818184, 38.61618181818184, 38.514545454545484, 38.408727272727305, 38.31490909090912, 38.19836363636366, 38.09018181818185, 37.98509090909094, 37.86509090909094, 37.77236363636367, 37.66145454545458, 37.54618181818185, 37.44345454545458, 37.34509090909094, 37.2556363636364, 37.18854545454548, 37.10236363636367, 36.98727272727277, 36.88436363636367, 36.76781818181822, 36.65327272727277, 36.54745454545459, 36.44000000000005, 36.30272727272732, 36.15163636363641, 36.00236363636368, 35.853272727272774, 35.699090909090955, 35.55527272727277, 35.41563636363641, 35.28563636363641, 35.14836363636368, 35.01709090909095, 34.893454545454595, 34.772727272727316, 34.650727272727316, 34.54745454545459, 34.45018181818186, 34.331636363636406, 34.21327272727277, 34.078000000000046, 33.95709090909095, 33.84236363636368, 33.73272727272731, 33.60818181818186, 33.526727272727314, 33.45345454545459, 33.366545454545495, 33.28345454545459, 33.195272727272766, 33.11490909090914, 33.05018181818186, 33.03636363636368, 33.05272727272732, 33.106909090909134, 33.16618181818186, 33.18309090909095, 33.17636363636368, 33.17636363636368, 33.160727272727314, 33.18127272727277, 33.18818181818187, 33.19018181818187, 33.19836363636369, 33.18600000000005, 33.183454545454595, 33.18181818181823, 33.18745454545459, 33.21400000000005, 33.21963636363642, 33.21654545454551, 33.23963636363642, 33.26963636363642, 33.28272727272733, 33.29963636363642, 33.31963636363642, 33.321636363636415, 33.31600000000005, 33.34781818181824, 33.39509090909096, 33.411090909090966, 33.40727272727278, 33.41181818181824, 33.41054545454551, 33.41490909090915, 33.40672727272733, 33.39181818181824, 33.38872727272733, 33.378363636363694, 33.36381818181824]}],                        {\"legend\": {\"bgcolor\": \"#F5F6F9\", \"font\": {\"color\": \"#4D5663\"}}, \"paper_bgcolor\": \"#F5F6F9\", \"plot_bgcolor\": \"#F5F6F9\", \"template\": {\"data\": {\"bar\": [{\"error_x\": {\"color\": \"#2a3f5f\"}, \"error_y\": {\"color\": \"#2a3f5f\"}, \"marker\": {\"line\": {\"color\": \"#E5ECF6\", \"width\": 0.5}}, \"type\": \"bar\"}], \"barpolar\": [{\"marker\": {\"line\": {\"color\": \"#E5ECF6\", \"width\": 0.5}}, \"type\": \"barpolar\"}], \"carpet\": [{\"aaxis\": {\"endlinecolor\": \"#2a3f5f\", \"gridcolor\": \"white\", \"linecolor\": \"white\", \"minorgridcolor\": \"white\", \"startlinecolor\": \"#2a3f5f\"}, \"baxis\": {\"endlinecolor\": \"#2a3f5f\", \"gridcolor\": \"white\", \"linecolor\": \"white\", \"minorgridcolor\": \"white\", \"startlinecolor\": \"#2a3f5f\"}, \"type\": \"carpet\"}], \"choropleth\": [{\"colorbar\": {\"outlinewidth\": 0, \"ticks\": \"\"}, \"type\": \"choropleth\"}], \"contour\": [{\"colorbar\": {\"outlinewidth\": 0, \"ticks\": \"\"}, \"colorscale\": [[0.0, \"#0d0887\"], [0.1111111111111111, \"#46039f\"], [0.2222222222222222, \"#7201a8\"], [0.3333333333333333, \"#9c179e\"], [0.4444444444444444, \"#bd3786\"], [0.5555555555555556, \"#d8576b\"], [0.6666666666666666, \"#ed7953\"], [0.7777777777777778, \"#fb9f3a\"], [0.8888888888888888, \"#fdca26\"], [1.0, \"#f0f921\"]], \"type\": \"contour\"}], \"contourcarpet\": [{\"colorbar\": {\"outlinewidth\": 0, \"ticks\": \"\"}, \"type\": \"contourcarpet\"}], \"heatmap\": [{\"colorbar\": {\"outlinewidth\": 0, \"ticks\": \"\"}, \"colorscale\": [[0.0, \"#0d0887\"], [0.1111111111111111, \"#46039f\"], [0.2222222222222222, \"#7201a8\"], [0.3333333333333333, \"#9c179e\"], [0.4444444444444444, \"#bd3786\"], [0.5555555555555556, \"#d8576b\"], [0.6666666666666666, \"#ed7953\"], [0.7777777777777778, \"#fb9f3a\"], [0.8888888888888888, \"#fdca26\"], [1.0, \"#f0f921\"]], \"type\": \"heatmap\"}], \"heatmapgl\": [{\"colorbar\": {\"outlinewidth\": 0, \"ticks\": \"\"}, \"colorscale\": [[0.0, \"#0d0887\"], [0.1111111111111111, \"#46039f\"], [0.2222222222222222, \"#7201a8\"], [0.3333333333333333, \"#9c179e\"], [0.4444444444444444, \"#bd3786\"], [0.5555555555555556, \"#d8576b\"], [0.6666666666666666, \"#ed7953\"], [0.7777777777777778, \"#fb9f3a\"], [0.8888888888888888, \"#fdca26\"], [1.0, \"#f0f921\"]], \"type\": \"heatmapgl\"}], \"histogram\": [{\"marker\": {\"colorbar\": {\"outlinewidth\": 0, \"ticks\": \"\"}}, \"type\": \"histogram\"}], \"histogram2d\": [{\"colorbar\": {\"outlinewidth\": 0, \"ticks\": \"\"}, \"colorscale\": [[0.0, \"#0d0887\"], [0.1111111111111111, \"#46039f\"], [0.2222222222222222, \"#7201a8\"], [0.3333333333333333, \"#9c179e\"], [0.4444444444444444, \"#bd3786\"], [0.5555555555555556, \"#d8576b\"], [0.6666666666666666, \"#ed7953\"], [0.7777777777777778, \"#fb9f3a\"], [0.8888888888888888, \"#fdca26\"], [1.0, \"#f0f921\"]], \"type\": \"histogram2d\"}], \"histogram2dcontour\": [{\"colorbar\": {\"outlinewidth\": 0, \"ticks\": \"\"}, \"colorscale\": [[0.0, \"#0d0887\"], [0.1111111111111111, \"#46039f\"], [0.2222222222222222, \"#7201a8\"], [0.3333333333333333, \"#9c179e\"], [0.4444444444444444, \"#bd3786\"], [0.5555555555555556, \"#d8576b\"], [0.6666666666666666, \"#ed7953\"], [0.7777777777777778, \"#fb9f3a\"], [0.8888888888888888, \"#fdca26\"], [1.0, \"#f0f921\"]], \"type\": \"histogram2dcontour\"}], \"mesh3d\": [{\"colorbar\": {\"outlinewidth\": 0, \"ticks\": \"\"}, \"type\": \"mesh3d\"}], \"parcoords\": [{\"line\": {\"colorbar\": {\"outlinewidth\": 0, \"ticks\": \"\"}}, \"type\": \"parcoords\"}], \"pie\": [{\"automargin\": true, \"type\": \"pie\"}], \"scatter\": [{\"marker\": {\"colorbar\": {\"outlinewidth\": 0, \"ticks\": \"\"}}, \"type\": \"scatter\"}], \"scatter3d\": [{\"line\": {\"colorbar\": {\"outlinewidth\": 0, \"ticks\": \"\"}}, \"marker\": {\"colorbar\": {\"outlinewidth\": 0, \"ticks\": \"\"}}, \"type\": \"scatter3d\"}], \"scattercarpet\": [{\"marker\": {\"colorbar\": {\"outlinewidth\": 0, \"ticks\": \"\"}}, \"type\": \"scattercarpet\"}], \"scattergeo\": [{\"marker\": {\"colorbar\": {\"outlinewidth\": 0, \"ticks\": \"\"}}, \"type\": \"scattergeo\"}], \"scattergl\": [{\"marker\": {\"colorbar\": {\"outlinewidth\": 0, \"ticks\": \"\"}}, \"type\": \"scattergl\"}], \"scattermapbox\": [{\"marker\": {\"colorbar\": {\"outlinewidth\": 0, \"ticks\": \"\"}}, \"type\": \"scattermapbox\"}], \"scatterpolar\": [{\"marker\": {\"colorbar\": {\"outlinewidth\": 0, \"ticks\": \"\"}}, \"type\": \"scatterpolar\"}], \"scatterpolargl\": [{\"marker\": {\"colorbar\": {\"outlinewidth\": 0, \"ticks\": \"\"}}, \"type\": \"scatterpolargl\"}], \"scatterternary\": [{\"marker\": {\"colorbar\": {\"outlinewidth\": 0, \"ticks\": \"\"}}, \"type\": \"scatterternary\"}], \"surface\": [{\"colorbar\": {\"outlinewidth\": 0, \"ticks\": \"\"}, \"colorscale\": [[0.0, \"#0d0887\"], [0.1111111111111111, \"#46039f\"], [0.2222222222222222, \"#7201a8\"], [0.3333333333333333, \"#9c179e\"], [0.4444444444444444, \"#bd3786\"], [0.5555555555555556, \"#d8576b\"], [0.6666666666666666, \"#ed7953\"], [0.7777777777777778, \"#fb9f3a\"], [0.8888888888888888, \"#fdca26\"], [1.0, \"#f0f921\"]], \"type\": \"surface\"}], \"table\": [{\"cells\": {\"fill\": {\"color\": \"#EBF0F8\"}, \"line\": {\"color\": \"white\"}}, \"header\": {\"fill\": {\"color\": \"#C8D4E3\"}, \"line\": {\"color\": \"white\"}}, \"type\": \"table\"}]}, \"layout\": {\"annotationdefaults\": {\"arrowcolor\": \"#2a3f5f\", \"arrowhead\": 0, \"arrowwidth\": 1}, \"autotypenumbers\": \"strict\", \"coloraxis\": {\"colorbar\": {\"outlinewidth\": 0, \"ticks\": \"\"}}, \"colorscale\": {\"diverging\": [[0, \"#8e0152\"], [0.1, \"#c51b7d\"], [0.2, \"#de77ae\"], [0.3, \"#f1b6da\"], [0.4, \"#fde0ef\"], [0.5, \"#f7f7f7\"], [0.6, \"#e6f5d0\"], [0.7, \"#b8e186\"], [0.8, \"#7fbc41\"], [0.9, \"#4d9221\"], [1, \"#276419\"]], \"sequential\": [[0.0, \"#0d0887\"], [0.1111111111111111, \"#46039f\"], [0.2222222222222222, \"#7201a8\"], [0.3333333333333333, \"#9c179e\"], [0.4444444444444444, \"#bd3786\"], [0.5555555555555556, \"#d8576b\"], [0.6666666666666666, \"#ed7953\"], [0.7777777777777778, \"#fb9f3a\"], [0.8888888888888888, \"#fdca26\"], [1.0, \"#f0f921\"]], \"sequentialminus\": [[0.0, \"#0d0887\"], [0.1111111111111111, \"#46039f\"], [0.2222222222222222, \"#7201a8\"], [0.3333333333333333, \"#9c179e\"], [0.4444444444444444, \"#bd3786\"], [0.5555555555555556, \"#d8576b\"], [0.6666666666666666, \"#ed7953\"], [0.7777777777777778, \"#fb9f3a\"], [0.8888888888888888, \"#fdca26\"], [1.0, \"#f0f921\"]]}, \"colorway\": [\"#636efa\", \"#EF553B\", \"#00cc96\", \"#ab63fa\", \"#FFA15A\", \"#19d3f3\", \"#FF6692\", \"#B6E880\", \"#FF97FF\", \"#FECB52\"], \"font\": {\"color\": \"#2a3f5f\"}, \"geo\": {\"bgcolor\": \"white\", \"lakecolor\": \"white\", \"landcolor\": \"#E5ECF6\", \"showlakes\": true, \"showland\": true, \"subunitcolor\": \"white\"}, \"hoverlabel\": {\"align\": \"left\"}, \"hovermode\": \"closest\", \"mapbox\": {\"style\": \"light\"}, \"paper_bgcolor\": \"white\", \"plot_bgcolor\": \"#E5ECF6\", \"polar\": {\"angularaxis\": {\"gridcolor\": \"white\", \"linecolor\": \"white\", \"ticks\": \"\"}, \"bgcolor\": \"#E5ECF6\", \"radialaxis\": {\"gridcolor\": \"white\", \"linecolor\": \"white\", \"ticks\": \"\"}}, \"scene\": {\"xaxis\": {\"backgroundcolor\": \"#E5ECF6\", \"gridcolor\": \"white\", \"gridwidth\": 2, \"linecolor\": \"white\", \"showbackground\": true, \"ticks\": \"\", \"zerolinecolor\": \"white\"}, \"yaxis\": {\"backgroundcolor\": \"#E5ECF6\", \"gridcolor\": \"white\", \"gridwidth\": 2, \"linecolor\": \"white\", \"showbackground\": true, \"ticks\": \"\", \"zerolinecolor\": \"white\"}, \"zaxis\": {\"backgroundcolor\": \"#E5ECF6\", \"gridcolor\": \"white\", \"gridwidth\": 2, \"linecolor\": \"white\", \"showbackground\": true, \"ticks\": \"\", \"zerolinecolor\": \"white\"}}, \"shapedefaults\": {\"line\": {\"color\": \"#2a3f5f\"}}, \"ternary\": {\"aaxis\": {\"gridcolor\": \"white\", \"linecolor\": \"white\", \"ticks\": \"\"}, \"baxis\": {\"gridcolor\": \"white\", \"linecolor\": \"white\", \"ticks\": \"\"}, \"bgcolor\": \"#E5ECF6\", \"caxis\": {\"gridcolor\": \"white\", \"linecolor\": \"white\", \"ticks\": \"\"}}, \"title\": {\"x\": 0.05}, \"xaxis\": {\"automargin\": true, \"gridcolor\": \"white\", \"linecolor\": \"white\", \"ticks\": \"\", \"title\": {\"standoff\": 15}, \"zerolinecolor\": \"white\", \"zerolinewidth\": 2}, \"yaxis\": {\"automargin\": true, \"gridcolor\": \"white\", \"linecolor\": \"white\", \"ticks\": \"\", \"title\": {\"standoff\": 15}, \"zerolinecolor\": \"white\", \"zerolinewidth\": 2}}}, \"title\": {\"font\": {\"color\": \"#4D5663\"}}, \"xaxis\": {\"gridcolor\": \"#E1E5ED\", \"showgrid\": true, \"tickfont\": {\"color\": \"#4D5663\"}, \"title\": {\"font\": {\"color\": \"#4D5663\"}, \"text\": \"\"}, \"zerolinecolor\": \"#E1E5ED\"}, \"yaxis\": {\"gridcolor\": \"#E1E5ED\", \"showgrid\": true, \"tickfont\": {\"color\": \"#4D5663\"}, \"title\": {\"font\": {\"color\": \"#4D5663\"}, \"text\": \"\"}, \"zerolinecolor\": \"#E1E5ED\"}},                        {\"showLink\": true, \"linkText\": \"Export to plot.ly\", \"plotlyServerURL\": \"https://plot.ly\", \"responsive\": true}                    ).then(function(){\n",
       "                            \n",
       "var gd = document.getElementById('aaa8544d-83a2-4c42-b207-b1a65378f218');\n",
       "var x = new MutationObserver(function (mutations, observer) {{\n",
       "        var display = window.getComputedStyle(gd).display;\n",
       "        if (!display || display === 'none') {{\n",
       "            console.log([gd, 'removed!']);\n",
       "            Plotly.purge(gd);\n",
       "            observer.disconnect();\n",
       "        }}\n",
       "}});\n",
       "\n",
       "// Listen for the removal of the full notebook cells\n",
       "var notebookContainer = gd.closest('#notebook-container');\n",
       "if (notebookContainer) {{\n",
       "    x.observe(notebookContainer, {childList: true});\n",
       "}}\n",
       "\n",
       "// Listen for the clearing of the current output cell\n",
       "var outputEl = gd.closest('.output');\n",
       "if (outputEl) {{\n",
       "    x.observe(outputEl, {childList: true});\n",
       "}}\n",
       "\n",
       "                        })                };                });            </script>        </div>"
      ]
     },
     "metadata": {},
     "output_type": "display_data"
    }
   ],
   "source": [
    "bank_stocks['MS']['Close'].loc['2015-01-01':'2016-01-01'].ta_plot(study='sma',periods=[13,21,55],title='Simple Moving Averages')"
   ]
  },
  {
   "cell_type": "code",
   "execution_count": 24,
   "metadata": {},
   "outputs": [
    {
     "data": {
      "application/vnd.plotly.v1+json": {
       "config": {
        "linkText": "Export to plot.ly",
        "plotlyServerURL": "https://plot.ly",
        "showLink": true
       },
       "data": [
        {
         "line": {
          "color": "rgba(255, 153, 51, 1.0)",
          "dash": "solid",
          "shape": "linear",
          "width": 1.3
         },
         "mode": "lines",
         "name": "Close",
         "text": "",
         "type": "scatter",
         "x": [
          "2015-01-02",
          "2015-01-05",
          "2015-01-06",
          "2015-01-07",
          "2015-01-08",
          "2015-01-09",
          "2015-01-12",
          "2015-01-13",
          "2015-01-14",
          "2015-01-15",
          "2015-01-16",
          "2015-01-20",
          "2015-01-21",
          "2015-01-22",
          "2015-01-23",
          "2015-01-26",
          "2015-01-27",
          "2015-01-28",
          "2015-01-29",
          "2015-01-30",
          "2015-02-02",
          "2015-02-03",
          "2015-02-04",
          "2015-02-05",
          "2015-02-06",
          "2015-02-09",
          "2015-02-10",
          "2015-02-11",
          "2015-02-12",
          "2015-02-13",
          "2015-02-17",
          "2015-02-18",
          "2015-02-19",
          "2015-02-20",
          "2015-02-23",
          "2015-02-24",
          "2015-02-25",
          "2015-02-26",
          "2015-02-27",
          "2015-03-02",
          "2015-03-03",
          "2015-03-04",
          "2015-03-05",
          "2015-03-06",
          "2015-03-09",
          "2015-03-10",
          "2015-03-11",
          "2015-03-12",
          "2015-03-13",
          "2015-03-16",
          "2015-03-17",
          "2015-03-18",
          "2015-03-19",
          "2015-03-20",
          "2015-03-23",
          "2015-03-24",
          "2015-03-25",
          "2015-03-26",
          "2015-03-27",
          "2015-03-30",
          "2015-03-31",
          "2015-04-01",
          "2015-04-02",
          "2015-04-06",
          "2015-04-07",
          "2015-04-08",
          "2015-04-09",
          "2015-04-10",
          "2015-04-13",
          "2015-04-14",
          "2015-04-15",
          "2015-04-16",
          "2015-04-17",
          "2015-04-20",
          "2015-04-21",
          "2015-04-22",
          "2015-04-23",
          "2015-04-24",
          "2015-04-27",
          "2015-04-28",
          "2015-04-29",
          "2015-04-30",
          "2015-05-01",
          "2015-05-04",
          "2015-05-05",
          "2015-05-06",
          "2015-05-07",
          "2015-05-08",
          "2015-05-11",
          "2015-05-12",
          "2015-05-13",
          "2015-05-14",
          "2015-05-15",
          "2015-05-18",
          "2015-05-19",
          "2015-05-20",
          "2015-05-21",
          "2015-05-22",
          "2015-05-26",
          "2015-05-27",
          "2015-05-28",
          "2015-05-29",
          "2015-06-01",
          "2015-06-02",
          "2015-06-03",
          "2015-06-04",
          "2015-06-05",
          "2015-06-08",
          "2015-06-09",
          "2015-06-10",
          "2015-06-11",
          "2015-06-12",
          "2015-06-15",
          "2015-06-16",
          "2015-06-17",
          "2015-06-18",
          "2015-06-19",
          "2015-06-22",
          "2015-06-23",
          "2015-06-24",
          "2015-06-25",
          "2015-06-26",
          "2015-06-29",
          "2015-06-30",
          "2015-07-01",
          "2015-07-02",
          "2015-07-06",
          "2015-07-07",
          "2015-07-08",
          "2015-07-09",
          "2015-07-10",
          "2015-07-13",
          "2015-07-14",
          "2015-07-15",
          "2015-07-16",
          "2015-07-17",
          "2015-07-20",
          "2015-07-21",
          "2015-07-22",
          "2015-07-23",
          "2015-07-24",
          "2015-07-27",
          "2015-07-28",
          "2015-07-29",
          "2015-07-30",
          "2015-07-31",
          "2015-08-03",
          "2015-08-04",
          "2015-08-05",
          "2015-08-06",
          "2015-08-07",
          "2015-08-10",
          "2015-08-11",
          "2015-08-12",
          "2015-08-13",
          "2015-08-14",
          "2015-08-17",
          "2015-08-18",
          "2015-08-19",
          "2015-08-20",
          "2015-08-21",
          "2015-08-24",
          "2015-08-25",
          "2015-08-26",
          "2015-08-27",
          "2015-08-28",
          "2015-08-31",
          "2015-09-01",
          "2015-09-02",
          "2015-09-03",
          "2015-09-04",
          "2015-09-08",
          "2015-09-09",
          "2015-09-10",
          "2015-09-11",
          "2015-09-14",
          "2015-09-15",
          "2015-09-16",
          "2015-09-17",
          "2015-09-18",
          "2015-09-21",
          "2015-09-22",
          "2015-09-23",
          "2015-09-24",
          "2015-09-25",
          "2015-09-28",
          "2015-09-29",
          "2015-09-30",
          "2015-10-01",
          "2015-10-02",
          "2015-10-05",
          "2015-10-06",
          "2015-10-07",
          "2015-10-08",
          "2015-10-09",
          "2015-10-12",
          "2015-10-13",
          "2015-10-14",
          "2015-10-15",
          "2015-10-16",
          "2015-10-19",
          "2015-10-20",
          "2015-10-21",
          "2015-10-22",
          "2015-10-23",
          "2015-10-26",
          "2015-10-27",
          "2015-10-28",
          "2015-10-29",
          "2015-10-30",
          "2015-11-02",
          "2015-11-03",
          "2015-11-04",
          "2015-11-05",
          "2015-11-06",
          "2015-11-09",
          "2015-11-10",
          "2015-11-11",
          "2015-11-12",
          "2015-11-13",
          "2015-11-16",
          "2015-11-17",
          "2015-11-18",
          "2015-11-19",
          "2015-11-20",
          "2015-11-23",
          "2015-11-24",
          "2015-11-25",
          "2015-11-27",
          "2015-11-30",
          "2015-12-01",
          "2015-12-02",
          "2015-12-03",
          "2015-12-04",
          "2015-12-07",
          "2015-12-08",
          "2015-12-09",
          "2015-12-10",
          "2015-12-11",
          "2015-12-14",
          "2015-12-15",
          "2015-12-16",
          "2015-12-17",
          "2015-12-18",
          "2015-12-21",
          "2015-12-22",
          "2015-12-23",
          "2015-12-24",
          "2015-12-28",
          "2015-12-29",
          "2015-12-30",
          "2015-12-31"
         ],
         "y": [
          17.9,
          17.38,
          16.86,
          16.94,
          17.29,
          16.98,
          16.68,
          16.45,
          16.04,
          15.2,
          15.38,
          15.26,
          15.41,
          16.09,
          15.73,
          15.85,
          15.63,
          15.2,
          15.43,
          15.15,
          15.46,
          15.89,
          15.79,
          15.97,
          16.49,
          16.35,
          16.42,
          16.36,
          16.67,
          16.61,
          16.63,
          16.3,
          16.21,
          16.38,
          16.2,
          16.38,
          16.49,
          16.04,
          15.81,
          16.01,
          16.04,
          15.84,
          16,
          16.22,
          16.17,
          15.79,
          16.11,
          16.09,
          16.09,
          16.13,
          16.09,
          15.98,
          15.61,
          15.84,
          15.72,
          15.61,
          15.41,
          15.42,
          15.31,
          15.52,
          15.39,
          15.41,
          15.54,
          15.51,
          15.46,
          15.61,
          15.71,
          15.72,
          15.8,
          15.82,
          15.64,
          15.79,
          15.56,
          15.57,
          15.5,
          15.74,
          15.69,
          15.64,
          15.56,
          15.65,
          15.98,
          15.93,
          16.11,
          16.44,
          16.35,
          16.29,
          16.24,
          16.45,
          16.49,
          16.43,
          16.47,
          16.52,
          16.35,
          16.51,
          16.77,
          16.74,
          16.73,
          16.75,
          16.5,
          16.74,
          16.67,
          16.5,
          16.55,
          16.72,
          16.93,
          16.78,
          17.19,
          17.08,
          17.31,
          17.59,
          17.49,
          17.49,
          17.47,
          17.55,
          17.37,
          17.38,
          17.17,
          17.47,
          17.67,
          17.49,
          17.37,
          17.41,
          16.89,
          17.02,
          17.22,
          17.03,
          16.94,
          16.69,
          16.25,
          16.48,
          16.7,
          17.02,
          17.13,
          17.68,
          17.95,
          18.1,
          18.12,
          18.08,
          18.45,
          18.18,
          17.9,
          17.67,
          17.88,
          18.16,
          18.13,
          17.88,
          17.77,
          17.8,
          17.87,
          17.81,
          17.75,
          18.04,
          17.79,
          17.52,
          17.62,
          17.7,
          17.77,
          17.69,
          17.46,
          16.72,
          16.1,
          15.29,
          15.26,
          16.06,
          16.44,
          16.36,
          16.34,
          15.58,
          15.85,
          15.94,
          15.65,
          16.16,
          15.9,
          16.04,
          16.04,
          15.96,
          16.31,
          16.33,
          15.86,
          15.56,
          15.7,
          15.57,
          15.72,
          15.55,
          15.89,
          15.47,
          15.35,
          15.58,
          15.55,
          15.38,
          15.69,
          15.69,
          15.75,
          15.75,
          15.58,
          15.52,
          15.52,
          15.64,
          16.19,
          16.12,
          16.14,
          16.2,
          15.9,
          16.16,
          16.52,
          16.51,
          16.4,
          17.28,
          17.09,
          16.78,
          17.06,
          17.18,
          17.01,
          17.31,
          17.95,
          17.68,
          17.85,
          17.75,
          17.37,
          17.2,
          17.43,
          17.42,
          17.84,
          17.69,
          17.65,
          17.47,
          17.47,
          17.44,
          17.48,
          17.43,
          17.81,
          17.62,
          17.3,
          17.8,
          17.54,
          17.19,
          17.1,
          17.2,
          16.73,
          16.8,
          17.42,
          17.75,
          17.3,
          16.76,
          16.97,
          17.08,
          17.34,
          17.27,
          17.13,
          17.28,
          17.05,
          16.83
         ]
        },
        {
         "line": {
          "color": "rgba(55, 128, 191, 1.0)",
          "dash": "solid",
          "shape": "linear",
          "width": 1.3
         },
         "mode": "lines",
         "name": "SMA(14)",
         "text": "",
         "type": "scatter",
         "x": [
          "2015-01-02",
          "2015-01-05",
          "2015-01-06",
          "2015-01-07",
          "2015-01-08",
          "2015-01-09",
          "2015-01-12",
          "2015-01-13",
          "2015-01-14",
          "2015-01-15",
          "2015-01-16",
          "2015-01-20",
          "2015-01-21",
          "2015-01-22",
          "2015-01-23",
          "2015-01-26",
          "2015-01-27",
          "2015-01-28",
          "2015-01-29",
          "2015-01-30",
          "2015-02-02",
          "2015-02-03",
          "2015-02-04",
          "2015-02-05",
          "2015-02-06",
          "2015-02-09",
          "2015-02-10",
          "2015-02-11",
          "2015-02-12",
          "2015-02-13",
          "2015-02-17",
          "2015-02-18",
          "2015-02-19",
          "2015-02-20",
          "2015-02-23",
          "2015-02-24",
          "2015-02-25",
          "2015-02-26",
          "2015-02-27",
          "2015-03-02",
          "2015-03-03",
          "2015-03-04",
          "2015-03-05",
          "2015-03-06",
          "2015-03-09",
          "2015-03-10",
          "2015-03-11",
          "2015-03-12",
          "2015-03-13",
          "2015-03-16",
          "2015-03-17",
          "2015-03-18",
          "2015-03-19",
          "2015-03-20",
          "2015-03-23",
          "2015-03-24",
          "2015-03-25",
          "2015-03-26",
          "2015-03-27",
          "2015-03-30",
          "2015-03-31",
          "2015-04-01",
          "2015-04-02",
          "2015-04-06",
          "2015-04-07",
          "2015-04-08",
          "2015-04-09",
          "2015-04-10",
          "2015-04-13",
          "2015-04-14",
          "2015-04-15",
          "2015-04-16",
          "2015-04-17",
          "2015-04-20",
          "2015-04-21",
          "2015-04-22",
          "2015-04-23",
          "2015-04-24",
          "2015-04-27",
          "2015-04-28",
          "2015-04-29",
          "2015-04-30",
          "2015-05-01",
          "2015-05-04",
          "2015-05-05",
          "2015-05-06",
          "2015-05-07",
          "2015-05-08",
          "2015-05-11",
          "2015-05-12",
          "2015-05-13",
          "2015-05-14",
          "2015-05-15",
          "2015-05-18",
          "2015-05-19",
          "2015-05-20",
          "2015-05-21",
          "2015-05-22",
          "2015-05-26",
          "2015-05-27",
          "2015-05-28",
          "2015-05-29",
          "2015-06-01",
          "2015-06-02",
          "2015-06-03",
          "2015-06-04",
          "2015-06-05",
          "2015-06-08",
          "2015-06-09",
          "2015-06-10",
          "2015-06-11",
          "2015-06-12",
          "2015-06-15",
          "2015-06-16",
          "2015-06-17",
          "2015-06-18",
          "2015-06-19",
          "2015-06-22",
          "2015-06-23",
          "2015-06-24",
          "2015-06-25",
          "2015-06-26",
          "2015-06-29",
          "2015-06-30",
          "2015-07-01",
          "2015-07-02",
          "2015-07-06",
          "2015-07-07",
          "2015-07-08",
          "2015-07-09",
          "2015-07-10",
          "2015-07-13",
          "2015-07-14",
          "2015-07-15",
          "2015-07-16",
          "2015-07-17",
          "2015-07-20",
          "2015-07-21",
          "2015-07-22",
          "2015-07-23",
          "2015-07-24",
          "2015-07-27",
          "2015-07-28",
          "2015-07-29",
          "2015-07-30",
          "2015-07-31",
          "2015-08-03",
          "2015-08-04",
          "2015-08-05",
          "2015-08-06",
          "2015-08-07",
          "2015-08-10",
          "2015-08-11",
          "2015-08-12",
          "2015-08-13",
          "2015-08-14",
          "2015-08-17",
          "2015-08-18",
          "2015-08-19",
          "2015-08-20",
          "2015-08-21",
          "2015-08-24",
          "2015-08-25",
          "2015-08-26",
          "2015-08-27",
          "2015-08-28",
          "2015-08-31",
          "2015-09-01",
          "2015-09-02",
          "2015-09-03",
          "2015-09-04",
          "2015-09-08",
          "2015-09-09",
          "2015-09-10",
          "2015-09-11",
          "2015-09-14",
          "2015-09-15",
          "2015-09-16",
          "2015-09-17",
          "2015-09-18",
          "2015-09-21",
          "2015-09-22",
          "2015-09-23",
          "2015-09-24",
          "2015-09-25",
          "2015-09-28",
          "2015-09-29",
          "2015-09-30",
          "2015-10-01",
          "2015-10-02",
          "2015-10-05",
          "2015-10-06",
          "2015-10-07",
          "2015-10-08",
          "2015-10-09",
          "2015-10-12",
          "2015-10-13",
          "2015-10-14",
          "2015-10-15",
          "2015-10-16",
          "2015-10-19",
          "2015-10-20",
          "2015-10-21",
          "2015-10-22",
          "2015-10-23",
          "2015-10-26",
          "2015-10-27",
          "2015-10-28",
          "2015-10-29",
          "2015-10-30",
          "2015-11-02",
          "2015-11-03",
          "2015-11-04",
          "2015-11-05",
          "2015-11-06",
          "2015-11-09",
          "2015-11-10",
          "2015-11-11",
          "2015-11-12",
          "2015-11-13",
          "2015-11-16",
          "2015-11-17",
          "2015-11-18",
          "2015-11-19",
          "2015-11-20",
          "2015-11-23",
          "2015-11-24",
          "2015-11-25",
          "2015-11-27",
          "2015-11-30",
          "2015-12-01",
          "2015-12-02",
          "2015-12-03",
          "2015-12-04",
          "2015-12-07",
          "2015-12-08",
          "2015-12-09",
          "2015-12-10",
          "2015-12-11",
          "2015-12-14",
          "2015-12-15",
          "2015-12-16",
          "2015-12-17",
          "2015-12-18",
          "2015-12-21",
          "2015-12-22",
          "2015-12-23",
          "2015-12-24",
          "2015-12-28",
          "2015-12-29",
          "2015-12-30",
          "2015-12-31"
         ],
         "y": [
          "",
          "",
          "",
          "",
          "",
          "",
          "",
          "",
          "",
          "",
          "",
          "",
          "",
          16.418571428571425,
          16.263571428571424,
          16.15428571428571,
          16.066428571428567,
          15.942142857142853,
          15.80928571428571,
          15.678571428571427,
          15.591428571428569,
          15.55142857142857,
          15.533571428571426,
          15.588571428571427,
          15.667857142857143,
          15.745714285714286,
          15.817857142857145,
          15.837142857142856,
          15.904285714285715,
          15.958571428571428,
          16.029999999999998,
          16.10857142857143,
          16.164285714285715,
          16.252142857142857,
          16.305,
          16.34,
          16.39,
          16.395,
          16.34642857142857,
          16.322142857142858,
          16.294999999999998,
          16.257857142857144,
          16.21,
          16.182142857142857,
          16.149285714285718,
          16.112857142857145,
          16.105714285714285,
          16.085,
          16.077142857142857,
          16.059285714285714,
          16.030714285714286,
          16.02642857142857,
          16.01214285714286,
          16.000000000000004,
          15.97714285714286,
          15.960714285714287,
          15.918571428571429,
          15.861428571428572,
          15.799999999999999,
          15.780714285714286,
          15.729285714285712,
          15.680714285714284,
          15.641428571428568,
          15.597142857142854,
          15.552142857142854,
          15.525714285714285,
          15.532857142857141,
          15.524285714285712,
          15.53,
          15.545,
          15.56142857142857,
          15.587857142857143,
          15.605714285714285,
          15.609285714285713,
          15.617142857142856,
          15.640714285714285,
          15.651428571428571,
          15.660714285714286,
          15.667857142857143,
          15.670714285714284,
          15.689999999999998,
          15.704999999999998,
          15.727142857142853,
          15.771428571428569,
          15.822142857142852,
          15.857857142857139,
          15.906428571428567,
          15.969285714285709,
          16.039999999999996,
          16.08928571428571,
          16.144999999999996,
          16.20785714285714,
          16.264285714285712,
          16.32571428571428,
          16.382142857142856,
          16.439999999999998,
          16.48428571428571,
          16.506428571428568,
          16.517142857142854,
          16.549285714285713,
          16.580000000000002,
          16.583571428571428,
          16.587857142857143,
          16.60857142857143,
          16.641428571428573,
          16.66,
          16.720000000000002,
          16.76071428571429,
          16.799285714285716,
          16.860000000000003,
          16.914285714285718,
          16.96714285714286,
          17.036428571428576,
          17.094285714285718,
          17.14428571428572,
          17.20714285714286,
          17.251428571428573,
          17.305,
          17.357857142857142,
          17.408571428571427,
          17.42142857142857,
          17.445,
          17.415,
          17.374285714285712,
          17.354999999999997,
          17.322142857142858,
          17.284285714285712,
          17.222857142857144,
          17.142857142857142,
          17.07857142857143,
          17.044999999999998,
          17.012857142857143,
          16.974285714285713,
          16.98785714285714,
          17.029285714285713,
          17.07857142857143,
          17.166428571428572,
          17.242142857142856,
          17.33,
          17.412142857142854,
          17.48071428571428,
          17.550714285714285,
          17.667142857142856,
          17.787142857142857,
          17.889285714285716,
          17.950714285714287,
          17.996428571428574,
          18.005000000000003,
          17.99928571428572,
          17.978571428571435,
          17.95214285714286,
          17.94928571428572,
          17.902142857142866,
          17.855000000000008,
          17.835000000000004,
          17.83714285714286,
          17.82928571428572,
          17.79571428571429,
          17.74785714285715,
          17.665000000000003,
          17.54571428571429,
          17.366428571428575,
          17.180000000000003,
          17.055000000000003,
          16.961428571428574,
          16.841428571428576,
          16.73785714285715,
          16.59928571428572,
          16.472857142857148,
          16.347142857142863,
          16.195714285714292,
          16.086428571428577,
          15.975000000000005,
          15.926428571428575,
          15.92214285714286,
          15.970000000000004,
          16.045000000000005,
          16.06428571428572,
          16.022857142857152,
          15.965714285714293,
          15.920000000000005,
          15.919285714285719,
          15.910000000000005,
          15.882142857142863,
          15.89928571428572,
          15.850000000000005,
          15.810714285714289,
          15.777857142857147,
          15.742857142857149,
          15.701428571428577,
          15.657142857142862,
          15.611428571428576,
          15.603571428571431,
          15.617142857142861,
          15.608571428571434,
          15.605000000000006,
          15.590714285714293,
          15.597142857142861,
          15.618571428571434,
          15.665000000000006,
          15.721428571428579,
          15.765714285714292,
          15.79071428571429,
          15.846428571428577,
          15.905714285714293,
          15.96428571428572,
          16.010714285714293,
          16.120000000000008,
          16.22785714285715,
          16.317857142857147,
          16.427857142857146,
          16.53785714285715,
          16.59642857142858,
          16.681428571428576,
          16.81071428571429,
          16.91642857142858,
          17.05571428571429,
          17.16928571428572,
          17.230000000000004,
          17.27928571428572,
          17.35285714285715,
          17.36285714285715,
          17.416428571428575,
          17.481428571428577,
          17.523571428571437,
          17.544285714285717,
          17.57714285714286,
          17.586428571428574,
          17.552857142857146,
          17.535000000000004,
          17.532142857142862,
          17.522857142857145,
          17.517857142857146,
          17.56071428571429,
          17.568571428571435,
          17.55214285714286,
          17.499285714285723,
          17.464285714285722,
          17.398571428571437,
          17.350714285714293,
          17.347142857142863,
          17.369285714285724,
          17.356428571428584,
          17.30857142857144,
          17.24857142857144,
          17.21000000000001,
          17.212857142857153,
          17.175000000000008,
          17.145714285714295,
          17.152142857142866,
          17.148571428571437,
          17.12214285714287
         ]
        },
        {
         "line": {
          "color": "rgba(55, 128, 191, 0.8999999999999999)",
          "dash": "solid",
          "shape": "linear",
          "width": 1.3
         },
         "mode": "lines",
         "name": "UPPER(14)",
         "text": "",
         "type": "scatter",
         "x": [
          "2015-01-02",
          "2015-01-05",
          "2015-01-06",
          "2015-01-07",
          "2015-01-08",
          "2015-01-09",
          "2015-01-12",
          "2015-01-13",
          "2015-01-14",
          "2015-01-15",
          "2015-01-16",
          "2015-01-20",
          "2015-01-21",
          "2015-01-22",
          "2015-01-23",
          "2015-01-26",
          "2015-01-27",
          "2015-01-28",
          "2015-01-29",
          "2015-01-30",
          "2015-02-02",
          "2015-02-03",
          "2015-02-04",
          "2015-02-05",
          "2015-02-06",
          "2015-02-09",
          "2015-02-10",
          "2015-02-11",
          "2015-02-12",
          "2015-02-13",
          "2015-02-17",
          "2015-02-18",
          "2015-02-19",
          "2015-02-20",
          "2015-02-23",
          "2015-02-24",
          "2015-02-25",
          "2015-02-26",
          "2015-02-27",
          "2015-03-02",
          "2015-03-03",
          "2015-03-04",
          "2015-03-05",
          "2015-03-06",
          "2015-03-09",
          "2015-03-10",
          "2015-03-11",
          "2015-03-12",
          "2015-03-13",
          "2015-03-16",
          "2015-03-17",
          "2015-03-18",
          "2015-03-19",
          "2015-03-20",
          "2015-03-23",
          "2015-03-24",
          "2015-03-25",
          "2015-03-26",
          "2015-03-27",
          "2015-03-30",
          "2015-03-31",
          "2015-04-01",
          "2015-04-02",
          "2015-04-06",
          "2015-04-07",
          "2015-04-08",
          "2015-04-09",
          "2015-04-10",
          "2015-04-13",
          "2015-04-14",
          "2015-04-15",
          "2015-04-16",
          "2015-04-17",
          "2015-04-20",
          "2015-04-21",
          "2015-04-22",
          "2015-04-23",
          "2015-04-24",
          "2015-04-27",
          "2015-04-28",
          "2015-04-29",
          "2015-04-30",
          "2015-05-01",
          "2015-05-04",
          "2015-05-05",
          "2015-05-06",
          "2015-05-07",
          "2015-05-08",
          "2015-05-11",
          "2015-05-12",
          "2015-05-13",
          "2015-05-14",
          "2015-05-15",
          "2015-05-18",
          "2015-05-19",
          "2015-05-20",
          "2015-05-21",
          "2015-05-22",
          "2015-05-26",
          "2015-05-27",
          "2015-05-28",
          "2015-05-29",
          "2015-06-01",
          "2015-06-02",
          "2015-06-03",
          "2015-06-04",
          "2015-06-05",
          "2015-06-08",
          "2015-06-09",
          "2015-06-10",
          "2015-06-11",
          "2015-06-12",
          "2015-06-15",
          "2015-06-16",
          "2015-06-17",
          "2015-06-18",
          "2015-06-19",
          "2015-06-22",
          "2015-06-23",
          "2015-06-24",
          "2015-06-25",
          "2015-06-26",
          "2015-06-29",
          "2015-06-30",
          "2015-07-01",
          "2015-07-02",
          "2015-07-06",
          "2015-07-07",
          "2015-07-08",
          "2015-07-09",
          "2015-07-10",
          "2015-07-13",
          "2015-07-14",
          "2015-07-15",
          "2015-07-16",
          "2015-07-17",
          "2015-07-20",
          "2015-07-21",
          "2015-07-22",
          "2015-07-23",
          "2015-07-24",
          "2015-07-27",
          "2015-07-28",
          "2015-07-29",
          "2015-07-30",
          "2015-07-31",
          "2015-08-03",
          "2015-08-04",
          "2015-08-05",
          "2015-08-06",
          "2015-08-07",
          "2015-08-10",
          "2015-08-11",
          "2015-08-12",
          "2015-08-13",
          "2015-08-14",
          "2015-08-17",
          "2015-08-18",
          "2015-08-19",
          "2015-08-20",
          "2015-08-21",
          "2015-08-24",
          "2015-08-25",
          "2015-08-26",
          "2015-08-27",
          "2015-08-28",
          "2015-08-31",
          "2015-09-01",
          "2015-09-02",
          "2015-09-03",
          "2015-09-04",
          "2015-09-08",
          "2015-09-09",
          "2015-09-10",
          "2015-09-11",
          "2015-09-14",
          "2015-09-15",
          "2015-09-16",
          "2015-09-17",
          "2015-09-18",
          "2015-09-21",
          "2015-09-22",
          "2015-09-23",
          "2015-09-24",
          "2015-09-25",
          "2015-09-28",
          "2015-09-29",
          "2015-09-30",
          "2015-10-01",
          "2015-10-02",
          "2015-10-05",
          "2015-10-06",
          "2015-10-07",
          "2015-10-08",
          "2015-10-09",
          "2015-10-12",
          "2015-10-13",
          "2015-10-14",
          "2015-10-15",
          "2015-10-16",
          "2015-10-19",
          "2015-10-20",
          "2015-10-21",
          "2015-10-22",
          "2015-10-23",
          "2015-10-26",
          "2015-10-27",
          "2015-10-28",
          "2015-10-29",
          "2015-10-30",
          "2015-11-02",
          "2015-11-03",
          "2015-11-04",
          "2015-11-05",
          "2015-11-06",
          "2015-11-09",
          "2015-11-10",
          "2015-11-11",
          "2015-11-12",
          "2015-11-13",
          "2015-11-16",
          "2015-11-17",
          "2015-11-18",
          "2015-11-19",
          "2015-11-20",
          "2015-11-23",
          "2015-11-24",
          "2015-11-25",
          "2015-11-27",
          "2015-11-30",
          "2015-12-01",
          "2015-12-02",
          "2015-12-03",
          "2015-12-04",
          "2015-12-07",
          "2015-12-08",
          "2015-12-09",
          "2015-12-10",
          "2015-12-11",
          "2015-12-14",
          "2015-12-15",
          "2015-12-16",
          "2015-12-17",
          "2015-12-18",
          "2015-12-21",
          "2015-12-22",
          "2015-12-23",
          "2015-12-24",
          "2015-12-28",
          "2015-12-29",
          "2015-12-30",
          "2015-12-31"
         ],
         "y": [
          "",
          "",
          "",
          "",
          "",
          "",
          "",
          "",
          "",
          "",
          "",
          "",
          "",
          18.16424488720446,
          17.817437221070538,
          17.579826675804185,
          17.455763933122327,
          17.305919932799974,
          16.951899836799086,
          16.65016352857594,
          16.377180818263767,
          16.19262251270503,
          16.128400797400797,
          16.19285649338803,
          16.425959168522983,
          16.5460878248807,
          16.668383805811093,
          16.725648207853663,
          16.89419524506156,
          17.016664259829827,
          17.12684863270959,
          17.10202251188909,
          17.07810152759785,
          16.958952746561643,
          16.848422204466903,
          16.82864018538103,
          16.76662468565686,
          16.748770895006672,
          16.812812839724856,
          16.821938419743788,
          16.812850587302172,
          16.827617069165015,
          16.74193406184773,
          16.66215430389279,
          16.554366088890667,
          16.550010773407408,
          16.53928367760259,
          16.488808789480263,
          16.47555729705944,
          16.419837794015926,
          16.294703129967385,
          16.291712992712224,
          16.341447819513206,
          16.341940165706013,
          16.349034369150427,
          16.376440844197802,
          16.42653006667295,
          16.402246023517066,
          16.38351718714386,
          16.38319450744973,
          16.333601693056565,
          16.269243837195773,
          16.183893438372134,
          16.063713229206794,
          15.92632328021568,
          15.81155601553249,
          15.832439269409143,
          15.791086047086079,
          15.817482440935308,
          15.869937863882596,
          15.880162329902909,
          15.917255528863004,
          15.894873734484607,
          15.895100531763882,
          15.88229054561716,
          15.884336223050843,
          15.889091182041781,
          15.884316168975076,
          15.869111451390566,
          15.869551565257717,
          15.948635472610151,
          15.99373730408314,
          16.08623817951481,
          16.295075965584754,
          16.4228183011315,
          16.507741325269222,
          16.562036669320857,
          16.65404122531872,
          16.720452338239316,
          16.776060306607903,
          16.818669629143795,
          16.841584993760794,
          16.779035199926067,
          16.714536118411978,
          16.78392186807592,
          16.791436612076303,
          16.81204869485025,
          16.86200888955282,
          16.861274189088018,
          16.88600877197912,
          16.870463820069233,
          16.868323103691168,
          16.868315950629555,
          16.881544477999878,
          16.95085554980156,
          16.969242250073872,
          17.09011432745113,
          17.155874567564116,
          17.29178104253933,
          17.5065053988709,
          17.636918264201505,
          17.7442154137563,
          17.80702702589236,
          17.890225962747166,
          17.91288941473976,
          17.887659790586323,
          17.81906101712437,
          17.792489644860435,
          17.83043948058684,
          17.747516138640076,
          17.737545116914053,
          17.693410330517267,
          17.79840579025362,
          17.796711987194914,
          17.779318458054977,
          17.77190714217215,
          17.768352733530854,
          17.77513514260997,
          17.892520803704855,
          17.892256574364016,
          17.880914975433406,
          17.812181032978454,
          17.684116215644544,
          17.745796802376628,
          17.92760771534235,
          18.129603365226124,
          18.34718731426777,
          18.5148185018785,
          18.756604360010158,
          18.895635172778313,
          18.95893492680149,
          18.958789115144434,
          18.865922456348876,
          18.79518524243699,
          18.69160789341385,
          18.579190552237105,
          18.430911970623374,
          18.41673180217603,
          18.416489909685748,
          18.40297016291725,
          18.384608316603398,
          18.378629706599927,
          18.22683713431204,
          18.197097601907423,
          18.19787315011855,
          18.196152483877224,
          18.189068921292368,
          18.10701075936204,
          18.043380519147572,
          18.27937898601886,
          18.578372224037732,
          18.93920870947628,
          19.080299571525092,
          19.006326964677346,
          18.894745484330915,
          18.69319458327708,
          18.522047173636942,
          18.42271383458277,
          18.2358690512148,
          17.979365100144513,
          17.64208298614385,
          17.249993574547602,
          16.829733426729696,
          16.66867493910545,
          16.660756051277176,
          16.612782413238794,
          16.564037570894307,
          16.605322569888678,
          16.527569007126182,
          16.486879505978496,
          16.41115249081178,
          16.41259256438157,
          16.41370931788376,
          16.42064097206998,
          16.420967272663518,
          16.395414450740688,
          16.416505023165968,
          16.37996516135042,
          16.33622710509634,
          16.31027904658543,
          16.155474138454686,
          15.928225729812695,
          15.898514149775094,
          15.920805480807354,
          15.90891555354545,
          15.908492491352765,
          15.889683209822183,
          15.896211006970907,
          16.0299374189277,
          16.14511216638148,
          16.227080147598713,
          16.323882404072442,
          16.338519095742406,
          16.372523452771915,
          16.533173841785707,
          16.654913713259756,
          16.726233001728687,
          17.087121024961693,
          17.269488365697306,
          17.31271093409179,
          17.382430863955143,
          17.455552536310083,
          17.52311355293252,
          17.637698798536302,
          17.92759081730277,
          18.0640443512181,
          18.143710730440198,
          18.183991864571865,
          18.17680027948387,
          18.131773992056285,
          18.040257085626024,
          18.04976452980369,
          18.128202396475512,
          18.10337871253472,
          18.100865228874287,
          18.08832837583203,
          18.030128071466226,
          18.02077031159722,
          17.9357552872911,
          17.91566743005893,
          17.90310240886106,
          17.876426073917223,
          17.882542766916526,
          17.90493820976677,
          17.904873229189388,
          17.93846106567274,
          17.91715314160348,
          17.895221317949968,
          17.966366469753712,
          17.99971182207154,
          17.993858991348382,
          18.05003029694001,
          18.03496124817051,
          18.055786036518608,
          17.956193976494863,
          17.888686514243037,
          17.893509706275434,
          17.768334773838617,
          17.700675921849964,
          17.71138292236478,
          17.709880729998105,
          17.707354380843903
         ]
        },
        {
         "line": {
          "color": "rgba(55, 128, 191, 0.7999999999999998)",
          "dash": "solid",
          "shape": "linear",
          "width": 1.3
         },
         "mode": "lines",
         "name": "LOWER(14)",
         "text": "",
         "type": "scatter",
         "x": [
          "2015-01-02",
          "2015-01-05",
          "2015-01-06",
          "2015-01-07",
          "2015-01-08",
          "2015-01-09",
          "2015-01-12",
          "2015-01-13",
          "2015-01-14",
          "2015-01-15",
          "2015-01-16",
          "2015-01-20",
          "2015-01-21",
          "2015-01-22",
          "2015-01-23",
          "2015-01-26",
          "2015-01-27",
          "2015-01-28",
          "2015-01-29",
          "2015-01-30",
          "2015-02-02",
          "2015-02-03",
          "2015-02-04",
          "2015-02-05",
          "2015-02-06",
          "2015-02-09",
          "2015-02-10",
          "2015-02-11",
          "2015-02-12",
          "2015-02-13",
          "2015-02-17",
          "2015-02-18",
          "2015-02-19",
          "2015-02-20",
          "2015-02-23",
          "2015-02-24",
          "2015-02-25",
          "2015-02-26",
          "2015-02-27",
          "2015-03-02",
          "2015-03-03",
          "2015-03-04",
          "2015-03-05",
          "2015-03-06",
          "2015-03-09",
          "2015-03-10",
          "2015-03-11",
          "2015-03-12",
          "2015-03-13",
          "2015-03-16",
          "2015-03-17",
          "2015-03-18",
          "2015-03-19",
          "2015-03-20",
          "2015-03-23",
          "2015-03-24",
          "2015-03-25",
          "2015-03-26",
          "2015-03-27",
          "2015-03-30",
          "2015-03-31",
          "2015-04-01",
          "2015-04-02",
          "2015-04-06",
          "2015-04-07",
          "2015-04-08",
          "2015-04-09",
          "2015-04-10",
          "2015-04-13",
          "2015-04-14",
          "2015-04-15",
          "2015-04-16",
          "2015-04-17",
          "2015-04-20",
          "2015-04-21",
          "2015-04-22",
          "2015-04-23",
          "2015-04-24",
          "2015-04-27",
          "2015-04-28",
          "2015-04-29",
          "2015-04-30",
          "2015-05-01",
          "2015-05-04",
          "2015-05-05",
          "2015-05-06",
          "2015-05-07",
          "2015-05-08",
          "2015-05-11",
          "2015-05-12",
          "2015-05-13",
          "2015-05-14",
          "2015-05-15",
          "2015-05-18",
          "2015-05-19",
          "2015-05-20",
          "2015-05-21",
          "2015-05-22",
          "2015-05-26",
          "2015-05-27",
          "2015-05-28",
          "2015-05-29",
          "2015-06-01",
          "2015-06-02",
          "2015-06-03",
          "2015-06-04",
          "2015-06-05",
          "2015-06-08",
          "2015-06-09",
          "2015-06-10",
          "2015-06-11",
          "2015-06-12",
          "2015-06-15",
          "2015-06-16",
          "2015-06-17",
          "2015-06-18",
          "2015-06-19",
          "2015-06-22",
          "2015-06-23",
          "2015-06-24",
          "2015-06-25",
          "2015-06-26",
          "2015-06-29",
          "2015-06-30",
          "2015-07-01",
          "2015-07-02",
          "2015-07-06",
          "2015-07-07",
          "2015-07-08",
          "2015-07-09",
          "2015-07-10",
          "2015-07-13",
          "2015-07-14",
          "2015-07-15",
          "2015-07-16",
          "2015-07-17",
          "2015-07-20",
          "2015-07-21",
          "2015-07-22",
          "2015-07-23",
          "2015-07-24",
          "2015-07-27",
          "2015-07-28",
          "2015-07-29",
          "2015-07-30",
          "2015-07-31",
          "2015-08-03",
          "2015-08-04",
          "2015-08-05",
          "2015-08-06",
          "2015-08-07",
          "2015-08-10",
          "2015-08-11",
          "2015-08-12",
          "2015-08-13",
          "2015-08-14",
          "2015-08-17",
          "2015-08-18",
          "2015-08-19",
          "2015-08-20",
          "2015-08-21",
          "2015-08-24",
          "2015-08-25",
          "2015-08-26",
          "2015-08-27",
          "2015-08-28",
          "2015-08-31",
          "2015-09-01",
          "2015-09-02",
          "2015-09-03",
          "2015-09-04",
          "2015-09-08",
          "2015-09-09",
          "2015-09-10",
          "2015-09-11",
          "2015-09-14",
          "2015-09-15",
          "2015-09-16",
          "2015-09-17",
          "2015-09-18",
          "2015-09-21",
          "2015-09-22",
          "2015-09-23",
          "2015-09-24",
          "2015-09-25",
          "2015-09-28",
          "2015-09-29",
          "2015-09-30",
          "2015-10-01",
          "2015-10-02",
          "2015-10-05",
          "2015-10-06",
          "2015-10-07",
          "2015-10-08",
          "2015-10-09",
          "2015-10-12",
          "2015-10-13",
          "2015-10-14",
          "2015-10-15",
          "2015-10-16",
          "2015-10-19",
          "2015-10-20",
          "2015-10-21",
          "2015-10-22",
          "2015-10-23",
          "2015-10-26",
          "2015-10-27",
          "2015-10-28",
          "2015-10-29",
          "2015-10-30",
          "2015-11-02",
          "2015-11-03",
          "2015-11-04",
          "2015-11-05",
          "2015-11-06",
          "2015-11-09",
          "2015-11-10",
          "2015-11-11",
          "2015-11-12",
          "2015-11-13",
          "2015-11-16",
          "2015-11-17",
          "2015-11-18",
          "2015-11-19",
          "2015-11-20",
          "2015-11-23",
          "2015-11-24",
          "2015-11-25",
          "2015-11-27",
          "2015-11-30",
          "2015-12-01",
          "2015-12-02",
          "2015-12-03",
          "2015-12-04",
          "2015-12-07",
          "2015-12-08",
          "2015-12-09",
          "2015-12-10",
          "2015-12-11",
          "2015-12-14",
          "2015-12-15",
          "2015-12-16",
          "2015-12-17",
          "2015-12-18",
          "2015-12-21",
          "2015-12-22",
          "2015-12-23",
          "2015-12-24",
          "2015-12-28",
          "2015-12-29",
          "2015-12-30",
          "2015-12-31"
         ],
         "y": [
          "",
          "",
          "",
          "",
          "",
          "",
          "",
          "",
          "",
          "",
          "",
          "",
          "",
          14.672897969938392,
          14.709705636072313,
          14.728744752767234,
          14.677093209734807,
          14.578365781485731,
          14.666671591772335,
          14.706979328566913,
          14.805676324593371,
          14.910234630152111,
          14.938742059742054,
          14.984286363754821,
          14.9097551171913,
          14.945340746547869,
          14.967330479903197,
          14.94863750643205,
          14.91437618350987,
          14.900478597313027,
          14.933151367290405,
          15.115120345253771,
          15.250469900973581,
          15.545332967724072,
          15.761577795533098,
          15.85135981461897,
          16.01337531434314,
          16.041229104993327,
          15.880044303132285,
          15.822347294541927,
          15.777149412697824,
          15.688097216549274,
          15.678065938152272,
          15.702131410392921,
          15.744205339680766,
          15.675703512306884,
          15.67214489382598,
          15.681191210519737,
          15.678728417226274,
          15.698733634555504,
          15.766725441461185,
          15.76114415014492,
          15.682837894772511,
          15.658059834293992,
          15.605251345135295,
          15.54498772723077,
          15.410612790469907,
          15.320611119340077,
          15.21648281285614,
          15.178234063978842,
          15.124969735514858,
          15.092184734232793,
          15.098963704485,
          15.130572485078915,
          15.177962434070029,
          15.23987255589608,
          15.23327501630514,
          15.257485381485345,
          15.24251755906469,
          15.220062136117404,
          15.24269481295423,
          15.258458756851281,
          15.316554836943963,
          15.323470896807544,
          15.351995168668552,
          15.397092348377727,
          15.413765960815361,
          15.437112402453497,
          15.46660283432372,
          15.471877006170851,
          15.431364527389844,
          15.416262695916856,
          15.368047534770895,
          15.247781177272383,
          15.221467413154203,
          15.207972960445055,
          15.250820473536274,
          15.284530203252697,
          15.359547661760676,
          15.402511121963519,
          15.471330370856197,
          15.574129291953485,
          15.749536228645358,
          15.936892453016585,
          15.98036384620979,
          16.088563387923692,
          16.15652273372117,
          16.150848253304318,
          16.17301152519769,
          16.212562656592304,
          16.28953617993077,
          16.29881975345169,
          16.30739833508473,
          16.335598379142983,
          16.332001593055587,
          16.350757749926128,
          16.349885672548876,
          16.365554003864464,
          16.3067903860321,
          16.213494601129106,
          16.19165316436993,
          16.19007030052942,
          16.265830116964793,
          16.29834546582427,
          16.37568201383168,
          16.526625923699395,
          16.683796125732776,
          16.817510355139564,
          16.885274805127445,
          17.06962671850278,
          17.10531202594309,
          17.196589669482734,
          17.031594209746377,
          16.95185944137651,
          16.930681541945017,
          16.872378572113565,
          16.80021869504057,
          16.67057914310432,
          16.39319348200943,
          16.264886282778843,
          16.20908502456659,
          16.213533252735832,
          16.264455212926883,
          16.229917483337655,
          16.130963713229075,
          16.027539491916734,
          15.985669828589373,
          15.96946721240721,
          15.903395639989837,
          15.928650541507395,
          16.002493644627073,
          16.142639456284137,
          16.468363257936836,
          16.779100471848725,
          17.086963535157583,
          17.32223801919147,
          17.561945172233774,
          17.593268197823974,
          17.58208151888569,
          17.55417269422562,
          17.519677397682322,
          17.51994172197151,
          17.577448579973694,
          17.512902398092592,
          17.47212684988146,
          17.4781332304085,
          17.469502507279074,
          17.48441781206654,
          17.452333766566728,
          17.050621013981146,
          16.513056347390847,
          15.79364843338087,
          15.279700428474914,
          15.103673035322661,
          15.028111658526232,
          14.989662559580074,
          14.953667112077355,
          14.775857593988672,
          14.709845234499495,
          14.714920614141212,
          14.749345585284733,
          14.922863568309552,
          15.120266573270314,
          15.1841822037517,
          15.183529663008546,
          15.327217586761217,
          15.525962429105705,
          15.523248858682761,
          15.518145278588124,
          15.444549065450092,
          15.428847509188229,
          15.425978864189867,
          15.40629068211625,
          15.343644742215746,
          15.377604155907921,
          15.304585549259324,
          15.204923548262608,
          15.175749124363874,
          15.149487180617959,
          15.092578096271726,
          15.15881157583104,
          15.294631413044456,
          15.308628707367768,
          15.313480233478368,
          15.308227303597418,
          15.301507508647246,
          15.291745361606404,
          15.298074707314816,
          15.207205438215166,
          15.184887833618532,
          15.215776995258445,
          15.207546167356144,
          15.242909475686174,
          15.320333690085238,
          15.278254729642878,
          15.273657715311684,
          15.295195569699901,
          15.152878975038323,
          15.186225920016996,
          15.323003351622503,
          15.473283421759149,
          15.620161749404216,
          15.669743589924638,
          15.725158344320851,
          15.693837754125811,
          15.768812791639055,
          15.967717840988385,
          16.154579563999576,
          16.283199720516137,
          16.426797436515155,
          16.665457200088277,
          16.675949755910608,
          16.70465474638164,
          16.859478430322433,
          16.946277628268586,
          17.000243052739403,
          17.124157642819494,
          17.152086831259926,
          17.16995899842319,
          17.154332569941076,
          17.161183305424665,
          17.169288211797067,
          17.153171518797766,
          17.216490361661812,
          17.23226962795348,
          17.165824648612983,
          17.081418286967963,
          17.033350110621477,
          16.83077638738916,
          16.701716749357047,
          16.700426722937344,
          16.688541131631435,
          16.677895894686657,
          16.561356820624273,
          16.54094888064802,
          16.531313485756986,
          16.532204579438872,
          16.581665226161398,
          16.590752649578626,
          16.592902791920952,
          16.58726212714477,
          16.536931333441835
         ]
        }
       ],
       "layout": {
        "legend": {
         "bgcolor": "#F5F6F9",
         "font": {
          "color": "#4D5663"
         }
        },
        "paper_bgcolor": "#F5F6F9",
        "plot_bgcolor": "#F5F6F9",
        "template": {
         "data": {
          "bar": [
           {
            "error_x": {
             "color": "#2a3f5f"
            },
            "error_y": {
             "color": "#2a3f5f"
            },
            "marker": {
             "line": {
              "color": "#E5ECF6",
              "width": 0.5
             }
            },
            "type": "bar"
           }
          ],
          "barpolar": [
           {
            "marker": {
             "line": {
              "color": "#E5ECF6",
              "width": 0.5
             }
            },
            "type": "barpolar"
           }
          ],
          "carpet": [
           {
            "aaxis": {
             "endlinecolor": "#2a3f5f",
             "gridcolor": "white",
             "linecolor": "white",
             "minorgridcolor": "white",
             "startlinecolor": "#2a3f5f"
            },
            "baxis": {
             "endlinecolor": "#2a3f5f",
             "gridcolor": "white",
             "linecolor": "white",
             "minorgridcolor": "white",
             "startlinecolor": "#2a3f5f"
            },
            "type": "carpet"
           }
          ],
          "choropleth": [
           {
            "colorbar": {
             "outlinewidth": 0,
             "ticks": ""
            },
            "type": "choropleth"
           }
          ],
          "contour": [
           {
            "colorbar": {
             "outlinewidth": 0,
             "ticks": ""
            },
            "colorscale": [
             [
              0,
              "#0d0887"
             ],
             [
              0.1111111111111111,
              "#46039f"
             ],
             [
              0.2222222222222222,
              "#7201a8"
             ],
             [
              0.3333333333333333,
              "#9c179e"
             ],
             [
              0.4444444444444444,
              "#bd3786"
             ],
             [
              0.5555555555555556,
              "#d8576b"
             ],
             [
              0.6666666666666666,
              "#ed7953"
             ],
             [
              0.7777777777777778,
              "#fb9f3a"
             ],
             [
              0.8888888888888888,
              "#fdca26"
             ],
             [
              1,
              "#f0f921"
             ]
            ],
            "type": "contour"
           }
          ],
          "contourcarpet": [
           {
            "colorbar": {
             "outlinewidth": 0,
             "ticks": ""
            },
            "type": "contourcarpet"
           }
          ],
          "heatmap": [
           {
            "colorbar": {
             "outlinewidth": 0,
             "ticks": ""
            },
            "colorscale": [
             [
              0,
              "#0d0887"
             ],
             [
              0.1111111111111111,
              "#46039f"
             ],
             [
              0.2222222222222222,
              "#7201a8"
             ],
             [
              0.3333333333333333,
              "#9c179e"
             ],
             [
              0.4444444444444444,
              "#bd3786"
             ],
             [
              0.5555555555555556,
              "#d8576b"
             ],
             [
              0.6666666666666666,
              "#ed7953"
             ],
             [
              0.7777777777777778,
              "#fb9f3a"
             ],
             [
              0.8888888888888888,
              "#fdca26"
             ],
             [
              1,
              "#f0f921"
             ]
            ],
            "type": "heatmap"
           }
          ],
          "heatmapgl": [
           {
            "colorbar": {
             "outlinewidth": 0,
             "ticks": ""
            },
            "colorscale": [
             [
              0,
              "#0d0887"
             ],
             [
              0.1111111111111111,
              "#46039f"
             ],
             [
              0.2222222222222222,
              "#7201a8"
             ],
             [
              0.3333333333333333,
              "#9c179e"
             ],
             [
              0.4444444444444444,
              "#bd3786"
             ],
             [
              0.5555555555555556,
              "#d8576b"
             ],
             [
              0.6666666666666666,
              "#ed7953"
             ],
             [
              0.7777777777777778,
              "#fb9f3a"
             ],
             [
              0.8888888888888888,
              "#fdca26"
             ],
             [
              1,
              "#f0f921"
             ]
            ],
            "type": "heatmapgl"
           }
          ],
          "histogram": [
           {
            "marker": {
             "colorbar": {
              "outlinewidth": 0,
              "ticks": ""
             }
            },
            "type": "histogram"
           }
          ],
          "histogram2d": [
           {
            "colorbar": {
             "outlinewidth": 0,
             "ticks": ""
            },
            "colorscale": [
             [
              0,
              "#0d0887"
             ],
             [
              0.1111111111111111,
              "#46039f"
             ],
             [
              0.2222222222222222,
              "#7201a8"
             ],
             [
              0.3333333333333333,
              "#9c179e"
             ],
             [
              0.4444444444444444,
              "#bd3786"
             ],
             [
              0.5555555555555556,
              "#d8576b"
             ],
             [
              0.6666666666666666,
              "#ed7953"
             ],
             [
              0.7777777777777778,
              "#fb9f3a"
             ],
             [
              0.8888888888888888,
              "#fdca26"
             ],
             [
              1,
              "#f0f921"
             ]
            ],
            "type": "histogram2d"
           }
          ],
          "histogram2dcontour": [
           {
            "colorbar": {
             "outlinewidth": 0,
             "ticks": ""
            },
            "colorscale": [
             [
              0,
              "#0d0887"
             ],
             [
              0.1111111111111111,
              "#46039f"
             ],
             [
              0.2222222222222222,
              "#7201a8"
             ],
             [
              0.3333333333333333,
              "#9c179e"
             ],
             [
              0.4444444444444444,
              "#bd3786"
             ],
             [
              0.5555555555555556,
              "#d8576b"
             ],
             [
              0.6666666666666666,
              "#ed7953"
             ],
             [
              0.7777777777777778,
              "#fb9f3a"
             ],
             [
              0.8888888888888888,
              "#fdca26"
             ],
             [
              1,
              "#f0f921"
             ]
            ],
            "type": "histogram2dcontour"
           }
          ],
          "mesh3d": [
           {
            "colorbar": {
             "outlinewidth": 0,
             "ticks": ""
            },
            "type": "mesh3d"
           }
          ],
          "parcoords": [
           {
            "line": {
             "colorbar": {
              "outlinewidth": 0,
              "ticks": ""
             }
            },
            "type": "parcoords"
           }
          ],
          "pie": [
           {
            "automargin": true,
            "type": "pie"
           }
          ],
          "scatter": [
           {
            "marker": {
             "colorbar": {
              "outlinewidth": 0,
              "ticks": ""
             }
            },
            "type": "scatter"
           }
          ],
          "scatter3d": [
           {
            "line": {
             "colorbar": {
              "outlinewidth": 0,
              "ticks": ""
             }
            },
            "marker": {
             "colorbar": {
              "outlinewidth": 0,
              "ticks": ""
             }
            },
            "type": "scatter3d"
           }
          ],
          "scattercarpet": [
           {
            "marker": {
             "colorbar": {
              "outlinewidth": 0,
              "ticks": ""
             }
            },
            "type": "scattercarpet"
           }
          ],
          "scattergeo": [
           {
            "marker": {
             "colorbar": {
              "outlinewidth": 0,
              "ticks": ""
             }
            },
            "type": "scattergeo"
           }
          ],
          "scattergl": [
           {
            "marker": {
             "colorbar": {
              "outlinewidth": 0,
              "ticks": ""
             }
            },
            "type": "scattergl"
           }
          ],
          "scattermapbox": [
           {
            "marker": {
             "colorbar": {
              "outlinewidth": 0,
              "ticks": ""
             }
            },
            "type": "scattermapbox"
           }
          ],
          "scatterpolar": [
           {
            "marker": {
             "colorbar": {
              "outlinewidth": 0,
              "ticks": ""
             }
            },
            "type": "scatterpolar"
           }
          ],
          "scatterpolargl": [
           {
            "marker": {
             "colorbar": {
              "outlinewidth": 0,
              "ticks": ""
             }
            },
            "type": "scatterpolargl"
           }
          ],
          "scatterternary": [
           {
            "marker": {
             "colorbar": {
              "outlinewidth": 0,
              "ticks": ""
             }
            },
            "type": "scatterternary"
           }
          ],
          "surface": [
           {
            "colorbar": {
             "outlinewidth": 0,
             "ticks": ""
            },
            "colorscale": [
             [
              0,
              "#0d0887"
             ],
             [
              0.1111111111111111,
              "#46039f"
             ],
             [
              0.2222222222222222,
              "#7201a8"
             ],
             [
              0.3333333333333333,
              "#9c179e"
             ],
             [
              0.4444444444444444,
              "#bd3786"
             ],
             [
              0.5555555555555556,
              "#d8576b"
             ],
             [
              0.6666666666666666,
              "#ed7953"
             ],
             [
              0.7777777777777778,
              "#fb9f3a"
             ],
             [
              0.8888888888888888,
              "#fdca26"
             ],
             [
              1,
              "#f0f921"
             ]
            ],
            "type": "surface"
           }
          ],
          "table": [
           {
            "cells": {
             "fill": {
              "color": "#EBF0F8"
             },
             "line": {
              "color": "white"
             }
            },
            "header": {
             "fill": {
              "color": "#C8D4E3"
             },
             "line": {
              "color": "white"
             }
            },
            "type": "table"
           }
          ]
         },
         "layout": {
          "annotationdefaults": {
           "arrowcolor": "#2a3f5f",
           "arrowhead": 0,
           "arrowwidth": 1
          },
          "autotypenumbers": "strict",
          "coloraxis": {
           "colorbar": {
            "outlinewidth": 0,
            "ticks": ""
           }
          },
          "colorscale": {
           "diverging": [
            [
             0,
             "#8e0152"
            ],
            [
             0.1,
             "#c51b7d"
            ],
            [
             0.2,
             "#de77ae"
            ],
            [
             0.3,
             "#f1b6da"
            ],
            [
             0.4,
             "#fde0ef"
            ],
            [
             0.5,
             "#f7f7f7"
            ],
            [
             0.6,
             "#e6f5d0"
            ],
            [
             0.7,
             "#b8e186"
            ],
            [
             0.8,
             "#7fbc41"
            ],
            [
             0.9,
             "#4d9221"
            ],
            [
             1,
             "#276419"
            ]
           ],
           "sequential": [
            [
             0,
             "#0d0887"
            ],
            [
             0.1111111111111111,
             "#46039f"
            ],
            [
             0.2222222222222222,
             "#7201a8"
            ],
            [
             0.3333333333333333,
             "#9c179e"
            ],
            [
             0.4444444444444444,
             "#bd3786"
            ],
            [
             0.5555555555555556,
             "#d8576b"
            ],
            [
             0.6666666666666666,
             "#ed7953"
            ],
            [
             0.7777777777777778,
             "#fb9f3a"
            ],
            [
             0.8888888888888888,
             "#fdca26"
            ],
            [
             1,
             "#f0f921"
            ]
           ],
           "sequentialminus": [
            [
             0,
             "#0d0887"
            ],
            [
             0.1111111111111111,
             "#46039f"
            ],
            [
             0.2222222222222222,
             "#7201a8"
            ],
            [
             0.3333333333333333,
             "#9c179e"
            ],
            [
             0.4444444444444444,
             "#bd3786"
            ],
            [
             0.5555555555555556,
             "#d8576b"
            ],
            [
             0.6666666666666666,
             "#ed7953"
            ],
            [
             0.7777777777777778,
             "#fb9f3a"
            ],
            [
             0.8888888888888888,
             "#fdca26"
            ],
            [
             1,
             "#f0f921"
            ]
           ]
          },
          "colorway": [
           "#636efa",
           "#EF553B",
           "#00cc96",
           "#ab63fa",
           "#FFA15A",
           "#19d3f3",
           "#FF6692",
           "#B6E880",
           "#FF97FF",
           "#FECB52"
          ],
          "font": {
           "color": "#2a3f5f"
          },
          "geo": {
           "bgcolor": "white",
           "lakecolor": "white",
           "landcolor": "#E5ECF6",
           "showlakes": true,
           "showland": true,
           "subunitcolor": "white"
          },
          "hoverlabel": {
           "align": "left"
          },
          "hovermode": "closest",
          "mapbox": {
           "style": "light"
          },
          "paper_bgcolor": "white",
          "plot_bgcolor": "#E5ECF6",
          "polar": {
           "angularaxis": {
            "gridcolor": "white",
            "linecolor": "white",
            "ticks": ""
           },
           "bgcolor": "#E5ECF6",
           "radialaxis": {
            "gridcolor": "white",
            "linecolor": "white",
            "ticks": ""
           }
          },
          "scene": {
           "xaxis": {
            "backgroundcolor": "#E5ECF6",
            "gridcolor": "white",
            "gridwidth": 2,
            "linecolor": "white",
            "showbackground": true,
            "ticks": "",
            "zerolinecolor": "white"
           },
           "yaxis": {
            "backgroundcolor": "#E5ECF6",
            "gridcolor": "white",
            "gridwidth": 2,
            "linecolor": "white",
            "showbackground": true,
            "ticks": "",
            "zerolinecolor": "white"
           },
           "zaxis": {
            "backgroundcolor": "#E5ECF6",
            "gridcolor": "white",
            "gridwidth": 2,
            "linecolor": "white",
            "showbackground": true,
            "ticks": "",
            "zerolinecolor": "white"
           }
          },
          "shapedefaults": {
           "line": {
            "color": "#2a3f5f"
           }
          },
          "ternary": {
           "aaxis": {
            "gridcolor": "white",
            "linecolor": "white",
            "ticks": ""
           },
           "baxis": {
            "gridcolor": "white",
            "linecolor": "white",
            "ticks": ""
           },
           "bgcolor": "#E5ECF6",
           "caxis": {
            "gridcolor": "white",
            "linecolor": "white",
            "ticks": ""
           }
          },
          "title": {
           "x": 0.05
          },
          "xaxis": {
           "automargin": true,
           "gridcolor": "white",
           "linecolor": "white",
           "ticks": "",
           "title": {
            "standoff": 15
           },
           "zerolinecolor": "white",
           "zerolinewidth": 2
          },
          "yaxis": {
           "automargin": true,
           "gridcolor": "white",
           "linecolor": "white",
           "ticks": "",
           "title": {
            "standoff": 15
           },
           "zerolinecolor": "white",
           "zerolinewidth": 2
          }
         }
        },
        "title": {
         "font": {
          "color": "#4D5663"
         }
        },
        "xaxis": {
         "gridcolor": "#E1E5ED",
         "showgrid": true,
         "tickfont": {
          "color": "#4D5663"
         },
         "title": {
          "font": {
           "color": "#4D5663"
          },
          "text": ""
         },
         "zerolinecolor": "#E1E5ED"
        },
        "yaxis": {
         "gridcolor": "#E1E5ED",
         "showgrid": true,
         "tickfont": {
          "color": "#4D5663"
         },
         "title": {
          "font": {
           "color": "#4D5663"
          },
          "text": ""
         },
         "zerolinecolor": "#E1E5ED"
        }
       }
      },
      "text/html": [
       "<div>                            <div id=\"6a2d4a0a-de97-4208-aaac-f87333011eb7\" class=\"plotly-graph-div\" style=\"height:525px; width:100%;\"></div>            <script type=\"text/javascript\">                require([\"plotly\"], function(Plotly) {                    window.PLOTLYENV=window.PLOTLYENV || {};\n",
       "                    window.PLOTLYENV.BASE_URL='https://plot.ly';                                    if (document.getElementById(\"6a2d4a0a-de97-4208-aaac-f87333011eb7\")) {                    Plotly.newPlot(                        \"6a2d4a0a-de97-4208-aaac-f87333011eb7\",                        [{\"line\": {\"color\": \"rgba(255, 153, 51, 1.0)\", \"dash\": \"solid\", \"shape\": \"linear\", \"width\": 1.3}, \"mode\": \"lines\", \"name\": \"Close\", \"text\": \"\", \"type\": \"scatter\", \"x\": [\"2015-01-02\", \"2015-01-05\", \"2015-01-06\", \"2015-01-07\", \"2015-01-08\", \"2015-01-09\", \"2015-01-12\", \"2015-01-13\", \"2015-01-14\", \"2015-01-15\", \"2015-01-16\", \"2015-01-20\", \"2015-01-21\", \"2015-01-22\", \"2015-01-23\", \"2015-01-26\", \"2015-01-27\", \"2015-01-28\", \"2015-01-29\", \"2015-01-30\", \"2015-02-02\", \"2015-02-03\", \"2015-02-04\", \"2015-02-05\", \"2015-02-06\", \"2015-02-09\", \"2015-02-10\", \"2015-02-11\", \"2015-02-12\", \"2015-02-13\", \"2015-02-17\", \"2015-02-18\", \"2015-02-19\", \"2015-02-20\", \"2015-02-23\", \"2015-02-24\", \"2015-02-25\", \"2015-02-26\", \"2015-02-27\", \"2015-03-02\", \"2015-03-03\", \"2015-03-04\", \"2015-03-05\", \"2015-03-06\", \"2015-03-09\", \"2015-03-10\", \"2015-03-11\", \"2015-03-12\", \"2015-03-13\", \"2015-03-16\", \"2015-03-17\", \"2015-03-18\", \"2015-03-19\", \"2015-03-20\", \"2015-03-23\", \"2015-03-24\", \"2015-03-25\", \"2015-03-26\", \"2015-03-27\", \"2015-03-30\", \"2015-03-31\", \"2015-04-01\", \"2015-04-02\", \"2015-04-06\", \"2015-04-07\", \"2015-04-08\", \"2015-04-09\", \"2015-04-10\", \"2015-04-13\", \"2015-04-14\", \"2015-04-15\", \"2015-04-16\", \"2015-04-17\", \"2015-04-20\", \"2015-04-21\", \"2015-04-22\", \"2015-04-23\", \"2015-04-24\", \"2015-04-27\", \"2015-04-28\", \"2015-04-29\", \"2015-04-30\", \"2015-05-01\", \"2015-05-04\", \"2015-05-05\", \"2015-05-06\", \"2015-05-07\", \"2015-05-08\", \"2015-05-11\", \"2015-05-12\", \"2015-05-13\", \"2015-05-14\", \"2015-05-15\", \"2015-05-18\", \"2015-05-19\", \"2015-05-20\", \"2015-05-21\", \"2015-05-22\", \"2015-05-26\", \"2015-05-27\", \"2015-05-28\", \"2015-05-29\", \"2015-06-01\", \"2015-06-02\", \"2015-06-03\", \"2015-06-04\", \"2015-06-05\", \"2015-06-08\", \"2015-06-09\", \"2015-06-10\", \"2015-06-11\", \"2015-06-12\", \"2015-06-15\", \"2015-06-16\", \"2015-06-17\", \"2015-06-18\", \"2015-06-19\", \"2015-06-22\", \"2015-06-23\", \"2015-06-24\", \"2015-06-25\", \"2015-06-26\", \"2015-06-29\", \"2015-06-30\", \"2015-07-01\", \"2015-07-02\", \"2015-07-06\", \"2015-07-07\", \"2015-07-08\", \"2015-07-09\", \"2015-07-10\", \"2015-07-13\", \"2015-07-14\", \"2015-07-15\", \"2015-07-16\", \"2015-07-17\", \"2015-07-20\", \"2015-07-21\", \"2015-07-22\", \"2015-07-23\", \"2015-07-24\", \"2015-07-27\", \"2015-07-28\", \"2015-07-29\", \"2015-07-30\", \"2015-07-31\", \"2015-08-03\", \"2015-08-04\", \"2015-08-05\", \"2015-08-06\", \"2015-08-07\", \"2015-08-10\", \"2015-08-11\", \"2015-08-12\", \"2015-08-13\", \"2015-08-14\", \"2015-08-17\", \"2015-08-18\", \"2015-08-19\", \"2015-08-20\", \"2015-08-21\", \"2015-08-24\", \"2015-08-25\", \"2015-08-26\", \"2015-08-27\", \"2015-08-28\", \"2015-08-31\", \"2015-09-01\", \"2015-09-02\", \"2015-09-03\", \"2015-09-04\", \"2015-09-08\", \"2015-09-09\", \"2015-09-10\", \"2015-09-11\", \"2015-09-14\", \"2015-09-15\", \"2015-09-16\", \"2015-09-17\", \"2015-09-18\", \"2015-09-21\", \"2015-09-22\", \"2015-09-23\", \"2015-09-24\", \"2015-09-25\", \"2015-09-28\", \"2015-09-29\", \"2015-09-30\", \"2015-10-01\", \"2015-10-02\", \"2015-10-05\", \"2015-10-06\", \"2015-10-07\", \"2015-10-08\", \"2015-10-09\", \"2015-10-12\", \"2015-10-13\", \"2015-10-14\", \"2015-10-15\", \"2015-10-16\", \"2015-10-19\", \"2015-10-20\", \"2015-10-21\", \"2015-10-22\", \"2015-10-23\", \"2015-10-26\", \"2015-10-27\", \"2015-10-28\", \"2015-10-29\", \"2015-10-30\", \"2015-11-02\", \"2015-11-03\", \"2015-11-04\", \"2015-11-05\", \"2015-11-06\", \"2015-11-09\", \"2015-11-10\", \"2015-11-11\", \"2015-11-12\", \"2015-11-13\", \"2015-11-16\", \"2015-11-17\", \"2015-11-18\", \"2015-11-19\", \"2015-11-20\", \"2015-11-23\", \"2015-11-24\", \"2015-11-25\", \"2015-11-27\", \"2015-11-30\", \"2015-12-01\", \"2015-12-02\", \"2015-12-03\", \"2015-12-04\", \"2015-12-07\", \"2015-12-08\", \"2015-12-09\", \"2015-12-10\", \"2015-12-11\", \"2015-12-14\", \"2015-12-15\", \"2015-12-16\", \"2015-12-17\", \"2015-12-18\", \"2015-12-21\", \"2015-12-22\", \"2015-12-23\", \"2015-12-24\", \"2015-12-28\", \"2015-12-29\", \"2015-12-30\", \"2015-12-31\"], \"y\": [17.9, 17.38, 16.86, 16.94, 17.29, 16.98, 16.68, 16.45, 16.04, 15.2, 15.38, 15.26, 15.41, 16.09, 15.73, 15.85, 15.63, 15.2, 15.43, 15.15, 15.46, 15.89, 15.79, 15.97, 16.49, 16.35, 16.42, 16.36, 16.67, 16.61, 16.63, 16.3, 16.21, 16.38, 16.2, 16.38, 16.49, 16.04, 15.81, 16.01, 16.04, 15.84, 16.0, 16.22, 16.17, 15.79, 16.11, 16.09, 16.09, 16.13, 16.09, 15.98, 15.61, 15.84, 15.72, 15.61, 15.41, 15.42, 15.31, 15.52, 15.39, 15.41, 15.54, 15.51, 15.46, 15.61, 15.71, 15.72, 15.8, 15.82, 15.64, 15.79, 15.56, 15.57, 15.5, 15.74, 15.69, 15.64, 15.56, 15.65, 15.98, 15.93, 16.11, 16.44, 16.35, 16.29, 16.24, 16.45, 16.49, 16.43, 16.47, 16.52, 16.35, 16.51, 16.77, 16.74, 16.73, 16.75, 16.5, 16.74, 16.67, 16.5, 16.55, 16.72, 16.93, 16.78, 17.19, 17.08, 17.31, 17.59, 17.49, 17.49, 17.47, 17.55, 17.37, 17.38, 17.17, 17.47, 17.67, 17.49, 17.37, 17.41, 16.89, 17.02, 17.22, 17.03, 16.94, 16.69, 16.25, 16.48, 16.7, 17.02, 17.13, 17.68, 17.95, 18.1, 18.12, 18.08, 18.45, 18.18, 17.9, 17.67, 17.88, 18.16, 18.13, 17.88, 17.77, 17.8, 17.87, 17.81, 17.75, 18.04, 17.79, 17.52, 17.62, 17.7, 17.77, 17.69, 17.46, 16.72, 16.1, 15.29, 15.26, 16.06, 16.44, 16.36, 16.34, 15.58, 15.85, 15.94, 15.65, 16.16, 15.9, 16.04, 16.04, 15.96, 16.31, 16.33, 15.86, 15.56, 15.7, 15.57, 15.72, 15.55, 15.89, 15.47, 15.35, 15.58, 15.55, 15.38, 15.69, 15.69, 15.75, 15.75, 15.58, 15.52, 15.52, 15.64, 16.19, 16.12, 16.14, 16.2, 15.9, 16.16, 16.52, 16.51, 16.4, 17.28, 17.09, 16.78, 17.06, 17.18, 17.01, 17.31, 17.95, 17.68, 17.85, 17.75, 17.37, 17.2, 17.43, 17.42, 17.84, 17.69, 17.65, 17.47, 17.47, 17.44, 17.48, 17.43, 17.81, 17.62, 17.3, 17.8, 17.54, 17.19, 17.1, 17.2, 16.73, 16.8, 17.42, 17.75, 17.3, 16.76, 16.97, 17.08, 17.34, 17.27, 17.13, 17.28, 17.05, 16.83]}, {\"line\": {\"color\": \"rgba(55, 128, 191, 1.0)\", \"dash\": \"solid\", \"shape\": \"linear\", \"width\": 1.3}, \"mode\": \"lines\", \"name\": \"SMA(14)\", \"text\": \"\", \"type\": \"scatter\", \"x\": [\"2015-01-02\", \"2015-01-05\", \"2015-01-06\", \"2015-01-07\", \"2015-01-08\", \"2015-01-09\", \"2015-01-12\", \"2015-01-13\", \"2015-01-14\", \"2015-01-15\", \"2015-01-16\", \"2015-01-20\", \"2015-01-21\", \"2015-01-22\", \"2015-01-23\", \"2015-01-26\", \"2015-01-27\", \"2015-01-28\", \"2015-01-29\", \"2015-01-30\", \"2015-02-02\", \"2015-02-03\", \"2015-02-04\", \"2015-02-05\", \"2015-02-06\", \"2015-02-09\", \"2015-02-10\", \"2015-02-11\", \"2015-02-12\", \"2015-02-13\", \"2015-02-17\", \"2015-02-18\", \"2015-02-19\", \"2015-02-20\", \"2015-02-23\", \"2015-02-24\", \"2015-02-25\", \"2015-02-26\", \"2015-02-27\", \"2015-03-02\", \"2015-03-03\", \"2015-03-04\", \"2015-03-05\", \"2015-03-06\", \"2015-03-09\", \"2015-03-10\", \"2015-03-11\", \"2015-03-12\", \"2015-03-13\", \"2015-03-16\", \"2015-03-17\", \"2015-03-18\", \"2015-03-19\", \"2015-03-20\", \"2015-03-23\", \"2015-03-24\", \"2015-03-25\", \"2015-03-26\", \"2015-03-27\", \"2015-03-30\", \"2015-03-31\", \"2015-04-01\", \"2015-04-02\", \"2015-04-06\", \"2015-04-07\", \"2015-04-08\", \"2015-04-09\", \"2015-04-10\", \"2015-04-13\", \"2015-04-14\", \"2015-04-15\", \"2015-04-16\", \"2015-04-17\", \"2015-04-20\", \"2015-04-21\", \"2015-04-22\", \"2015-04-23\", \"2015-04-24\", \"2015-04-27\", \"2015-04-28\", \"2015-04-29\", \"2015-04-30\", \"2015-05-01\", \"2015-05-04\", \"2015-05-05\", \"2015-05-06\", \"2015-05-07\", \"2015-05-08\", \"2015-05-11\", \"2015-05-12\", \"2015-05-13\", \"2015-05-14\", \"2015-05-15\", \"2015-05-18\", \"2015-05-19\", \"2015-05-20\", \"2015-05-21\", \"2015-05-22\", \"2015-05-26\", \"2015-05-27\", \"2015-05-28\", \"2015-05-29\", \"2015-06-01\", \"2015-06-02\", \"2015-06-03\", \"2015-06-04\", \"2015-06-05\", \"2015-06-08\", \"2015-06-09\", \"2015-06-10\", \"2015-06-11\", \"2015-06-12\", \"2015-06-15\", \"2015-06-16\", \"2015-06-17\", \"2015-06-18\", \"2015-06-19\", \"2015-06-22\", \"2015-06-23\", \"2015-06-24\", \"2015-06-25\", \"2015-06-26\", \"2015-06-29\", \"2015-06-30\", \"2015-07-01\", \"2015-07-02\", \"2015-07-06\", \"2015-07-07\", \"2015-07-08\", \"2015-07-09\", \"2015-07-10\", \"2015-07-13\", \"2015-07-14\", \"2015-07-15\", \"2015-07-16\", \"2015-07-17\", \"2015-07-20\", \"2015-07-21\", \"2015-07-22\", \"2015-07-23\", \"2015-07-24\", \"2015-07-27\", \"2015-07-28\", \"2015-07-29\", \"2015-07-30\", \"2015-07-31\", \"2015-08-03\", \"2015-08-04\", \"2015-08-05\", \"2015-08-06\", \"2015-08-07\", \"2015-08-10\", \"2015-08-11\", \"2015-08-12\", \"2015-08-13\", \"2015-08-14\", \"2015-08-17\", \"2015-08-18\", \"2015-08-19\", \"2015-08-20\", \"2015-08-21\", \"2015-08-24\", \"2015-08-25\", \"2015-08-26\", \"2015-08-27\", \"2015-08-28\", \"2015-08-31\", \"2015-09-01\", \"2015-09-02\", \"2015-09-03\", \"2015-09-04\", \"2015-09-08\", \"2015-09-09\", \"2015-09-10\", \"2015-09-11\", \"2015-09-14\", \"2015-09-15\", \"2015-09-16\", \"2015-09-17\", \"2015-09-18\", \"2015-09-21\", \"2015-09-22\", \"2015-09-23\", \"2015-09-24\", \"2015-09-25\", \"2015-09-28\", \"2015-09-29\", \"2015-09-30\", \"2015-10-01\", \"2015-10-02\", \"2015-10-05\", \"2015-10-06\", \"2015-10-07\", \"2015-10-08\", \"2015-10-09\", \"2015-10-12\", \"2015-10-13\", \"2015-10-14\", \"2015-10-15\", \"2015-10-16\", \"2015-10-19\", \"2015-10-20\", \"2015-10-21\", \"2015-10-22\", \"2015-10-23\", \"2015-10-26\", \"2015-10-27\", \"2015-10-28\", \"2015-10-29\", \"2015-10-30\", \"2015-11-02\", \"2015-11-03\", \"2015-11-04\", \"2015-11-05\", \"2015-11-06\", \"2015-11-09\", \"2015-11-10\", \"2015-11-11\", \"2015-11-12\", \"2015-11-13\", \"2015-11-16\", \"2015-11-17\", \"2015-11-18\", \"2015-11-19\", \"2015-11-20\", \"2015-11-23\", \"2015-11-24\", \"2015-11-25\", \"2015-11-27\", \"2015-11-30\", \"2015-12-01\", \"2015-12-02\", \"2015-12-03\", \"2015-12-04\", \"2015-12-07\", \"2015-12-08\", \"2015-12-09\", \"2015-12-10\", \"2015-12-11\", \"2015-12-14\", \"2015-12-15\", \"2015-12-16\", \"2015-12-17\", \"2015-12-18\", \"2015-12-21\", \"2015-12-22\", \"2015-12-23\", \"2015-12-24\", \"2015-12-28\", \"2015-12-29\", \"2015-12-30\", \"2015-12-31\"], \"y\": [\"\", \"\", \"\", \"\", \"\", \"\", \"\", \"\", \"\", \"\", \"\", \"\", \"\", 16.418571428571425, 16.263571428571424, 16.15428571428571, 16.066428571428567, 15.942142857142853, 15.80928571428571, 15.678571428571427, 15.591428571428569, 15.55142857142857, 15.533571428571426, 15.588571428571427, 15.667857142857143, 15.745714285714286, 15.817857142857145, 15.837142857142856, 15.904285714285715, 15.958571428571428, 16.029999999999998, 16.10857142857143, 16.164285714285715, 16.252142857142857, 16.305, 16.34, 16.39, 16.395, 16.34642857142857, 16.322142857142858, 16.294999999999998, 16.257857142857144, 16.21, 16.182142857142857, 16.149285714285718, 16.112857142857145, 16.105714285714285, 16.085, 16.077142857142857, 16.059285714285714, 16.030714285714286, 16.02642857142857, 16.01214285714286, 16.000000000000004, 15.97714285714286, 15.960714285714287, 15.918571428571429, 15.861428571428572, 15.799999999999999, 15.780714285714286, 15.729285714285712, 15.680714285714284, 15.641428571428568, 15.597142857142854, 15.552142857142854, 15.525714285714285, 15.532857142857141, 15.524285714285712, 15.53, 15.545, 15.56142857142857, 15.587857142857143, 15.605714285714285, 15.609285714285713, 15.617142857142856, 15.640714285714285, 15.651428571428571, 15.660714285714286, 15.667857142857143, 15.670714285714284, 15.689999999999998, 15.704999999999998, 15.727142857142853, 15.771428571428569, 15.822142857142852, 15.857857142857139, 15.906428571428567, 15.969285714285709, 16.039999999999996, 16.08928571428571, 16.144999999999996, 16.20785714285714, 16.264285714285712, 16.32571428571428, 16.382142857142856, 16.439999999999998, 16.48428571428571, 16.506428571428568, 16.517142857142854, 16.549285714285713, 16.580000000000002, 16.583571428571428, 16.587857142857143, 16.60857142857143, 16.641428571428573, 16.66, 16.720000000000002, 16.76071428571429, 16.799285714285716, 16.860000000000003, 16.914285714285718, 16.96714285714286, 17.036428571428576, 17.094285714285718, 17.14428571428572, 17.20714285714286, 17.251428571428573, 17.305, 17.357857142857142, 17.408571428571427, 17.42142857142857, 17.445, 17.415, 17.374285714285712, 17.354999999999997, 17.322142857142858, 17.284285714285712, 17.222857142857144, 17.142857142857142, 17.07857142857143, 17.044999999999998, 17.012857142857143, 16.974285714285713, 16.98785714285714, 17.029285714285713, 17.07857142857143, 17.166428571428572, 17.242142857142856, 17.33, 17.412142857142854, 17.48071428571428, 17.550714285714285, 17.667142857142856, 17.787142857142857, 17.889285714285716, 17.950714285714287, 17.996428571428574, 18.005000000000003, 17.99928571428572, 17.978571428571435, 17.95214285714286, 17.94928571428572, 17.902142857142866, 17.855000000000008, 17.835000000000004, 17.83714285714286, 17.82928571428572, 17.79571428571429, 17.74785714285715, 17.665000000000003, 17.54571428571429, 17.366428571428575, 17.180000000000003, 17.055000000000003, 16.961428571428574, 16.841428571428576, 16.73785714285715, 16.59928571428572, 16.472857142857148, 16.347142857142863, 16.195714285714292, 16.086428571428577, 15.975000000000005, 15.926428571428575, 15.92214285714286, 15.970000000000004, 16.045000000000005, 16.06428571428572, 16.022857142857152, 15.965714285714293, 15.920000000000005, 15.919285714285719, 15.910000000000005, 15.882142857142863, 15.89928571428572, 15.850000000000005, 15.810714285714289, 15.777857142857147, 15.742857142857149, 15.701428571428577, 15.657142857142862, 15.611428571428576, 15.603571428571431, 15.617142857142861, 15.608571428571434, 15.605000000000006, 15.590714285714293, 15.597142857142861, 15.618571428571434, 15.665000000000006, 15.721428571428579, 15.765714285714292, 15.79071428571429, 15.846428571428577, 15.905714285714293, 15.96428571428572, 16.010714285714293, 16.120000000000008, 16.22785714285715, 16.317857142857147, 16.427857142857146, 16.53785714285715, 16.59642857142858, 16.681428571428576, 16.81071428571429, 16.91642857142858, 17.05571428571429, 17.16928571428572, 17.230000000000004, 17.27928571428572, 17.35285714285715, 17.36285714285715, 17.416428571428575, 17.481428571428577, 17.523571428571437, 17.544285714285717, 17.57714285714286, 17.586428571428574, 17.552857142857146, 17.535000000000004, 17.532142857142862, 17.522857142857145, 17.517857142857146, 17.56071428571429, 17.568571428571435, 17.55214285714286, 17.499285714285723, 17.464285714285722, 17.398571428571437, 17.350714285714293, 17.347142857142863, 17.369285714285724, 17.356428571428584, 17.30857142857144, 17.24857142857144, 17.21000000000001, 17.212857142857153, 17.175000000000008, 17.145714285714295, 17.152142857142866, 17.148571428571437, 17.12214285714287]}, {\"line\": {\"color\": \"rgba(55, 128, 191, 0.8999999999999999)\", \"dash\": \"solid\", \"shape\": \"linear\", \"width\": 1.3}, \"mode\": \"lines\", \"name\": \"UPPER(14)\", \"text\": \"\", \"type\": \"scatter\", \"x\": [\"2015-01-02\", \"2015-01-05\", \"2015-01-06\", \"2015-01-07\", \"2015-01-08\", \"2015-01-09\", \"2015-01-12\", \"2015-01-13\", \"2015-01-14\", \"2015-01-15\", \"2015-01-16\", \"2015-01-20\", \"2015-01-21\", \"2015-01-22\", \"2015-01-23\", \"2015-01-26\", \"2015-01-27\", \"2015-01-28\", \"2015-01-29\", \"2015-01-30\", \"2015-02-02\", \"2015-02-03\", \"2015-02-04\", \"2015-02-05\", \"2015-02-06\", \"2015-02-09\", \"2015-02-10\", \"2015-02-11\", \"2015-02-12\", \"2015-02-13\", \"2015-02-17\", \"2015-02-18\", \"2015-02-19\", \"2015-02-20\", \"2015-02-23\", \"2015-02-24\", \"2015-02-25\", \"2015-02-26\", \"2015-02-27\", \"2015-03-02\", \"2015-03-03\", \"2015-03-04\", \"2015-03-05\", \"2015-03-06\", \"2015-03-09\", \"2015-03-10\", \"2015-03-11\", \"2015-03-12\", \"2015-03-13\", \"2015-03-16\", \"2015-03-17\", \"2015-03-18\", \"2015-03-19\", \"2015-03-20\", \"2015-03-23\", \"2015-03-24\", \"2015-03-25\", \"2015-03-26\", \"2015-03-27\", \"2015-03-30\", \"2015-03-31\", \"2015-04-01\", \"2015-04-02\", \"2015-04-06\", \"2015-04-07\", \"2015-04-08\", \"2015-04-09\", \"2015-04-10\", \"2015-04-13\", \"2015-04-14\", \"2015-04-15\", \"2015-04-16\", \"2015-04-17\", \"2015-04-20\", \"2015-04-21\", \"2015-04-22\", \"2015-04-23\", \"2015-04-24\", \"2015-04-27\", \"2015-04-28\", \"2015-04-29\", \"2015-04-30\", \"2015-05-01\", \"2015-05-04\", \"2015-05-05\", \"2015-05-06\", \"2015-05-07\", \"2015-05-08\", \"2015-05-11\", \"2015-05-12\", \"2015-05-13\", \"2015-05-14\", \"2015-05-15\", \"2015-05-18\", \"2015-05-19\", \"2015-05-20\", \"2015-05-21\", \"2015-05-22\", \"2015-05-26\", \"2015-05-27\", \"2015-05-28\", \"2015-05-29\", \"2015-06-01\", \"2015-06-02\", \"2015-06-03\", \"2015-06-04\", \"2015-06-05\", \"2015-06-08\", \"2015-06-09\", \"2015-06-10\", \"2015-06-11\", \"2015-06-12\", \"2015-06-15\", \"2015-06-16\", \"2015-06-17\", \"2015-06-18\", \"2015-06-19\", \"2015-06-22\", \"2015-06-23\", \"2015-06-24\", \"2015-06-25\", \"2015-06-26\", \"2015-06-29\", \"2015-06-30\", \"2015-07-01\", \"2015-07-02\", \"2015-07-06\", \"2015-07-07\", \"2015-07-08\", \"2015-07-09\", \"2015-07-10\", \"2015-07-13\", \"2015-07-14\", \"2015-07-15\", \"2015-07-16\", \"2015-07-17\", \"2015-07-20\", \"2015-07-21\", \"2015-07-22\", \"2015-07-23\", \"2015-07-24\", \"2015-07-27\", \"2015-07-28\", \"2015-07-29\", \"2015-07-30\", \"2015-07-31\", \"2015-08-03\", \"2015-08-04\", \"2015-08-05\", \"2015-08-06\", \"2015-08-07\", \"2015-08-10\", \"2015-08-11\", \"2015-08-12\", \"2015-08-13\", \"2015-08-14\", \"2015-08-17\", \"2015-08-18\", \"2015-08-19\", \"2015-08-20\", \"2015-08-21\", \"2015-08-24\", \"2015-08-25\", \"2015-08-26\", \"2015-08-27\", \"2015-08-28\", \"2015-08-31\", \"2015-09-01\", \"2015-09-02\", \"2015-09-03\", \"2015-09-04\", \"2015-09-08\", \"2015-09-09\", \"2015-09-10\", \"2015-09-11\", \"2015-09-14\", \"2015-09-15\", \"2015-09-16\", \"2015-09-17\", \"2015-09-18\", \"2015-09-21\", \"2015-09-22\", \"2015-09-23\", \"2015-09-24\", \"2015-09-25\", \"2015-09-28\", \"2015-09-29\", \"2015-09-30\", \"2015-10-01\", \"2015-10-02\", \"2015-10-05\", \"2015-10-06\", \"2015-10-07\", \"2015-10-08\", \"2015-10-09\", \"2015-10-12\", \"2015-10-13\", \"2015-10-14\", \"2015-10-15\", \"2015-10-16\", \"2015-10-19\", \"2015-10-20\", \"2015-10-21\", \"2015-10-22\", \"2015-10-23\", \"2015-10-26\", \"2015-10-27\", \"2015-10-28\", \"2015-10-29\", \"2015-10-30\", \"2015-11-02\", \"2015-11-03\", \"2015-11-04\", \"2015-11-05\", \"2015-11-06\", \"2015-11-09\", \"2015-11-10\", \"2015-11-11\", \"2015-11-12\", \"2015-11-13\", \"2015-11-16\", \"2015-11-17\", \"2015-11-18\", \"2015-11-19\", \"2015-11-20\", \"2015-11-23\", \"2015-11-24\", \"2015-11-25\", \"2015-11-27\", \"2015-11-30\", \"2015-12-01\", \"2015-12-02\", \"2015-12-03\", \"2015-12-04\", \"2015-12-07\", \"2015-12-08\", \"2015-12-09\", \"2015-12-10\", \"2015-12-11\", \"2015-12-14\", \"2015-12-15\", \"2015-12-16\", \"2015-12-17\", \"2015-12-18\", \"2015-12-21\", \"2015-12-22\", \"2015-12-23\", \"2015-12-24\", \"2015-12-28\", \"2015-12-29\", \"2015-12-30\", \"2015-12-31\"], \"y\": [\"\", \"\", \"\", \"\", \"\", \"\", \"\", \"\", \"\", \"\", \"\", \"\", \"\", 18.16424488720446, 17.817437221070538, 17.579826675804185, 17.455763933122327, 17.305919932799974, 16.951899836799086, 16.65016352857594, 16.377180818263767, 16.19262251270503, 16.128400797400797, 16.19285649338803, 16.425959168522983, 16.5460878248807, 16.668383805811093, 16.725648207853663, 16.89419524506156, 17.016664259829827, 17.12684863270959, 17.10202251188909, 17.07810152759785, 16.958952746561643, 16.848422204466903, 16.82864018538103, 16.76662468565686, 16.748770895006672, 16.812812839724856, 16.821938419743788, 16.812850587302172, 16.827617069165015, 16.74193406184773, 16.66215430389279, 16.554366088890667, 16.550010773407408, 16.53928367760259, 16.488808789480263, 16.47555729705944, 16.419837794015926, 16.294703129967385, 16.291712992712224, 16.341447819513206, 16.341940165706013, 16.349034369150427, 16.376440844197802, 16.42653006667295, 16.402246023517066, 16.38351718714386, 16.38319450744973, 16.333601693056565, 16.269243837195773, 16.183893438372134, 16.063713229206794, 15.92632328021568, 15.81155601553249, 15.832439269409143, 15.791086047086079, 15.817482440935308, 15.869937863882596, 15.880162329902909, 15.917255528863004, 15.894873734484607, 15.895100531763882, 15.88229054561716, 15.884336223050843, 15.889091182041781, 15.884316168975076, 15.869111451390566, 15.869551565257717, 15.948635472610151, 15.99373730408314, 16.08623817951481, 16.295075965584754, 16.4228183011315, 16.507741325269222, 16.562036669320857, 16.65404122531872, 16.720452338239316, 16.776060306607903, 16.818669629143795, 16.841584993760794, 16.779035199926067, 16.714536118411978, 16.78392186807592, 16.791436612076303, 16.81204869485025, 16.86200888955282, 16.861274189088018, 16.88600877197912, 16.870463820069233, 16.868323103691168, 16.868315950629555, 16.881544477999878, 16.95085554980156, 16.969242250073872, 17.09011432745113, 17.155874567564116, 17.29178104253933, 17.5065053988709, 17.636918264201505, 17.7442154137563, 17.80702702589236, 17.890225962747166, 17.91288941473976, 17.887659790586323, 17.81906101712437, 17.792489644860435, 17.83043948058684, 17.747516138640076, 17.737545116914053, 17.693410330517267, 17.79840579025362, 17.796711987194914, 17.779318458054977, 17.77190714217215, 17.768352733530854, 17.77513514260997, 17.892520803704855, 17.892256574364016, 17.880914975433406, 17.812181032978454, 17.684116215644544, 17.745796802376628, 17.92760771534235, 18.129603365226124, 18.34718731426777, 18.5148185018785, 18.756604360010158, 18.895635172778313, 18.95893492680149, 18.958789115144434, 18.865922456348876, 18.79518524243699, 18.69160789341385, 18.579190552237105, 18.430911970623374, 18.41673180217603, 18.416489909685748, 18.40297016291725, 18.384608316603398, 18.378629706599927, 18.22683713431204, 18.197097601907423, 18.19787315011855, 18.196152483877224, 18.189068921292368, 18.10701075936204, 18.043380519147572, 18.27937898601886, 18.578372224037732, 18.93920870947628, 19.080299571525092, 19.006326964677346, 18.894745484330915, 18.69319458327708, 18.522047173636942, 18.42271383458277, 18.2358690512148, 17.979365100144513, 17.64208298614385, 17.249993574547602, 16.829733426729696, 16.66867493910545, 16.660756051277176, 16.612782413238794, 16.564037570894307, 16.605322569888678, 16.527569007126182, 16.486879505978496, 16.41115249081178, 16.41259256438157, 16.41370931788376, 16.42064097206998, 16.420967272663518, 16.395414450740688, 16.416505023165968, 16.37996516135042, 16.33622710509634, 16.31027904658543, 16.155474138454686, 15.928225729812695, 15.898514149775094, 15.920805480807354, 15.90891555354545, 15.908492491352765, 15.889683209822183, 15.896211006970907, 16.0299374189277, 16.14511216638148, 16.227080147598713, 16.323882404072442, 16.338519095742406, 16.372523452771915, 16.533173841785707, 16.654913713259756, 16.726233001728687, 17.087121024961693, 17.269488365697306, 17.31271093409179, 17.382430863955143, 17.455552536310083, 17.52311355293252, 17.637698798536302, 17.92759081730277, 18.0640443512181, 18.143710730440198, 18.183991864571865, 18.17680027948387, 18.131773992056285, 18.040257085626024, 18.04976452980369, 18.128202396475512, 18.10337871253472, 18.100865228874287, 18.08832837583203, 18.030128071466226, 18.02077031159722, 17.9357552872911, 17.91566743005893, 17.90310240886106, 17.876426073917223, 17.882542766916526, 17.90493820976677, 17.904873229189388, 17.93846106567274, 17.91715314160348, 17.895221317949968, 17.966366469753712, 17.99971182207154, 17.993858991348382, 18.05003029694001, 18.03496124817051, 18.055786036518608, 17.956193976494863, 17.888686514243037, 17.893509706275434, 17.768334773838617, 17.700675921849964, 17.71138292236478, 17.709880729998105, 17.707354380843903]}, {\"line\": {\"color\": \"rgba(55, 128, 191, 0.7999999999999998)\", \"dash\": \"solid\", \"shape\": \"linear\", \"width\": 1.3}, \"mode\": \"lines\", \"name\": \"LOWER(14)\", \"text\": \"\", \"type\": \"scatter\", \"x\": [\"2015-01-02\", \"2015-01-05\", \"2015-01-06\", \"2015-01-07\", \"2015-01-08\", \"2015-01-09\", \"2015-01-12\", \"2015-01-13\", \"2015-01-14\", \"2015-01-15\", \"2015-01-16\", \"2015-01-20\", \"2015-01-21\", \"2015-01-22\", \"2015-01-23\", \"2015-01-26\", \"2015-01-27\", \"2015-01-28\", \"2015-01-29\", \"2015-01-30\", \"2015-02-02\", \"2015-02-03\", \"2015-02-04\", \"2015-02-05\", \"2015-02-06\", \"2015-02-09\", \"2015-02-10\", \"2015-02-11\", \"2015-02-12\", \"2015-02-13\", \"2015-02-17\", \"2015-02-18\", \"2015-02-19\", \"2015-02-20\", \"2015-02-23\", \"2015-02-24\", \"2015-02-25\", \"2015-02-26\", \"2015-02-27\", \"2015-03-02\", \"2015-03-03\", \"2015-03-04\", \"2015-03-05\", \"2015-03-06\", \"2015-03-09\", \"2015-03-10\", \"2015-03-11\", \"2015-03-12\", \"2015-03-13\", \"2015-03-16\", \"2015-03-17\", \"2015-03-18\", \"2015-03-19\", \"2015-03-20\", \"2015-03-23\", \"2015-03-24\", \"2015-03-25\", \"2015-03-26\", \"2015-03-27\", \"2015-03-30\", \"2015-03-31\", \"2015-04-01\", \"2015-04-02\", \"2015-04-06\", \"2015-04-07\", \"2015-04-08\", \"2015-04-09\", \"2015-04-10\", \"2015-04-13\", \"2015-04-14\", \"2015-04-15\", \"2015-04-16\", \"2015-04-17\", \"2015-04-20\", \"2015-04-21\", \"2015-04-22\", \"2015-04-23\", \"2015-04-24\", \"2015-04-27\", \"2015-04-28\", \"2015-04-29\", \"2015-04-30\", \"2015-05-01\", \"2015-05-04\", \"2015-05-05\", \"2015-05-06\", \"2015-05-07\", \"2015-05-08\", \"2015-05-11\", \"2015-05-12\", \"2015-05-13\", \"2015-05-14\", \"2015-05-15\", \"2015-05-18\", \"2015-05-19\", \"2015-05-20\", \"2015-05-21\", \"2015-05-22\", \"2015-05-26\", \"2015-05-27\", \"2015-05-28\", \"2015-05-29\", \"2015-06-01\", \"2015-06-02\", \"2015-06-03\", \"2015-06-04\", \"2015-06-05\", \"2015-06-08\", \"2015-06-09\", \"2015-06-10\", \"2015-06-11\", \"2015-06-12\", \"2015-06-15\", \"2015-06-16\", \"2015-06-17\", \"2015-06-18\", \"2015-06-19\", \"2015-06-22\", \"2015-06-23\", \"2015-06-24\", \"2015-06-25\", \"2015-06-26\", \"2015-06-29\", \"2015-06-30\", \"2015-07-01\", \"2015-07-02\", \"2015-07-06\", \"2015-07-07\", \"2015-07-08\", \"2015-07-09\", \"2015-07-10\", \"2015-07-13\", \"2015-07-14\", \"2015-07-15\", \"2015-07-16\", \"2015-07-17\", \"2015-07-20\", \"2015-07-21\", \"2015-07-22\", \"2015-07-23\", \"2015-07-24\", \"2015-07-27\", \"2015-07-28\", \"2015-07-29\", \"2015-07-30\", \"2015-07-31\", \"2015-08-03\", \"2015-08-04\", \"2015-08-05\", \"2015-08-06\", \"2015-08-07\", \"2015-08-10\", \"2015-08-11\", \"2015-08-12\", \"2015-08-13\", \"2015-08-14\", \"2015-08-17\", \"2015-08-18\", \"2015-08-19\", \"2015-08-20\", \"2015-08-21\", \"2015-08-24\", \"2015-08-25\", \"2015-08-26\", \"2015-08-27\", \"2015-08-28\", \"2015-08-31\", \"2015-09-01\", \"2015-09-02\", \"2015-09-03\", \"2015-09-04\", \"2015-09-08\", \"2015-09-09\", \"2015-09-10\", \"2015-09-11\", \"2015-09-14\", \"2015-09-15\", \"2015-09-16\", \"2015-09-17\", \"2015-09-18\", \"2015-09-21\", \"2015-09-22\", \"2015-09-23\", \"2015-09-24\", \"2015-09-25\", \"2015-09-28\", \"2015-09-29\", \"2015-09-30\", \"2015-10-01\", \"2015-10-02\", \"2015-10-05\", \"2015-10-06\", \"2015-10-07\", \"2015-10-08\", \"2015-10-09\", \"2015-10-12\", \"2015-10-13\", \"2015-10-14\", \"2015-10-15\", \"2015-10-16\", \"2015-10-19\", \"2015-10-20\", \"2015-10-21\", \"2015-10-22\", \"2015-10-23\", \"2015-10-26\", \"2015-10-27\", \"2015-10-28\", \"2015-10-29\", \"2015-10-30\", \"2015-11-02\", \"2015-11-03\", \"2015-11-04\", \"2015-11-05\", \"2015-11-06\", \"2015-11-09\", \"2015-11-10\", \"2015-11-11\", \"2015-11-12\", \"2015-11-13\", \"2015-11-16\", \"2015-11-17\", \"2015-11-18\", \"2015-11-19\", \"2015-11-20\", \"2015-11-23\", \"2015-11-24\", \"2015-11-25\", \"2015-11-27\", \"2015-11-30\", \"2015-12-01\", \"2015-12-02\", \"2015-12-03\", \"2015-12-04\", \"2015-12-07\", \"2015-12-08\", \"2015-12-09\", \"2015-12-10\", \"2015-12-11\", \"2015-12-14\", \"2015-12-15\", \"2015-12-16\", \"2015-12-17\", \"2015-12-18\", \"2015-12-21\", \"2015-12-22\", \"2015-12-23\", \"2015-12-24\", \"2015-12-28\", \"2015-12-29\", \"2015-12-30\", \"2015-12-31\"], \"y\": [\"\", \"\", \"\", \"\", \"\", \"\", \"\", \"\", \"\", \"\", \"\", \"\", \"\", 14.672897969938392, 14.709705636072313, 14.728744752767234, 14.677093209734807, 14.578365781485731, 14.666671591772335, 14.706979328566913, 14.805676324593371, 14.910234630152111, 14.938742059742054, 14.984286363754821, 14.9097551171913, 14.945340746547869, 14.967330479903197, 14.94863750643205, 14.91437618350987, 14.900478597313027, 14.933151367290405, 15.115120345253771, 15.250469900973581, 15.545332967724072, 15.761577795533098, 15.85135981461897, 16.01337531434314, 16.041229104993327, 15.880044303132285, 15.822347294541927, 15.777149412697824, 15.688097216549274, 15.678065938152272, 15.702131410392921, 15.744205339680766, 15.675703512306884, 15.67214489382598, 15.681191210519737, 15.678728417226274, 15.698733634555504, 15.766725441461185, 15.76114415014492, 15.682837894772511, 15.658059834293992, 15.605251345135295, 15.54498772723077, 15.410612790469907, 15.320611119340077, 15.21648281285614, 15.178234063978842, 15.124969735514858, 15.092184734232793, 15.098963704485, 15.130572485078915, 15.177962434070029, 15.23987255589608, 15.23327501630514, 15.257485381485345, 15.24251755906469, 15.220062136117404, 15.24269481295423, 15.258458756851281, 15.316554836943963, 15.323470896807544, 15.351995168668552, 15.397092348377727, 15.413765960815361, 15.437112402453497, 15.46660283432372, 15.471877006170851, 15.431364527389844, 15.416262695916856, 15.368047534770895, 15.247781177272383, 15.221467413154203, 15.207972960445055, 15.250820473536274, 15.284530203252697, 15.359547661760676, 15.402511121963519, 15.471330370856197, 15.574129291953485, 15.749536228645358, 15.936892453016585, 15.98036384620979, 16.088563387923692, 16.15652273372117, 16.150848253304318, 16.17301152519769, 16.212562656592304, 16.28953617993077, 16.29881975345169, 16.30739833508473, 16.335598379142983, 16.332001593055587, 16.350757749926128, 16.349885672548876, 16.365554003864464, 16.3067903860321, 16.213494601129106, 16.19165316436993, 16.19007030052942, 16.265830116964793, 16.29834546582427, 16.37568201383168, 16.526625923699395, 16.683796125732776, 16.817510355139564, 16.885274805127445, 17.06962671850278, 17.10531202594309, 17.196589669482734, 17.031594209746377, 16.95185944137651, 16.930681541945017, 16.872378572113565, 16.80021869504057, 16.67057914310432, 16.39319348200943, 16.264886282778843, 16.20908502456659, 16.213533252735832, 16.264455212926883, 16.229917483337655, 16.130963713229075, 16.027539491916734, 15.985669828589373, 15.96946721240721, 15.903395639989837, 15.928650541507395, 16.002493644627073, 16.142639456284137, 16.468363257936836, 16.779100471848725, 17.086963535157583, 17.32223801919147, 17.561945172233774, 17.593268197823974, 17.58208151888569, 17.55417269422562, 17.519677397682322, 17.51994172197151, 17.577448579973694, 17.512902398092592, 17.47212684988146, 17.4781332304085, 17.469502507279074, 17.48441781206654, 17.452333766566728, 17.050621013981146, 16.513056347390847, 15.79364843338087, 15.279700428474914, 15.103673035322661, 15.028111658526232, 14.989662559580074, 14.953667112077355, 14.775857593988672, 14.709845234499495, 14.714920614141212, 14.749345585284733, 14.922863568309552, 15.120266573270314, 15.1841822037517, 15.183529663008546, 15.327217586761217, 15.525962429105705, 15.523248858682761, 15.518145278588124, 15.444549065450092, 15.428847509188229, 15.425978864189867, 15.40629068211625, 15.343644742215746, 15.377604155907921, 15.304585549259324, 15.204923548262608, 15.175749124363874, 15.149487180617959, 15.092578096271726, 15.15881157583104, 15.294631413044456, 15.308628707367768, 15.313480233478368, 15.308227303597418, 15.301507508647246, 15.291745361606404, 15.298074707314816, 15.207205438215166, 15.184887833618532, 15.215776995258445, 15.207546167356144, 15.242909475686174, 15.320333690085238, 15.278254729642878, 15.273657715311684, 15.295195569699901, 15.152878975038323, 15.186225920016996, 15.323003351622503, 15.473283421759149, 15.620161749404216, 15.669743589924638, 15.725158344320851, 15.693837754125811, 15.768812791639055, 15.967717840988385, 16.154579563999576, 16.283199720516137, 16.426797436515155, 16.665457200088277, 16.675949755910608, 16.70465474638164, 16.859478430322433, 16.946277628268586, 17.000243052739403, 17.124157642819494, 17.152086831259926, 17.16995899842319, 17.154332569941076, 17.161183305424665, 17.169288211797067, 17.153171518797766, 17.216490361661812, 17.23226962795348, 17.165824648612983, 17.081418286967963, 17.033350110621477, 16.83077638738916, 16.701716749357047, 16.700426722937344, 16.688541131631435, 16.677895894686657, 16.561356820624273, 16.54094888064802, 16.531313485756986, 16.532204579438872, 16.581665226161398, 16.590752649578626, 16.592902791920952, 16.58726212714477, 16.536931333441835]}],                        {\"legend\": {\"bgcolor\": \"#F5F6F9\", \"font\": {\"color\": \"#4D5663\"}}, \"paper_bgcolor\": \"#F5F6F9\", \"plot_bgcolor\": \"#F5F6F9\", \"template\": {\"data\": {\"bar\": [{\"error_x\": {\"color\": \"#2a3f5f\"}, \"error_y\": {\"color\": \"#2a3f5f\"}, \"marker\": {\"line\": {\"color\": \"#E5ECF6\", \"width\": 0.5}}, \"type\": \"bar\"}], \"barpolar\": [{\"marker\": {\"line\": {\"color\": \"#E5ECF6\", \"width\": 0.5}}, \"type\": \"barpolar\"}], \"carpet\": [{\"aaxis\": {\"endlinecolor\": \"#2a3f5f\", \"gridcolor\": \"white\", \"linecolor\": \"white\", \"minorgridcolor\": \"white\", \"startlinecolor\": \"#2a3f5f\"}, \"baxis\": {\"endlinecolor\": \"#2a3f5f\", \"gridcolor\": \"white\", \"linecolor\": \"white\", \"minorgridcolor\": \"white\", \"startlinecolor\": \"#2a3f5f\"}, \"type\": \"carpet\"}], \"choropleth\": [{\"colorbar\": {\"outlinewidth\": 0, \"ticks\": \"\"}, \"type\": \"choropleth\"}], \"contour\": [{\"colorbar\": {\"outlinewidth\": 0, \"ticks\": \"\"}, \"colorscale\": [[0.0, \"#0d0887\"], [0.1111111111111111, \"#46039f\"], [0.2222222222222222, \"#7201a8\"], [0.3333333333333333, \"#9c179e\"], [0.4444444444444444, \"#bd3786\"], [0.5555555555555556, \"#d8576b\"], [0.6666666666666666, \"#ed7953\"], [0.7777777777777778, \"#fb9f3a\"], [0.8888888888888888, \"#fdca26\"], [1.0, \"#f0f921\"]], \"type\": \"contour\"}], \"contourcarpet\": [{\"colorbar\": {\"outlinewidth\": 0, \"ticks\": \"\"}, \"type\": \"contourcarpet\"}], \"heatmap\": [{\"colorbar\": {\"outlinewidth\": 0, \"ticks\": \"\"}, \"colorscale\": [[0.0, \"#0d0887\"], [0.1111111111111111, \"#46039f\"], [0.2222222222222222, \"#7201a8\"], [0.3333333333333333, \"#9c179e\"], [0.4444444444444444, \"#bd3786\"], [0.5555555555555556, \"#d8576b\"], [0.6666666666666666, \"#ed7953\"], [0.7777777777777778, \"#fb9f3a\"], [0.8888888888888888, \"#fdca26\"], [1.0, \"#f0f921\"]], \"type\": \"heatmap\"}], \"heatmapgl\": [{\"colorbar\": {\"outlinewidth\": 0, \"ticks\": \"\"}, \"colorscale\": [[0.0, \"#0d0887\"], [0.1111111111111111, \"#46039f\"], [0.2222222222222222, \"#7201a8\"], [0.3333333333333333, \"#9c179e\"], [0.4444444444444444, \"#bd3786\"], [0.5555555555555556, \"#d8576b\"], [0.6666666666666666, \"#ed7953\"], [0.7777777777777778, \"#fb9f3a\"], [0.8888888888888888, \"#fdca26\"], [1.0, \"#f0f921\"]], \"type\": \"heatmapgl\"}], \"histogram\": [{\"marker\": {\"colorbar\": {\"outlinewidth\": 0, \"ticks\": \"\"}}, \"type\": \"histogram\"}], \"histogram2d\": [{\"colorbar\": {\"outlinewidth\": 0, \"ticks\": \"\"}, \"colorscale\": [[0.0, \"#0d0887\"], [0.1111111111111111, \"#46039f\"], [0.2222222222222222, \"#7201a8\"], [0.3333333333333333, \"#9c179e\"], [0.4444444444444444, \"#bd3786\"], [0.5555555555555556, \"#d8576b\"], [0.6666666666666666, \"#ed7953\"], [0.7777777777777778, \"#fb9f3a\"], [0.8888888888888888, \"#fdca26\"], [1.0, \"#f0f921\"]], \"type\": \"histogram2d\"}], \"histogram2dcontour\": [{\"colorbar\": {\"outlinewidth\": 0, \"ticks\": \"\"}, \"colorscale\": [[0.0, \"#0d0887\"], [0.1111111111111111, \"#46039f\"], [0.2222222222222222, \"#7201a8\"], [0.3333333333333333, \"#9c179e\"], [0.4444444444444444, \"#bd3786\"], [0.5555555555555556, \"#d8576b\"], [0.6666666666666666, \"#ed7953\"], [0.7777777777777778, \"#fb9f3a\"], [0.8888888888888888, \"#fdca26\"], [1.0, \"#f0f921\"]], \"type\": \"histogram2dcontour\"}], \"mesh3d\": [{\"colorbar\": {\"outlinewidth\": 0, \"ticks\": \"\"}, \"type\": \"mesh3d\"}], \"parcoords\": [{\"line\": {\"colorbar\": {\"outlinewidth\": 0, \"ticks\": \"\"}}, \"type\": \"parcoords\"}], \"pie\": [{\"automargin\": true, \"type\": \"pie\"}], \"scatter\": [{\"marker\": {\"colorbar\": {\"outlinewidth\": 0, \"ticks\": \"\"}}, \"type\": \"scatter\"}], \"scatter3d\": [{\"line\": {\"colorbar\": {\"outlinewidth\": 0, \"ticks\": \"\"}}, \"marker\": {\"colorbar\": {\"outlinewidth\": 0, \"ticks\": \"\"}}, \"type\": \"scatter3d\"}], \"scattercarpet\": [{\"marker\": {\"colorbar\": {\"outlinewidth\": 0, \"ticks\": \"\"}}, \"type\": \"scattercarpet\"}], \"scattergeo\": [{\"marker\": {\"colorbar\": {\"outlinewidth\": 0, \"ticks\": \"\"}}, \"type\": \"scattergeo\"}], \"scattergl\": [{\"marker\": {\"colorbar\": {\"outlinewidth\": 0, \"ticks\": \"\"}}, \"type\": \"scattergl\"}], \"scattermapbox\": [{\"marker\": {\"colorbar\": {\"outlinewidth\": 0, \"ticks\": \"\"}}, \"type\": \"scattermapbox\"}], \"scatterpolar\": [{\"marker\": {\"colorbar\": {\"outlinewidth\": 0, \"ticks\": \"\"}}, \"type\": \"scatterpolar\"}], \"scatterpolargl\": [{\"marker\": {\"colorbar\": {\"outlinewidth\": 0, \"ticks\": \"\"}}, \"type\": \"scatterpolargl\"}], \"scatterternary\": [{\"marker\": {\"colorbar\": {\"outlinewidth\": 0, \"ticks\": \"\"}}, \"type\": \"scatterternary\"}], \"surface\": [{\"colorbar\": {\"outlinewidth\": 0, \"ticks\": \"\"}, \"colorscale\": [[0.0, \"#0d0887\"], [0.1111111111111111, \"#46039f\"], [0.2222222222222222, \"#7201a8\"], [0.3333333333333333, \"#9c179e\"], [0.4444444444444444, \"#bd3786\"], [0.5555555555555556, \"#d8576b\"], [0.6666666666666666, \"#ed7953\"], [0.7777777777777778, \"#fb9f3a\"], [0.8888888888888888, \"#fdca26\"], [1.0, \"#f0f921\"]], \"type\": \"surface\"}], \"table\": [{\"cells\": {\"fill\": {\"color\": \"#EBF0F8\"}, \"line\": {\"color\": \"white\"}}, \"header\": {\"fill\": {\"color\": \"#C8D4E3\"}, \"line\": {\"color\": \"white\"}}, \"type\": \"table\"}]}, \"layout\": {\"annotationdefaults\": {\"arrowcolor\": \"#2a3f5f\", \"arrowhead\": 0, \"arrowwidth\": 1}, \"autotypenumbers\": \"strict\", \"coloraxis\": {\"colorbar\": {\"outlinewidth\": 0, \"ticks\": \"\"}}, \"colorscale\": {\"diverging\": [[0, \"#8e0152\"], [0.1, \"#c51b7d\"], [0.2, \"#de77ae\"], [0.3, \"#f1b6da\"], [0.4, \"#fde0ef\"], [0.5, \"#f7f7f7\"], [0.6, \"#e6f5d0\"], [0.7, \"#b8e186\"], [0.8, \"#7fbc41\"], [0.9, \"#4d9221\"], [1, \"#276419\"]], \"sequential\": [[0.0, \"#0d0887\"], [0.1111111111111111, \"#46039f\"], [0.2222222222222222, \"#7201a8\"], [0.3333333333333333, \"#9c179e\"], [0.4444444444444444, \"#bd3786\"], [0.5555555555555556, \"#d8576b\"], [0.6666666666666666, \"#ed7953\"], [0.7777777777777778, \"#fb9f3a\"], [0.8888888888888888, \"#fdca26\"], [1.0, \"#f0f921\"]], \"sequentialminus\": [[0.0, \"#0d0887\"], [0.1111111111111111, \"#46039f\"], [0.2222222222222222, \"#7201a8\"], [0.3333333333333333, \"#9c179e\"], [0.4444444444444444, \"#bd3786\"], [0.5555555555555556, \"#d8576b\"], [0.6666666666666666, \"#ed7953\"], [0.7777777777777778, \"#fb9f3a\"], [0.8888888888888888, \"#fdca26\"], [1.0, \"#f0f921\"]]}, \"colorway\": [\"#636efa\", \"#EF553B\", \"#00cc96\", \"#ab63fa\", \"#FFA15A\", \"#19d3f3\", \"#FF6692\", \"#B6E880\", \"#FF97FF\", \"#FECB52\"], \"font\": {\"color\": \"#2a3f5f\"}, \"geo\": {\"bgcolor\": \"white\", \"lakecolor\": \"white\", \"landcolor\": \"#E5ECF6\", \"showlakes\": true, \"showland\": true, \"subunitcolor\": \"white\"}, \"hoverlabel\": {\"align\": \"left\"}, \"hovermode\": \"closest\", \"mapbox\": {\"style\": \"light\"}, \"paper_bgcolor\": \"white\", \"plot_bgcolor\": \"#E5ECF6\", \"polar\": {\"angularaxis\": {\"gridcolor\": \"white\", \"linecolor\": \"white\", \"ticks\": \"\"}, \"bgcolor\": \"#E5ECF6\", \"radialaxis\": {\"gridcolor\": \"white\", \"linecolor\": \"white\", \"ticks\": \"\"}}, \"scene\": {\"xaxis\": {\"backgroundcolor\": \"#E5ECF6\", \"gridcolor\": \"white\", \"gridwidth\": 2, \"linecolor\": \"white\", \"showbackground\": true, \"ticks\": \"\", \"zerolinecolor\": \"white\"}, \"yaxis\": {\"backgroundcolor\": \"#E5ECF6\", \"gridcolor\": \"white\", \"gridwidth\": 2, \"linecolor\": \"white\", \"showbackground\": true, \"ticks\": \"\", \"zerolinecolor\": \"white\"}, \"zaxis\": {\"backgroundcolor\": \"#E5ECF6\", \"gridcolor\": \"white\", \"gridwidth\": 2, \"linecolor\": \"white\", \"showbackground\": true, \"ticks\": \"\", \"zerolinecolor\": \"white\"}}, \"shapedefaults\": {\"line\": {\"color\": \"#2a3f5f\"}}, \"ternary\": {\"aaxis\": {\"gridcolor\": \"white\", \"linecolor\": \"white\", \"ticks\": \"\"}, \"baxis\": {\"gridcolor\": \"white\", \"linecolor\": \"white\", \"ticks\": \"\"}, \"bgcolor\": \"#E5ECF6\", \"caxis\": {\"gridcolor\": \"white\", \"linecolor\": \"white\", \"ticks\": \"\"}}, \"title\": {\"x\": 0.05}, \"xaxis\": {\"automargin\": true, \"gridcolor\": \"white\", \"linecolor\": \"white\", \"ticks\": \"\", \"title\": {\"standoff\": 15}, \"zerolinecolor\": \"white\", \"zerolinewidth\": 2}, \"yaxis\": {\"automargin\": true, \"gridcolor\": \"white\", \"linecolor\": \"white\", \"ticks\": \"\", \"title\": {\"standoff\": 15}, \"zerolinecolor\": \"white\", \"zerolinewidth\": 2}}}, \"title\": {\"font\": {\"color\": \"#4D5663\"}}, \"xaxis\": {\"gridcolor\": \"#E1E5ED\", \"showgrid\": true, \"tickfont\": {\"color\": \"#4D5663\"}, \"title\": {\"font\": {\"color\": \"#4D5663\"}, \"text\": \"\"}, \"zerolinecolor\": \"#E1E5ED\"}, \"yaxis\": {\"gridcolor\": \"#E1E5ED\", \"showgrid\": true, \"tickfont\": {\"color\": \"#4D5663\"}, \"title\": {\"font\": {\"color\": \"#4D5663\"}, \"text\": \"\"}, \"zerolinecolor\": \"#E1E5ED\"}},                        {\"showLink\": true, \"linkText\": \"Export to plot.ly\", \"plotlyServerURL\": \"https://plot.ly\", \"responsive\": true}                    ).then(function(){\n",
       "                            \n",
       "var gd = document.getElementById('6a2d4a0a-de97-4208-aaac-f87333011eb7');\n",
       "var x = new MutationObserver(function (mutations, observer) {{\n",
       "        var display = window.getComputedStyle(gd).display;\n",
       "        if (!display || display === 'none') {{\n",
       "            console.log([gd, 'removed!']);\n",
       "            Plotly.purge(gd);\n",
       "            observer.disconnect();\n",
       "        }}\n",
       "}});\n",
       "\n",
       "// Listen for the removal of the full notebook cells\n",
       "var notebookContainer = gd.closest('#notebook-container');\n",
       "if (notebookContainer) {{\n",
       "    x.observe(notebookContainer, {childList: true});\n",
       "}}\n",
       "\n",
       "// Listen for the clearing of the current output cell\n",
       "var outputEl = gd.closest('.output');\n",
       "if (outputEl) {{\n",
       "    x.observe(outputEl, {childList: true});\n",
       "}}\n",
       "\n",
       "                        })                };                });            </script>        </div>"
      ]
     },
     "metadata": {},
     "output_type": "display_data"
    }
   ],
   "source": [
    "bank_stocks['BAC']['Close'].loc['2015-01-01':'2016-01-01'].ta_plot(study='boll')"
   ]
  },
  {
   "cell_type": "code",
   "execution_count": null,
   "metadata": {},
   "outputs": [],
   "source": []
  }
 ],
 "metadata": {
  "kernelspec": {
   "display_name": "Python 3",
   "language": "python",
   "name": "python3"
  },
  "language_info": {
   "codemirror_mode": {
    "name": "ipython",
    "version": 3
   },
   "file_extension": ".py",
   "mimetype": "text/x-python",
   "name": "python",
   "nbconvert_exporter": "python",
   "pygments_lexer": "ipython3",
   "version": "3.8.3"
  }
 },
 "nbformat": 4,
 "nbformat_minor": 4
}
